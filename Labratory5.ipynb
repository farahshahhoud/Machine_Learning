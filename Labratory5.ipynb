{
  "nbformat": 4,
  "nbformat_minor": 0,
  "metadata": {
    "colab": {
      "name": "Labratory5.ipynb",
      "provenance": [],
      "collapsed_sections": [],
      "authorship_tag": "ABX9TyMExCUFE8KYlAzZCuJedh+O",
      "include_colab_link": true
    },
    "kernelspec": {
      "name": "python3",
      "display_name": "Python 3"
    }
  },
  "cells": [
    {
      "cell_type": "markdown",
      "metadata": {
        "id": "view-in-github",
        "colab_type": "text"
      },
      "source": [
        "<a href=\"https://colab.research.google.com/github/farahshahhoud/Machine_Learning/blob/master/Labratory5.ipynb\" target=\"_parent\"><img src=\"https://colab.research.google.com/assets/colab-badge.svg\" alt=\"Open In Colab\"/></a>"
      ]
    },
    {
      "cell_type": "markdown",
      "metadata": {
        "id": "rrWS0oqnRFqa",
        "colab_type": "text"
      },
      "source": [
        "#Цель лабораторной работы:\n",
        "изучение линейных моделей, SVM и деревьев решений."
      ]
    },
    {
      "cell_type": "code",
      "metadata": {
        "id": "R_eornX9We6f",
        "colab_type": "code",
        "colab": {}
      },
      "source": [
        "import numpy as np\n",
        "import pandas as pd\n",
        "import seaborn as sns\n",
        "import matplotlib.pyplot as plt\n",
        "from typing import Dict, Tuple\n",
        "from sklearn.preprocessing import MinMaxScaler\n",
        "from sklearn.linear_model import LinearRegression, LogisticRegression\n",
        "from sklearn.model_selection import train_test_split\n",
        "from sklearn.neighbors import KNeighborsRegressor, KNeighborsClassifier\n",
        "from sklearn.metrics import accuracy_score, balanced_accuracy_score\n",
        "from sklearn.metrics import precision_score, recall_score, f1_score, classification_report\n",
        "from sklearn.metrics import confusion_matrix\n",
        "from sklearn.metrics import plot_confusion_matrix\n",
        "from sklearn.model_selection import GridSearchCV\n",
        "from sklearn.metrics import mean_absolute_error, mean_squared_error, mean_squared_log_error, median_absolute_error, r2_score \n",
        "from sklearn.metrics import roc_curve, roc_auc_score\n",
        "from sklearn.svm import SVC, NuSVC, LinearSVC, OneClassSVM, SVR, NuSVR, LinearSVR\n",
        "from sklearn.tree import DecisionTreeClassifier, DecisionTreeRegressor, export_graphviz\n",
        "from sklearn.ensemble import RandomForestClassifier, RandomForestRegressor\n",
        "from sklearn.ensemble import ExtraTreesClassifier, ExtraTreesRegressor\n",
        "from sklearn.ensemble import GradientBoostingClassifier, GradientBoostingRegressor\n",
        "from sklearn.linear_model import RidgeClassifier\n",
        "%matplotlib inline \n",
        "sns.set(style=\"ticks\")\n",
        "import warnings\n",
        "warnings.filterwarnings('ignore')"
      ],
      "execution_count": 0,
      "outputs": []
    },
    {
      "cell_type": "markdown",
      "metadata": {
        "id": "CWi-RtikRKO7",
        "colab_type": "text"
      },
      "source": [
        "#Набор данных\n",
        "Наш набор данных с веб-сайта https://archive.ics.uci.edu/ml/datasets.php. Набор данных относится к клиентам оптового дистрибьютора. Он включает ежегодные расходы в денежных единицах (млн. Ед.) На различные товарные категории. Мы будем использовать столбцы набора данных для классификации признак \"Channel\"."
      ]
    },
    {
      "cell_type": "code",
      "metadata": {
        "id": "NaCh4Qkg5ZyJ",
        "colab_type": "code",
        "colab": {}
      },
      "source": [
        "data=pd.read_csv('https://archive.ics.uci.edu/ml/machine-learning-databases/00292/Wholesale%20customers%20data.csv')"
      ],
      "execution_count": 0,
      "outputs": []
    },
    {
      "cell_type": "code",
      "metadata": {
        "id": "SadudBe44zff",
        "colab_type": "code",
        "outputId": "6b79ba69-9fe5-4127-8f92-fdafaafaa5f2",
        "colab": {
          "base_uri": "https://localhost:8080/",
          "height": 204
        }
      },
      "source": [
        "data.head()"
      ],
      "execution_count": 4,
      "outputs": [
        {
          "output_type": "execute_result",
          "data": {
            "text/html": [
              "<div>\n",
              "<style scoped>\n",
              "    .dataframe tbody tr th:only-of-type {\n",
              "        vertical-align: middle;\n",
              "    }\n",
              "\n",
              "    .dataframe tbody tr th {\n",
              "        vertical-align: top;\n",
              "    }\n",
              "\n",
              "    .dataframe thead th {\n",
              "        text-align: right;\n",
              "    }\n",
              "</style>\n",
              "<table border=\"1\" class=\"dataframe\">\n",
              "  <thead>\n",
              "    <tr style=\"text-align: right;\">\n",
              "      <th></th>\n",
              "      <th>Channel</th>\n",
              "      <th>Region</th>\n",
              "      <th>Fresh</th>\n",
              "      <th>Milk</th>\n",
              "      <th>Grocery</th>\n",
              "      <th>Frozen</th>\n",
              "      <th>Detergents_Paper</th>\n",
              "      <th>Delicassen</th>\n",
              "    </tr>\n",
              "  </thead>\n",
              "  <tbody>\n",
              "    <tr>\n",
              "      <th>0</th>\n",
              "      <td>2</td>\n",
              "      <td>3</td>\n",
              "      <td>12669</td>\n",
              "      <td>9656</td>\n",
              "      <td>7561</td>\n",
              "      <td>214</td>\n",
              "      <td>2674</td>\n",
              "      <td>1338</td>\n",
              "    </tr>\n",
              "    <tr>\n",
              "      <th>1</th>\n",
              "      <td>2</td>\n",
              "      <td>3</td>\n",
              "      <td>7057</td>\n",
              "      <td>9810</td>\n",
              "      <td>9568</td>\n",
              "      <td>1762</td>\n",
              "      <td>3293</td>\n",
              "      <td>1776</td>\n",
              "    </tr>\n",
              "    <tr>\n",
              "      <th>2</th>\n",
              "      <td>2</td>\n",
              "      <td>3</td>\n",
              "      <td>6353</td>\n",
              "      <td>8808</td>\n",
              "      <td>7684</td>\n",
              "      <td>2405</td>\n",
              "      <td>3516</td>\n",
              "      <td>7844</td>\n",
              "    </tr>\n",
              "    <tr>\n",
              "      <th>3</th>\n",
              "      <td>1</td>\n",
              "      <td>3</td>\n",
              "      <td>13265</td>\n",
              "      <td>1196</td>\n",
              "      <td>4221</td>\n",
              "      <td>6404</td>\n",
              "      <td>507</td>\n",
              "      <td>1788</td>\n",
              "    </tr>\n",
              "    <tr>\n",
              "      <th>4</th>\n",
              "      <td>2</td>\n",
              "      <td>3</td>\n",
              "      <td>22615</td>\n",
              "      <td>5410</td>\n",
              "      <td>7198</td>\n",
              "      <td>3915</td>\n",
              "      <td>1777</td>\n",
              "      <td>5185</td>\n",
              "    </tr>\n",
              "  </tbody>\n",
              "</table>\n",
              "</div>"
            ],
            "text/plain": [
              "   Channel  Region  Fresh  Milk  Grocery  Frozen  Detergents_Paper  Delicassen\n",
              "0        2       3  12669  9656     7561     214              2674        1338\n",
              "1        2       3   7057  9810     9568    1762              3293        1776\n",
              "2        2       3   6353  8808     7684    2405              3516        7844\n",
              "3        1       3  13265  1196     4221    6404               507        1788\n",
              "4        2       3  22615  5410     7198    3915              1777        5185"
            ]
          },
          "metadata": {
            "tags": []
          },
          "execution_count": 4
        }
      ]
    },
    {
      "cell_type": "code",
      "metadata": {
        "id": "-dSSusokboz3",
        "colab_type": "code",
        "outputId": "ba8be72b-2226-4e0b-cba8-19855f513aeb",
        "colab": {
          "base_uri": "https://localhost:8080/",
          "height": 34
        }
      },
      "source": [
        "data.shape"
      ],
      "execution_count": 5,
      "outputs": [
        {
          "output_type": "execute_result",
          "data": {
            "text/plain": [
              "(440, 8)"
            ]
          },
          "metadata": {
            "tags": []
          },
          "execution_count": 5
        }
      ]
    },
    {
      "cell_type": "code",
      "metadata": {
        "id": "BjDy3qhLXEv8",
        "colab_type": "code",
        "outputId": "2c6b5d5b-7bfa-4690-c9a2-713653f2c466",
        "colab": {
          "base_uri": "https://localhost:8080/",
          "height": 68
        }
      },
      "source": [
        "data.columns"
      ],
      "execution_count": 6,
      "outputs": [
        {
          "output_type": "execute_result",
          "data": {
            "text/plain": [
              "Index(['Channel', 'Region', 'Fresh', 'Milk', 'Grocery', 'Frozen',\n",
              "       'Detergents_Paper', 'Delicassen'],\n",
              "      dtype='object')"
            ]
          },
          "metadata": {
            "tags": []
          },
          "execution_count": 6
        }
      ]
    },
    {
      "cell_type": "code",
      "metadata": {
        "id": "cP-O9-hdbvKp",
        "colab_type": "code",
        "outputId": "ab09d205-277d-4040-87d8-253c3cbf4e29",
        "colab": {
          "base_uri": "https://localhost:8080/",
          "height": 170
        }
      },
      "source": [
        "data.dtypes"
      ],
      "execution_count": 7,
      "outputs": [
        {
          "output_type": "execute_result",
          "data": {
            "text/plain": [
              "Channel             int64\n",
              "Region              int64\n",
              "Fresh               int64\n",
              "Milk                int64\n",
              "Grocery             int64\n",
              "Frozen              int64\n",
              "Detergents_Paper    int64\n",
              "Delicassen          int64\n",
              "dtype: object"
            ]
          },
          "metadata": {
            "tags": []
          },
          "execution_count": 7
        }
      ]
    },
    {
      "cell_type": "code",
      "metadata": {
        "id": "fM_JHRbJbyF3",
        "colab_type": "code",
        "outputId": "e8a6226e-d66c-43cc-a5e1-db09bd396186",
        "colab": {
          "base_uri": "https://localhost:8080/",
          "height": 170
        }
      },
      "source": [
        "data.isnull().sum()"
      ],
      "execution_count": 8,
      "outputs": [
        {
          "output_type": "execute_result",
          "data": {
            "text/plain": [
              "Channel             0\n",
              "Region              0\n",
              "Fresh               0\n",
              "Milk                0\n",
              "Grocery             0\n",
              "Frozen              0\n",
              "Detergents_Paper    0\n",
              "Delicassen          0\n",
              "dtype: int64"
            ]
          },
          "metadata": {
            "tags": []
          },
          "execution_count": 8
        }
      ]
    },
    {
      "cell_type": "markdown",
      "metadata": {
        "id": "dzz0TZ0-R_AY",
        "colab_type": "text"
      },
      "source": [
        "База данных не содержит отсутствующих переменных или переменных категории. Мы можем работать с набором данных напрямую."
      ]
    },
    {
      "cell_type": "code",
      "metadata": {
        "id": "rY0F6CLsb7kU",
        "colab_type": "code",
        "outputId": "b6dddd8d-51bd-48c1-ce4d-f9af937f1cdf",
        "colab": {
          "base_uri": "https://localhost:8080/",
          "height": 34
        }
      },
      "source": [
        "np.unique(data.Channel)"
      ],
      "execution_count": 9,
      "outputs": [
        {
          "output_type": "execute_result",
          "data": {
            "text/plain": [
              "array([1, 2])"
            ]
          },
          "metadata": {
            "tags": []
          },
          "execution_count": 9
        }
      ]
    },
    {
      "cell_type": "markdown",
      "metadata": {
        "id": "1sZskkeLSWsQ",
        "colab_type": "text"
      },
      "source": [
        "Классы классификации состоят только из двух значений (1 или 2)"
      ]
    },
    {
      "cell_type": "markdown",
      "metadata": {
        "id": "sAln1c-nSajb",
        "colab_type": "text"
      },
      "source": [
        "#Разделите выборку на обучающую и тестовую"
      ]
    },
    {
      "cell_type": "code",
      "metadata": {
        "id": "rMr5IMireKsF",
        "colab_type": "code",
        "colab": {}
      },
      "source": [
        "X_train, X_test, y_train, y_test = train_test_split(data[[ 'Region', 'Fresh',\n",
        "                      'Milk', 'Grocery', 'Frozen',\n",
        "                  'Detergents_Paper', 'Delicassen']], data['Channel'],\n",
        "                   test_size=0.7, random_state=3)"
      ],
      "execution_count": 0,
      "outputs": []
    },
    {
      "cell_type": "code",
      "metadata": {
        "id": "gt9Nr3MfHGaY",
        "colab_type": "code",
        "colab": {}
      },
      "source": [
        "target=data[['Channel']]"
      ],
      "execution_count": 0,
      "outputs": []
    },
    {
      "cell_type": "code",
      "metadata": {
        "id": "1Zc1qtWCHJC3",
        "colab_type": "code",
        "colab": {}
      },
      "source": [
        "dataOnly=data[[ 'Region', 'Fresh',\n",
        "                      'Milk', 'Grocery', 'Frozen',\n",
        "                  'Detergents_Paper', 'Delicassen']]"
      ],
      "execution_count": 0,
      "outputs": []
    },
    {
      "cell_type": "code",
      "metadata": {
        "id": "h2j-brmfttex",
        "colab_type": "code",
        "outputId": "a2a1e281-1d93-4132-e385-ee8a50aadfc5",
        "colab": {
          "base_uri": "https://localhost:8080/",
          "height": 34
        }
      },
      "source": [
        "X_train.shape, y_train.shape"
      ],
      "execution_count": 13,
      "outputs": [
        {
          "output_type": "execute_result",
          "data": {
            "text/plain": [
              "((132, 7), (132,))"
            ]
          },
          "metadata": {
            "tags": []
          },
          "execution_count": 13
        }
      ]
    },
    {
      "cell_type": "code",
      "metadata": {
        "id": "RN67m2Dmtvk2",
        "colab_type": "code",
        "outputId": "b87a2d90-ea60-4a18-8514-d7012ad20074",
        "colab": {
          "base_uri": "https://localhost:8080/",
          "height": 34
        }
      },
      "source": [
        "X_test.shape, y_test.shape"
      ],
      "execution_count": 14,
      "outputs": [
        {
          "output_type": "execute_result",
          "data": {
            "text/plain": [
              "((308, 7), (308,))"
            ]
          },
          "metadata": {
            "tags": []
          },
          "execution_count": 14
        }
      ]
    },
    {
      "cell_type": "code",
      "metadata": {
        "id": "STHuNprB2TvD",
        "colab_type": "code",
        "outputId": "5cb793e1-e8a8-4758-862f-ad718b2cfddb",
        "colab": {
          "base_uri": "https://localhost:8080/",
          "height": 34
        }
      },
      "source": [
        "np.unique(y_train)"
      ],
      "execution_count": 15,
      "outputs": [
        {
          "output_type": "execute_result",
          "data": {
            "text/plain": [
              "array([1, 2])"
            ]
          },
          "metadata": {
            "tags": []
          },
          "execution_count": 15
        }
      ]
    },
    {
      "cell_type": "code",
      "metadata": {
        "id": "XCO7v3O42aAo",
        "colab_type": "code",
        "outputId": "cf09218a-f76e-4155-eb43-19dbfee4f8ec",
        "colab": {
          "base_uri": "https://localhost:8080/",
          "height": 34
        }
      },
      "source": [
        "np.unique(y_test)"
      ],
      "execution_count": 16,
      "outputs": [
        {
          "output_type": "execute_result",
          "data": {
            "text/plain": [
              "array([1, 2])"
            ]
          },
          "metadata": {
            "tags": []
          },
          "execution_count": 16
        }
      ]
    },
    {
      "cell_type": "markdown",
      "metadata": {
        "id": "mofumtVfSg-G",
        "colab_type": "text"
      },
      "source": [
        "#Обучиние"
      ]
    },
    {
      "cell_type": "markdown",
      "metadata": {
        "id": "8lHu3SsjStEi",
        "colab_type": "text"
      },
      "source": [
        "Сначала давайте посмотрим, сколько значений в каждом классе."
      ]
    },
    {
      "cell_type": "code",
      "metadata": {
        "id": "DLTIr5eotHBx",
        "colab_type": "code",
        "colab": {}
      },
      "source": [
        "def class_proportions(array: np.ndarray) -> Dict[int, Tuple[int, float]]:\n",
        "    \"\"\"\n",
        "    Вычисляет пропорции классов\n",
        "    array - массив, содержащий метки классов\n",
        "    \"\"\"\n",
        "    # Получение меток классов и количества меток каждого класса \n",
        "    labels, counts = np.unique(array, return_counts=True)\n",
        "    # Превращаем количество меток в процент их встречаемости\n",
        "    # делим количество меток каждого класса на общее количество меток\n",
        "    counts_perc = counts/array.size\n",
        "    # Теперь sum(counts_perc)==1.0\n",
        "    # Создаем результирующий словарь,\n",
        "    # ключом словаря явлется метка класса, \n",
        "    # а значением словаря процент встречаемости метки\n",
        "    res = dict()\n",
        "    for label, count2 in zip(labels, zip(counts, counts_perc)):\n",
        "        res[label] = count2\n",
        "    return res\n",
        "\n",
        "def print_class_proportions(array: np.ndarray):\n",
        "    \"\"\"\n",
        "    Вывод пропорций классов\n",
        "    \"\"\"\n",
        "    proportions = class_proportions(array)\n",
        "    if len(proportions)>0:\n",
        "        print('Метка \\t Количество \\t Процент встречаемости')\n",
        "    for i in proportions:\n",
        "        val, val_perc = proportions[i]\n",
        "        val_perc_100 = round(val_perc * 100, 2)\n",
        "        print('{} \\t {} \\t \\t {}%'.format(i, val, val_perc_100))"
      ],
      "execution_count": 0,
      "outputs": []
    },
    {
      "cell_type": "code",
      "metadata": {
        "id": "P9t2Ta50tMyx",
        "colab_type": "code",
        "outputId": "44085af5-bec3-4055-da67-980c2a7b82ce",
        "colab": {
          "base_uri": "https://localhost:8080/",
          "height": 68
        }
      },
      "source": [
        "print_class_proportions(data.Channel)"
      ],
      "execution_count": 18,
      "outputs": [
        {
          "output_type": "stream",
          "text": [
            "Метка \t Количество \t Процент встречаемости\n",
            "1 \t 298 \t \t 67.73%\n",
            "2 \t 142 \t \t 32.27%\n"
          ],
          "name": "stdout"
        }
      ]
    },
    {
      "cell_type": "markdown",
      "metadata": {
        "id": "cMLXsYQmS4vc",
        "colab_type": "text"
      },
      "source": [
        "Таким образом, в наборе данных есть небольшой уклон (bias)"
      ]
    },
    {
      "cell_type": "markdown",
      "metadata": {
        "id": "aYxH1INUS9cG",
        "colab_type": "text"
      },
      "source": [
        "##Оценка качества моделей "
      ]
    },
    {
      "cell_type": "markdown",
      "metadata": {
        "id": "x9bsrgDjTeCU",
        "colab_type": "text"
      },
      "source": [
        "для оценки качества каждого классификатора. Мы будем использовать precision, recall, f1 и Roc Auc.   \n",
        "В дополнение к этому мы увидим оценку точности для двух классов отдельно."
      ]
    },
    {
      "cell_type": "code",
      "metadata": {
        "id": "LK6-L-W7xGa8",
        "colab_type": "code",
        "colab": {}
      },
      "source": [
        "class MetricLogger:\n",
        "    \n",
        "    def __init__(self):\n",
        "        self.df = pd.DataFrame(\n",
        "            {'metric': pd.Series([], dtype='str'),\n",
        "            'alg': pd.Series([], dtype='str'),\n",
        "            'value': pd.Series([], dtype='float')})\n",
        "\n",
        "    def add(self, metric, alg, value):\n",
        "        \"\"\"\n",
        "        Добавление значения\n",
        "        \"\"\"\n",
        "        # Удаление значения если оно уже было ранее добавлено\n",
        "        self.df.drop(self.df[(self.df['metric']==metric)&(self.df['alg']==alg)].index, inplace = True)\n",
        "        # Добавление нового значения\n",
        "        temp = [{'metric':metric, 'alg':alg, 'value':value}]\n",
        "        self.df = self.df.append(temp, ignore_index=True)\n",
        "\n",
        "    def get_data_for_metric(self, metric, ascending=True):\n",
        "        \"\"\"\n",
        "        Формирование данных с фильтром по метрике\n",
        "        \"\"\"\n",
        "        temp_data = self.df[self.df['metric']==metric]\n",
        "        temp_data_2 = temp_data.sort_values(by='value', ascending=ascending)\n",
        "        return temp_data_2['alg'].values, temp_data_2['value'].values\n",
        "    \n",
        "    def plot(self, str_header, metric, ascending=True, figsize=(5, 5)):\n",
        "        \"\"\"\n",
        "        Вывод графика\n",
        "        \"\"\"\n",
        "        array_labels, array_metric = self.get_data_for_metric(metric, ascending)\n",
        "        fig, ax1 = plt.subplots(figsize=figsize)\n",
        "        pos = np.arange(len(array_metric))\n",
        "        rects = ax1.barh(pos, array_metric,\n",
        "                         align='center',\n",
        "                         height=0.5, \n",
        "                         tick_label=array_labels)\n",
        "        ax1.set_title(str_header)\n",
        "        for a,b in zip(pos, array_metric):\n",
        "            plt.text(0.5, a-0.05, str(round(b,3)), color='white')\n",
        "        plt.show() "
      ],
      "execution_count": 0,
      "outputs": []
    },
    {
      "cell_type": "code",
      "metadata": {
        "id": "zJmNzB1SuPtr",
        "colab_type": "code",
        "colab": {}
      },
      "source": [
        "def accuracy_score_for_classes(\n",
        "    y_true: np.ndarray, \n",
        "    y_pred: np.ndarray) -> Dict[int, float]:\n",
        "    \"\"\"\n",
        "    Вычисление метрики accuracy для каждого класса\n",
        "    y_true - истинные значения классов\n",
        "    y_pred - предсказанные значения классов\n",
        "    Возвращает словарь: ключ - метка класса, \n",
        "    значение - Accuracy для данного класса\n",
        "    \"\"\"\n",
        "    # Для удобства фильтрации сформируем Pandas DataFrame \n",
        "    d = {'t': y_true, 'p': y_pred}\n",
        "    df = pd.DataFrame(data=d)\n",
        "    # Метки классов\n",
        "    classes = np.unique(y_true)\n",
        "    # Результирующий словарь\n",
        "    res = dict()\n",
        "    # Перебор меток классов\n",
        "    for c in classes:\n",
        "        # отфильтруем данные, которые соответствуют \n",
        "        # текущей метке класса в истинных значениях\n",
        "        temp_data_flt = df[df['t']==c]\n",
        "        # расчет accuracy для заданной метки класса\n",
        "        temp_acc = accuracy_score(\n",
        "            temp_data_flt['t'].values, \n",
        "            temp_data_flt['p'].values)\n",
        "        # сохранение результата в словарь\n",
        "        res[c] = temp_acc\n",
        "    return res\n",
        "\n",
        "def print_accuracy_score_for_classes(\n",
        "    y_true: np.ndarray, \n",
        "    y_pred: np.ndarray):\n",
        "    \"\"\"\n",
        "    Вывод метрики accuracy для каждого класса\n",
        "    \"\"\"\n",
        "    accs = accuracy_score_for_classes(y_true, y_pred)\n",
        "    if len(accs)>0:\n",
        "        print('Метка \\t Accuracy')\n",
        "    for i in accs:\n",
        "        print('{} \\t {}'.format(i, accs[i]))"
      ],
      "execution_count": 0,
      "outputs": []
    },
    {
      "cell_type": "code",
      "metadata": {
        "id": "YKNGiqnxvIDI",
        "colab_type": "code",
        "colab": {}
      },
      "source": [
        "labels=[1,2]"
      ],
      "execution_count": 0,
      "outputs": []
    },
    {
      "cell_type": "markdown",
      "metadata": {
        "id": "z1pOgfuBWyzI",
        "colab_type": "text"
      },
      "source": [
        "##модели классификаторов"
      ]
    },
    {
      "cell_type": "code",
      "metadata": {
        "id": "LCSEXac6exDZ",
        "colab_type": "code",
        "colab": {}
      },
      "source": [
        "from sklearn import svm\n",
        "clas_models = { 'LR': LogisticRegression(),\n",
        "               'SVC':svm.SVC(decision_function_shape='ovo'),\n",
        "               'Tree':DecisionTreeClassifier()}"
      ],
      "execution_count": 0,
      "outputs": []
    },
    {
      "cell_type": "code",
      "metadata": {
        "id": "a39oecIJxMvc",
        "colab_type": "code",
        "colab": {}
      },
      "source": [
        "clasMetricLogger = MetricLogger()"
      ],
      "execution_count": 0,
      "outputs": []
    },
    {
      "cell_type": "code",
      "metadata": {
        "id": "fJK524mO8G6a",
        "colab_type": "code",
        "colab": {}
      },
      "source": [
        "def draw_roc_curve(y_true, y_score, pos_label=1, average='micro'):\n",
        "    fpr, tpr, thresholds = roc_curve(y_true, y_score, \n",
        "                                     pos_label=pos_label)\n",
        "    roc_auc_value = roc_auc_score(y_true, y_score, average=average)\n",
        "    plt.figure()\n",
        "    lw = 2\n",
        "    plt.plot(fpr, tpr, color='darkorange',\n",
        "             lw=lw, label='ROC curve (area = %0.2f)' % roc_auc_value)\n",
        "    plt.plot([0, 1], [0, 1], color='navy', lw=lw, linestyle='--')\n",
        "    plt.xlim([0.0, 1.0])\n",
        "    plt.ylim([0.0, 1.05])\n",
        "    plt.xlabel('False Positive Rate')\n",
        "    plt.ylabel('True Positive Rate')\n",
        "    plt.title('Receiver operating characteristic')\n",
        "    plt.legend(loc=\"lower right\")\n",
        "    plt.show()"
      ],
      "execution_count": 0,
      "outputs": []
    },
    {
      "cell_type": "code",
      "metadata": {
        "id": "-CfyRvLHxObY",
        "colab_type": "code",
        "colab": {}
      },
      "source": [
        "def clas_train_model(model_name, model, clasMetricLogger):\n",
        "    model.fit(X_train, y_train)\n",
        "    Y_pred = model.predict(X_test)\n",
        "    print_accuracy_score_for_classes(y_test, Y_pred)\n",
        "    precision = precision_score(y_test.values, Y_pred)\n",
        "    recall = recall_score(y_test.values, Y_pred)\n",
        "    f1 = f1_score(y_test.values, Y_pred)\n",
        "    roc_auc = roc_auc_score(y_test.values, Y_pred)\n",
        "    \n",
        "    clasMetricLogger.add('precision', model_name, precision)\n",
        "    clasMetricLogger.add('recall', model_name, recall)\n",
        "    clasMetricLogger.add('f1', model_name, f1)\n",
        "    clasMetricLogger.add('roc_auc', model_name, roc_auc)\n",
        "\n",
        "    print('*****************************************************')\n",
        "    print(model)\n",
        "    print('*****************************************************')\n",
        "    \n",
        "    draw_roc_curve(y_test.values, Y_pred)\n",
        "    \n",
        "    plot_confusion_matrix(model,X_test, y_test.values, \n",
        "                      display_labels=['0','1'], \n",
        "                      cmap=plt.cm.Blues, normalize='true')\n",
        "    plt.show()"
      ],
      "execution_count": 0,
      "outputs": []
    },
    {
      "cell_type": "code",
      "metadata": {
        "id": "TAPy7pgvxQs8",
        "colab_type": "code",
        "outputId": "5f99f548-5e79-4669-aaa9-4687b1a23573",
        "colab": {
          "base_uri": "https://localhost:8080/",
          "height": 1000
        }
      },
      "source": [
        "for model_name, model in clas_models.items():\n",
        "    clas_train_model(model_name, model, clasMetricLogger)"
      ],
      "execution_count": 26,
      "outputs": [
        {
          "output_type": "stream",
          "text": [
            "Метка \t Accuracy\n",
            "1 \t 0.9306930693069307\n",
            "2 \t 0.8207547169811321\n",
            "*****************************************************\n",
            "LogisticRegression(C=1.0, class_weight=None, dual=False, fit_intercept=True,\n",
            "                   intercept_scaling=1, l1_ratio=None, max_iter=100,\n",
            "                   multi_class='auto', n_jobs=None, penalty='l2',\n",
            "                   random_state=None, solver='lbfgs', tol=0.0001, verbose=0,\n",
            "                   warm_start=False)\n",
            "*****************************************************\n"
          ],
          "name": "stdout"
        },
        {
          "output_type": "display_data",
          "data": {
            "image/png": "[encoded data removed]",
            "text/plain": [
              "<Figure size 432x288 with 1 Axes>"
            ]
          },
          "metadata": {
            "tags": []
          }
        },
        {
          "output_type": "display_data",
          "data": {
            "image/png": "[encoded data removed]",
            "text/plain": [
              "<Figure size 432x288 with 2 Axes>"
            ]
          },
          "metadata": {
            "tags": []
          }
        },
        {
          "output_type": "stream",
          "text": [
            "Метка \t Accuracy\n",
            "1 \t 0.900990099009901\n",
            "2 \t 0.8113207547169812\n",
            "*****************************************************\n",
            "SVC(C=1.0, break_ties=False, cache_size=200, class_weight=None, coef0=0.0,\n",
            "    decision_function_shape='ovo', degree=3, gamma='scale', kernel='rbf',\n",
            "    max_iter=-1, probability=False, random_state=None, shrinking=True,\n",
            "    tol=0.001, verbose=False)\n",
            "*****************************************************\n"
          ],
          "name": "stdout"
        },
        {
          "output_type": "display_data",
          "data": {
            "image/png": "[encoded data removed]",
            "text/plain": [
              "<Figure size 432x288 with 1 Axes>"
            ]
          },
          "metadata": {
            "tags": []
          }
        },
        {
          "output_type": "display_data",
          "data": {
            "image/png": "[encoded data removed]",
            "text/plain": [
              "<Figure size 432x288 with 2 Axes>"
            ]
          },
          "metadata": {
            "tags": []
          }
        },
        {
          "output_type": "stream",
          "text": [
            "Метка \t Accuracy\n",
            "1 \t 0.8861386138613861\n",
            "2 \t 0.8301886792452831\n",
            "*****************************************************\n",
            "DecisionTreeClassifier(ccp_alpha=0.0, class_weight=None, criterion='gini',\n",
            "                       max_depth=None, max_features=None, max_leaf_nodes=None,\n",
            "                       min_impurity_decrease=0.0, min_impurity_split=None,\n",
            "                       min_samples_leaf=1, min_samples_split=2,\n",
            "                       min_weight_fraction_leaf=0.0, presort='deprecated',\n",
            "                       random_state=None, splitter='best')\n",
            "*****************************************************\n"
          ],
          "name": "stdout"
        },
        {
          "output_type": "display_data",
          "data": {
            "image/png": "[encoded data removed]",
            "text/plain": [
              "<Figure size 432x288 with 1 Axes>"
            ]
          },
          "metadata": {
            "tags": []
          }
        },
        {
          "output_type": "display_data",
          "data": {
            "image/png": "[encoded data removed]",
            "text/plain": [
              "<Figure size 432x288 with 2 Axes>"
            ]
          },
          "metadata": {
            "tags": []
          }
        }
      ]
    },
    {
      "cell_type": "code",
      "metadata": {
        "id": "4IeBCI5uxSsx",
        "colab_type": "code",
        "colab": {}
      },
      "source": [
        "clas_metrics = clasMetricLogger.df['metric'].unique()"
      ],
      "execution_count": 0,
      "outputs": []
    },
    {
      "cell_type": "code",
      "metadata": {
        "id": "5CPum6a1ybhS",
        "colab_type": "code",
        "outputId": "b0fd2128-769c-4687-f5f4-03ca1f4ebab2",
        "colab": {
          "base_uri": "https://localhost:8080/",
          "height": 1000
        }
      },
      "source": [
        "for metric in clas_metrics:\n",
        "    clasMetricLogger.plot('Метрика: ' + metric, metric, figsize=(7, 6))"
      ],
      "execution_count": 28,
      "outputs": [
        {
          "output_type": "display_data",
          "data": {
            "image/png": "[encoded data removed]",
            "text/plain": [
              "<Figure size 504x432 with 1 Axes>"
            ]
          },
          "metadata": {
            "tags": []
          }
        },
        {
          "output_type": "display_data",
          "data": {
            "image/png": "[encoded data removed]",
            "text/plain": [
              "<Figure size 504x432 with 1 Axes>"
            ]
          },
          "metadata": {
            "tags": []
          }
        },
        {
          "output_type": "display_data",
          "data": {
            "image/png": "[encoded data removed]",
            "text/plain": [
              "<Figure size 504x432 with 1 Axes>"
            ]
          },
          "metadata": {
            "tags": []
          }
        },
        {
          "output_type": "display_data",
          "data": {
            "image/png": "[encoded data removed]",
            "text/plain": [
              "<Figure size 504x432 with 1 Axes>"
            ]
          },
          "metadata": {
            "tags": []
          }
        }
      ]
    },
    {
      "cell_type": "markdown",
      "metadata": {
        "id": "pKsZHkqU8eGq",
        "colab_type": "text"
      },
      "source": [
        "##Grid Search для Logistic Regression:"
      ]
    },
    {
      "cell_type": "code",
      "metadata": {
        "id": "grbooJm313WE",
        "colab_type": "code",
        "colab": {}
      },
      "source": [
        "clf = LogisticRegression()\n",
        "grid_values = {'penalty': ['l1', 'l2'],'C':[0.001,.009,0.01,.09,1,5,10,25]}\n",
        "grid_clf_acc = GridSearchCV(clf, param_grid = grid_values,scoring = 'recall')"
      ],
      "execution_count": 0,
      "outputs": []
    },
    {
      "cell_type": "code",
      "metadata": {
        "id": "fqv3aHby8gx7",
        "colab_type": "code",
        "outputId": "c16a1437-58b2-4dc7-be23-2ddbf4b099b2",
        "colab": {
          "base_uri": "https://localhost:8080/",
          "height": 255
        }
      },
      "source": [
        "grid_clf_acc.fit(X_train, y_train)"
      ],
      "execution_count": 30,
      "outputs": [
        {
          "output_type": "execute_result",
          "data": {
            "text/plain": [
              "GridSearchCV(cv=None, error_score=nan,\n",
              "             estimator=LogisticRegression(C=1.0, class_weight=None, dual=False,\n",
              "                                          fit_intercept=True,\n",
              "                                          intercept_scaling=1, l1_ratio=None,\n",
              "                                          max_iter=100, multi_class='auto',\n",
              "                                          n_jobs=None, penalty='l2',\n",
              "                                          random_state=None, solver='lbfgs',\n",
              "                                          tol=0.0001, verbose=0,\n",
              "                                          warm_start=False),\n",
              "             iid='deprecated', n_jobs=None,\n",
              "             param_grid={'C': [0.001, 0.009, 0.01, 0.09, 1, 5, 10, 25],\n",
              "                         'penalty': ['l1', 'l2']},\n",
              "             pre_dispatch='2*n_jobs', refit=True, return_train_score=False,\n",
              "             scoring='recall', verbose=0)"
            ]
          },
          "metadata": {
            "tags": []
          },
          "execution_count": 30
        }
      ]
    },
    {
      "cell_type": "code",
      "metadata": {
        "id": "qHZAi8fN8id4",
        "colab_type": "code",
        "outputId": "2e91ef4a-6b3f-4931-fc5b-143356adea24",
        "colab": {
          "base_uri": "https://localhost:8080/",
          "height": 102
        }
      },
      "source": [
        "grid_clf_acc.best_estimator_"
      ],
      "execution_count": 31,
      "outputs": [
        {
          "output_type": "execute_result",
          "data": {
            "text/plain": [
              "LogisticRegression(C=0.09, class_weight=None, dual=False, fit_intercept=True,\n",
              "                   intercept_scaling=1, l1_ratio=None, max_iter=100,\n",
              "                   multi_class='auto', n_jobs=None, penalty='l2',\n",
              "                   random_state=None, solver='lbfgs', tol=0.0001, verbose=0,\n",
              "                   warm_start=False)"
            ]
          },
          "metadata": {
            "tags": []
          },
          "execution_count": 31
        }
      ]
    },
    {
      "cell_type": "code",
      "metadata": {
        "id": "m7LfrxXu8j_V",
        "colab_type": "code",
        "outputId": "29dadf6d-0f0c-48ef-83d8-edd0dc6a166a",
        "colab": {
          "base_uri": "https://localhost:8080/",
          "height": 34
        }
      },
      "source": [
        "grid_clf_acc.best_params_"
      ],
      "execution_count": 32,
      "outputs": [
        {
          "output_type": "execute_result",
          "data": {
            "text/plain": [
              "{'C': 0.09, 'penalty': 'l2'}"
            ]
          },
          "metadata": {
            "tags": []
          },
          "execution_count": 32
        }
      ]
    },
    {
      "cell_type": "code",
      "metadata": {
        "id": "-14_xrTM8o0k",
        "colab_type": "code",
        "colab": {}
      },
      "source": [
        "clas_models_grid = {'LR_0.09_12':grid_clf_acc.best_estimator_}"
      ],
      "execution_count": 0,
      "outputs": []
    },
    {
      "cell_type": "code",
      "metadata": {
        "id": "NNJyPanh8uAA",
        "colab_type": "code",
        "outputId": "c68adc0b-5ffd-46af-989f-0afbb015054a",
        "colab": {
          "base_uri": "https://localhost:8080/",
          "height": 739
        }
      },
      "source": [
        "for model_name, model in clas_models_grid.items():\n",
        "    clas_train_model(model_name, model, clasMetricLogger)"
      ],
      "execution_count": 34,
      "outputs": [
        {
          "output_type": "stream",
          "text": [
            "Метка \t Accuracy\n",
            "1 \t 0.9306930693069307\n",
            "2 \t 0.8301886792452831\n",
            "*****************************************************\n",
            "LogisticRegression(C=0.09, class_weight=None, dual=False, fit_intercept=True,\n",
            "                   intercept_scaling=1, l1_ratio=None, max_iter=100,\n",
            "                   multi_class='auto', n_jobs=None, penalty='l2',\n",
            "                   random_state=None, solver='lbfgs', tol=0.0001, verbose=0,\n",
            "                   warm_start=False)\n",
            "*****************************************************\n"
          ],
          "name": "stdout"
        },
        {
          "output_type": "display_data",
          "data": {
            "image/png": "[encoded data removed]",
            "text/plain": [
              "<Figure size 432x288 with 1 Axes>"
            ]
          },
          "metadata": {
            "tags": []
          }
        },
        {
          "output_type": "display_data",
          "data": {
            "image/png": "[encoded data removed]",
            "text/plain": [
              "<Figure size 432x288 with 2 Axes>"
            ]
          },
          "metadata": {
            "tags": []
          }
        }
      ]
    },
    {
      "cell_type": "markdown",
      "metadata": {
        "id": "JtWr-fWw8rI_",
        "colab_type": "text"
      },
      "source": [
        "##Grid Search для SVC:"
      ]
    },
    {
      "cell_type": "code",
      "metadata": {
        "id": "C0A_bBbpOWKY",
        "colab_type": "code",
        "colab": {}
      },
      "source": [
        "param_grid = {'gamma':[1,0.1], 'kernel':['linear','rbf']}"
      ],
      "execution_count": 0,
      "outputs": []
    },
    {
      "cell_type": "code",
      "metadata": {
        "id": "HSXXCamBOZc0",
        "colab_type": "code",
        "outputId": "618ab8de-f37c-472c-9e7a-d745d7798538",
        "colab": {
          "base_uri": "https://localhost:8080/",
          "height": 952
        }
      },
      "source": [
        "grid = GridSearchCV(SVC(),param_grid,refit = True, verbose=2)\n",
        "grid.fit(X_train,y_train)"
      ],
      "execution_count": 36,
      "outputs": [
        {
          "output_type": "stream",
          "text": [
            "Fitting 5 folds for each of 4 candidates, totalling 20 fits\n",
            "[CV] gamma=1, kernel=linear ..........................................\n"
          ],
          "name": "stdout"
        },
        {
          "output_type": "stream",
          "text": [
            "[Parallel(n_jobs=1)]: Using backend SequentialBackend with 1 concurrent workers.\n"
          ],
          "name": "stderr"
        },
        {
          "output_type": "stream",
          "text": [
            "[CV] ........................... gamma=1, kernel=linear, total=  18.6s\n",
            "[CV] gamma=1, kernel=linear ..........................................\n"
          ],
          "name": "stdout"
        },
        {
          "output_type": "stream",
          "text": [
            "[Parallel(n_jobs=1)]: Done   1 out of   1 | elapsed:   18.6s remaining:    0.0s\n"
          ],
          "name": "stderr"
        },
        {
          "output_type": "stream",
          "text": [
            "[CV] ........................... gamma=1, kernel=linear, total=  16.4s\n",
            "[CV] gamma=1, kernel=linear ..........................................\n",
            "[CV] ........................... gamma=1, kernel=linear, total=  46.2s\n",
            "[CV] gamma=1, kernel=linear ..........................................\n",
            "[CV] ........................... gamma=1, kernel=linear, total= 1.3min\n",
            "[CV] gamma=1, kernel=linear ..........................................\n",
            "[CV] ........................... gamma=1, kernel=linear, total= 1.5min\n",
            "[CV] gamma=1, kernel=rbf .............................................\n",
            "[CV] .............................. gamma=1, kernel=rbf, total=   0.0s\n",
            "[CV] gamma=1, kernel=rbf .............................................\n",
            "[CV] .............................. gamma=1, kernel=rbf, total=   0.0s\n",
            "[CV] gamma=1, kernel=rbf .............................................\n",
            "[CV] .............................. gamma=1, kernel=rbf, total=   0.0s\n",
            "[CV] gamma=1, kernel=rbf .............................................\n",
            "[CV] .............................. gamma=1, kernel=rbf, total=   0.0s\n",
            "[CV] gamma=1, kernel=rbf .............................................\n",
            "[CV] .............................. gamma=1, kernel=rbf, total=   0.0s\n",
            "[CV] gamma=0.1, kernel=linear ........................................\n",
            "[CV] ......................... gamma=0.1, kernel=linear, total=  18.5s\n",
            "[CV] gamma=0.1, kernel=linear ........................................\n",
            "[CV] ......................... gamma=0.1, kernel=linear, total=  16.4s\n",
            "[CV] gamma=0.1, kernel=linear ........................................\n",
            "[CV] ......................... gamma=0.1, kernel=linear, total=  46.0s\n",
            "[CV] gamma=0.1, kernel=linear ........................................\n",
            "[CV] ......................... gamma=0.1, kernel=linear, total= 1.3min\n",
            "[CV] gamma=0.1, kernel=linear ........................................\n",
            "[CV] ......................... gamma=0.1, kernel=linear, total= 1.5min\n",
            "[CV] gamma=0.1, kernel=rbf ...........................................\n",
            "[CV] ............................ gamma=0.1, kernel=rbf, total=   0.0s\n",
            "[CV] gamma=0.1, kernel=rbf ...........................................\n",
            "[CV] ............................ gamma=0.1, kernel=rbf, total=   0.0s\n",
            "[CV] gamma=0.1, kernel=rbf ...........................................\n",
            "[CV] ............................ gamma=0.1, kernel=rbf, total=   0.0s\n",
            "[CV] gamma=0.1, kernel=rbf ...........................................\n",
            "[CV] ............................ gamma=0.1, kernel=rbf, total=   0.0s\n",
            "[CV] gamma=0.1, kernel=rbf ...........................................\n",
            "[CV] ............................ gamma=0.1, kernel=rbf, total=   0.0s\n"
          ],
          "name": "stdout"
        },
        {
          "output_type": "stream",
          "text": [
            "[Parallel(n_jobs=1)]: Done  20 out of  20 | elapsed:  8.3min finished\n"
          ],
          "name": "stderr"
        },
        {
          "output_type": "execute_result",
          "data": {
            "text/plain": [
              "GridSearchCV(cv=None, error_score=nan,\n",
              "             estimator=SVC(C=1.0, break_ties=False, cache_size=200,\n",
              "                           class_weight=None, coef0=0.0,\n",
              "                           decision_function_shape='ovr', degree=3,\n",
              "                           gamma='scale', kernel='rbf', max_iter=-1,\n",
              "                           probability=False, random_state=None, shrinking=True,\n",
              "                           tol=0.001, verbose=False),\n",
              "             iid='deprecated', n_jobs=None,\n",
              "             param_grid={'gamma': [1, 0.1], 'kernel': ['linear', 'rbf']},\n",
              "             pre_dispatch='2*n_jobs', refit=True, return_train_score=False,\n",
              "             scoring=None, verbose=2)"
            ]
          },
          "metadata": {
            "tags": []
          },
          "execution_count": 36
        }
      ]
    },
    {
      "cell_type": "code",
      "metadata": {
        "id": "08ellxvfOyv0",
        "colab_type": "code",
        "outputId": "e74d6703-245d-4a9a-e775-8f67d68938ec",
        "colab": {
          "base_uri": "https://localhost:8080/",
          "height": 85
        }
      },
      "source": [
        "grid.best_estimator_"
      ],
      "execution_count": 37,
      "outputs": [
        {
          "output_type": "execute_result",
          "data": {
            "text/plain": [
              "SVC(C=1.0, break_ties=False, cache_size=200, class_weight=None, coef0=0.0,\n",
              "    decision_function_shape='ovr', degree=3, gamma=1, kernel='linear',\n",
              "    max_iter=-1, probability=False, random_state=None, shrinking=True,\n",
              "    tol=0.001, verbose=False)"
            ]
          },
          "metadata": {
            "tags": []
          },
          "execution_count": 37
        }
      ]
    },
    {
      "cell_type": "code",
      "metadata": {
        "id": "ykbZDZbpO7GD",
        "colab_type": "code",
        "outputId": "28a0f45c-42b4-4e29-9a4d-eb2c380bf67a",
        "colab": {
          "base_uri": "https://localhost:8080/",
          "height": 34
        }
      },
      "source": [
        "grid.best_params_"
      ],
      "execution_count": 38,
      "outputs": [
        {
          "output_type": "execute_result",
          "data": {
            "text/plain": [
              "{'gamma': 1, 'kernel': 'linear'}"
            ]
          },
          "metadata": {
            "tags": []
          },
          "execution_count": 38
        }
      ]
    },
    {
      "cell_type": "code",
      "metadata": {
        "id": "eY-VUuBxO-rh",
        "colab_type": "code",
        "colab": {}
      },
      "source": [
        "clas_models_grid = {'SVM':grid.best_estimator_}"
      ],
      "execution_count": 0,
      "outputs": []
    },
    {
      "cell_type": "code",
      "metadata": {
        "id": "k5rILuAvPG-l",
        "colab_type": "code",
        "outputId": "a32876fe-14e2-4b58-f7b1-ec70c9c75bc9",
        "colab": {
          "base_uri": "https://localhost:8080/",
          "height": 722
        }
      },
      "source": [
        "for model_name, model in clas_models_grid.items():\n",
        "    clas_train_model(model_name, model, clasMetricLogger)"
      ],
      "execution_count": 40,
      "outputs": [
        {
          "output_type": "stream",
          "text": [
            "Метка \t Accuracy\n",
            "1 \t 0.8910891089108911\n",
            "2 \t 0.839622641509434\n",
            "*****************************************************\n",
            "SVC(C=1.0, break_ties=False, cache_size=200, class_weight=None, coef0=0.0,\n",
            "    decision_function_shape='ovr', degree=3, gamma=1, kernel='linear',\n",
            "    max_iter=-1, probability=False, random_state=None, shrinking=True,\n",
            "    tol=0.001, verbose=False)\n",
            "*****************************************************\n"
          ],
          "name": "stdout"
        },
        {
          "output_type": "display_data",
          "data": {
            "image/png": "[encoded data removed]",
            "text/plain": [
              "<Figure size 432x288 with 1 Axes>"
            ]
          },
          "metadata": {
            "tags": []
          }
        },
        {
          "output_type": "display_data",
          "data": {
            "image/png": "[encoded data removed]",
            "text/plain": [
              "<Figure size 432x288 with 2 Axes>"
            ]
          },
          "metadata": {
            "tags": []
          }
        }
      ]
    },
    {
      "cell_type": "markdown",
      "metadata": {
        "id": "-_3jWczF8x9r",
        "colab_type": "text"
      },
      "source": [
        "##Grid Search для Decision Tree:"
      ]
    },
    {
      "cell_type": "code",
      "metadata": {
        "id": "1WA9XdnwLShX",
        "colab_type": "code",
        "outputId": "f3c139ec-38ee-4211-c65d-ba7d5d1edb0f",
        "colab": {
          "base_uri": "https://localhost:8080/",
          "height": 425
        }
      },
      "source": [
        "params = {'max_leaf_nodes': list(range(2, 100)), 'min_samples_split': [2, 3, 4]}\n",
        "grid_search_cv = GridSearchCV(DecisionTreeClassifier(random_state=42), params, verbose=1, cv=3,scoring='accuracy')\n",
        "grid_search_cv.fit(X_train, y_train)"
      ],
      "execution_count": 41,
      "outputs": [
        {
          "output_type": "stream",
          "text": [
            "Fitting 3 folds for each of 294 candidates, totalling 882 fits\n"
          ],
          "name": "stdout"
        },
        {
          "output_type": "stream",
          "text": [
            "[Parallel(n_jobs=1)]: Using backend SequentialBackend with 1 concurrent workers.\n",
            "[Parallel(n_jobs=1)]: Done 882 out of 882 | elapsed:    2.8s finished\n"
          ],
          "name": "stderr"
        },
        {
          "output_type": "execute_result",
          "data": {
            "text/plain": [
              "GridSearchCV(cv=3, error_score=nan,\n",
              "             estimator=DecisionTreeClassifier(ccp_alpha=0.0, class_weight=None,\n",
              "                                              criterion='gini', max_depth=None,\n",
              "                                              max_features=None,\n",
              "                                              max_leaf_nodes=None,\n",
              "                                              min_impurity_decrease=0.0,\n",
              "                                              min_impurity_split=None,\n",
              "                                              min_samples_leaf=1,\n",
              "                                              min_samples_split=2,\n",
              "                                              min_weight_fraction_leaf=0.0,\n",
              "                                              presort='deprecated',\n",
              "                                              random_state=42,\n",
              "                                              splitter='best'),\n",
              "             iid='deprecated', n_jobs=None,\n",
              "             param_grid={'max_leaf_nodes': [2, 3, 4, 5, 6, 7, 8, 9, 10, 11, 12,\n",
              "                                            13, 14, 15, 16, 17, 18, 19, 20, 21,\n",
              "                                            22, 23, 24, 25, 26, 27, 28, 29, 30,\n",
              "                                            31, ...],\n",
              "                         'min_samples_split': [2, 3, 4]},\n",
              "             pre_dispatch='2*n_jobs', refit=True, return_train_score=False,\n",
              "             scoring='accuracy', verbose=1)"
            ]
          },
          "metadata": {
            "tags": []
          },
          "execution_count": 41
        }
      ]
    },
    {
      "cell_type": "code",
      "metadata": {
        "id": "fGeXJlFqLj4J",
        "colab_type": "code",
        "outputId": "c87d6556-b43b-45d9-d72c-eab9afb2ca00",
        "colab": {
          "base_uri": "https://localhost:8080/",
          "height": 119
        }
      },
      "source": [
        "grid_search_cv.best_estimator_"
      ],
      "execution_count": 42,
      "outputs": [
        {
          "output_type": "execute_result",
          "data": {
            "text/plain": [
              "DecisionTreeClassifier(ccp_alpha=0.0, class_weight=None, criterion='gini',\n",
              "                       max_depth=None, max_features=None, max_leaf_nodes=2,\n",
              "                       min_impurity_decrease=0.0, min_impurity_split=None,\n",
              "                       min_samples_leaf=1, min_samples_split=2,\n",
              "                       min_weight_fraction_leaf=0.0, presort='deprecated',\n",
              "                       random_state=42, splitter='best')"
            ]
          },
          "metadata": {
            "tags": []
          },
          "execution_count": 42
        }
      ]
    },
    {
      "cell_type": "code",
      "metadata": {
        "id": "eUwy9PYHMXum",
        "colab_type": "code",
        "outputId": "c2d4b539-46d1-46ec-f577-e1b2a750ba40",
        "colab": {
          "base_uri": "https://localhost:8080/",
          "height": 34
        }
      },
      "source": [
        "grid_search_cv.best_params_"
      ],
      "execution_count": 43,
      "outputs": [
        {
          "output_type": "execute_result",
          "data": {
            "text/plain": [
              "{'max_leaf_nodes': 2, 'min_samples_split': 2}"
            ]
          },
          "metadata": {
            "tags": []
          },
          "execution_count": 43
        }
      ]
    },
    {
      "cell_type": "code",
      "metadata": {
        "id": "Eu4B8mf0NzrL",
        "colab_type": "code",
        "colab": {}
      },
      "source": [
        "clas_models_grid = {'Tree':grid_search_cv.best_estimator_}"
      ],
      "execution_count": 0,
      "outputs": []
    },
    {
      "cell_type": "code",
      "metadata": {
        "id": "Bb_ogqdhN6Y2",
        "colab_type": "code",
        "outputId": "2b17b007-e102-4eac-9bce-49ebb26a45a6",
        "colab": {
          "base_uri": "https://localhost:8080/",
          "height": 756
        }
      },
      "source": [
        "for model_name, model in clas_models_grid.items():\n",
        "    clas_train_model(model_name, model, clasMetricLogger)"
      ],
      "execution_count": 45,
      "outputs": [
        {
          "output_type": "stream",
          "text": [
            "Метка \t Accuracy\n",
            "1 \t 0.8861386138613861\n",
            "2 \t 0.9433962264150944\n",
            "*****************************************************\n",
            "DecisionTreeClassifier(ccp_alpha=0.0, class_weight=None, criterion='gini',\n",
            "                       max_depth=None, max_features=None, max_leaf_nodes=2,\n",
            "                       min_impurity_decrease=0.0, min_impurity_split=None,\n",
            "                       min_samples_leaf=1, min_samples_split=2,\n",
            "                       min_weight_fraction_leaf=0.0, presort='deprecated',\n",
            "                       random_state=42, splitter='best')\n",
            "*****************************************************\n"
          ],
          "name": "stdout"
        },
        {
          "output_type": "display_data",
          "data": {
            "image/png": "[encoded data removed]",
            "text/plain": [
              "<Figure size 432x288 with 1 Axes>"
            ]
          },
          "metadata": {
            "tags": []
          }
        },
        {
          "output_type": "display_data",
          "data": {
            "image/png": "[encoded data removed]",
            "text/plain": [
              "<Figure size 432x288 with 2 Axes>"
            ]
          },
          "metadata": {
            "tags": []
          }
        }
      ]
    },
    {
      "cell_type": "code",
      "metadata": {
        "id": "k_US3vO8bCx3",
        "colab_type": "code",
        "colab": {}
      },
      "source": [
        "tree_cl=grid_search_cv.best_estimator_"
      ],
      "execution_count": 0,
      "outputs": []
    },
    {
      "cell_type": "code",
      "metadata": {
        "id": "1olnlln6HWAq",
        "colab_type": "code",
        "outputId": "366c0ad0-d1a8-492c-f997-e864cfa17cd2",
        "colab": {
          "base_uri": "https://localhost:8080/",
          "height": 34
        }
      },
      "source": [
        "from sklearn.tree.export import export_text\n",
        "tree_rules = export_text(tree_cl, feature_names=list(dataOnly.columns))\n",
        "tree_rules"
      ],
      "execution_count": 47,
      "outputs": [
        {
          "output_type": "execute_result",
          "data": {
            "text/plain": [
              "'|--- Detergents_Paper <= 1759.50\\n|   |--- class: 1\\n|--- Detergents_Paper >  1759.50\\n|   |--- class: 2\\n'"
            ]
          },
          "metadata": {
            "tags": []
          },
          "execution_count": 47
        }
      ]
    }
  ]
}