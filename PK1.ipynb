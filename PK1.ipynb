{
  "nbformat": 4,
  "nbformat_minor": 0,
  "metadata": {
    "colab": {
      "name": "PK1.ipynb",
      "provenance": [],
      "collapsed_sections": [],
      "authorship_tag": "ABX9TyOCCyWnPSD+t9fU8ufGXELp",
      "include_colab_link": true
    },
    "kernelspec": {
      "name": "python3",
      "display_name": "Python 3"
    }
  },
  "cells": [
    {
      "cell_type": "markdown",
      "metadata": {
        "id": "view-in-github",
        "colab_type": "text"
      },
      "source": [
        "<a href=\"https://colab.research.google.com/github/farahshahhoud/Machine_Learning/blob/master/PK1.ipynb\" target=\"_parent\"><img src=\"https://colab.research.google.com/assets/colab-badge.svg\" alt=\"Open In Colab\"/></a>"
      ]
    },
    {
      "cell_type": "markdown",
      "metadata": {
        "id": "oVREwfwQn3Rl",
        "colab_type": "text"
      },
      "source": [
        "## набор данных"
      ]
    },
    {
      "cell_type": "markdown",
      "metadata": {
        "id": "vf_2lWryyJCJ",
        "colab_type": "text"
      },
      "source": [
        "Мы собираемся изучить набор данных о футбольных матчах, которые проходили на чемпионате мира 2018 года в России.  \n",
        "База данных состоит из информации о производительности каждой команды в каждом футбольном матче, который он сыграл. Эта информация будет частью построения модели машинного обучения, которая будет предсказывать, получит ли эта команда награду «Man of the Match.  \n",
        "Давайте сначала посмотрим на наш набор данных и увидим некоторые его строки."
      ]
    },
    {
      "cell_type": "code",
      "metadata": {
        "id": "0dpZLo7GH-fr",
        "colab_type": "code",
        "outputId": "559b633e-3ac3-48b8-fc5d-145fc37890a8",
        "colab": {
          "base_uri": "https://localhost:8080/",
          "height": 71
        }
      },
      "source": [
        "import numpy as np\n",
        "import pandas as pd\n",
        "import seaborn as sns\n",
        "import matplotlib.pyplot as plt\n",
        "%matplotlib inline \n",
        "sns.set(style=\"ticks\")"
      ],
      "execution_count": 0,
      "outputs": [
        {
          "output_type": "stream",
          "text": [
            "/usr/local/lib/python3.6/dist-packages/statsmodels/tools/_testing.py:19: FutureWarning: pandas.util.testing is deprecated. Use the functions in the public API at pandas.testing instead.\n",
            "  import pandas.util.testing as tm\n"
          ],
          "name": "stderr"
        }
      ]
    },
    {
      "cell_type": "code",
      "metadata": {
        "id": "unz9RYaYHvtU",
        "colab_type": "code",
        "colab": {}
      },
      "source": [
        "data = pd.read_csv('FIFA 2018.csv', sep=\",\")"
      ],
      "execution_count": 0,
      "outputs": []
    },
    {
      "cell_type": "code",
      "metadata": {
        "id": "43V_kW6VOWif",
        "colab_type": "code",
        "outputId": "d37e0ff0-9a10-4ae8-ca81-716e402cb28b",
        "colab": {
          "base_uri": "https://localhost:8080/",
          "height": 445
        }
      },
      "source": [
        "data.head()"
      ],
      "execution_count": 0,
      "outputs": [
        {
          "output_type": "execute_result",
          "data": {
            "text/html": [
              "<div>\n",
              "<style scoped>\n",
              "    .dataframe tbody tr th:only-of-type {\n",
              "        vertical-align: middle;\n",
              "    }\n",
              "\n",
              "    .dataframe tbody tr th {\n",
              "        vertical-align: top;\n",
              "    }\n",
              "\n",
              "    .dataframe thead th {\n",
              "        text-align: right;\n",
              "    }\n",
              "</style>\n",
              "<table border=\"1\" class=\"dataframe\">\n",
              "  <thead>\n",
              "    <tr style=\"text-align: right;\">\n",
              "      <th></th>\n",
              "      <th>Date</th>\n",
              "      <th>Team</th>\n",
              "      <th>Opponent</th>\n",
              "      <th>Goal Scored</th>\n",
              "      <th>Ball Possession %</th>\n",
              "      <th>Attempts</th>\n",
              "      <th>On-Target</th>\n",
              "      <th>Off-Target</th>\n",
              "      <th>Blocked</th>\n",
              "      <th>Corners</th>\n",
              "      <th>Offsides</th>\n",
              "      <th>Free Kicks</th>\n",
              "      <th>Saves</th>\n",
              "      <th>Pass Accuracy %</th>\n",
              "      <th>Passes</th>\n",
              "      <th>Distance Covered (Kms)</th>\n",
              "      <th>Fouls Committed</th>\n",
              "      <th>Yellow Card</th>\n",
              "      <th>Yellow &amp; Red</th>\n",
              "      <th>Red</th>\n",
              "      <th>Man of the Match</th>\n",
              "      <th>1st Goal</th>\n",
              "      <th>Round</th>\n",
              "      <th>PSO</th>\n",
              "      <th>Goals in PSO</th>\n",
              "      <th>Own goals</th>\n",
              "      <th>Own goal Time</th>\n",
              "    </tr>\n",
              "  </thead>\n",
              "  <tbody>\n",
              "    <tr>\n",
              "      <th>0</th>\n",
              "      <td>14-06-2018</td>\n",
              "      <td>Russia</td>\n",
              "      <td>Saudi Arabia</td>\n",
              "      <td>5</td>\n",
              "      <td>40</td>\n",
              "      <td>13</td>\n",
              "      <td>7</td>\n",
              "      <td>3</td>\n",
              "      <td>3</td>\n",
              "      <td>6</td>\n",
              "      <td>3</td>\n",
              "      <td>11</td>\n",
              "      <td>0</td>\n",
              "      <td>78</td>\n",
              "      <td>306</td>\n",
              "      <td>118</td>\n",
              "      <td>22</td>\n",
              "      <td>0</td>\n",
              "      <td>0</td>\n",
              "      <td>0</td>\n",
              "      <td>Yes</td>\n",
              "      <td>12.0</td>\n",
              "      <td>Group Stage</td>\n",
              "      <td>No</td>\n",
              "      <td>0</td>\n",
              "      <td>NaN</td>\n",
              "      <td>NaN</td>\n",
              "    </tr>\n",
              "    <tr>\n",
              "      <th>1</th>\n",
              "      <td>14-06-2018</td>\n",
              "      <td>Saudi Arabia</td>\n",
              "      <td>Russia</td>\n",
              "      <td>0</td>\n",
              "      <td>60</td>\n",
              "      <td>6</td>\n",
              "      <td>0</td>\n",
              "      <td>3</td>\n",
              "      <td>3</td>\n",
              "      <td>2</td>\n",
              "      <td>1</td>\n",
              "      <td>25</td>\n",
              "      <td>2</td>\n",
              "      <td>86</td>\n",
              "      <td>511</td>\n",
              "      <td>105</td>\n",
              "      <td>10</td>\n",
              "      <td>0</td>\n",
              "      <td>0</td>\n",
              "      <td>0</td>\n",
              "      <td>No</td>\n",
              "      <td>NaN</td>\n",
              "      <td>Group Stage</td>\n",
              "      <td>No</td>\n",
              "      <td>0</td>\n",
              "      <td>NaN</td>\n",
              "      <td>NaN</td>\n",
              "    </tr>\n",
              "    <tr>\n",
              "      <th>2</th>\n",
              "      <td>15-06-2018</td>\n",
              "      <td>Egypt</td>\n",
              "      <td>Uruguay</td>\n",
              "      <td>0</td>\n",
              "      <td>43</td>\n",
              "      <td>8</td>\n",
              "      <td>3</td>\n",
              "      <td>3</td>\n",
              "      <td>2</td>\n",
              "      <td>0</td>\n",
              "      <td>1</td>\n",
              "      <td>7</td>\n",
              "      <td>3</td>\n",
              "      <td>78</td>\n",
              "      <td>395</td>\n",
              "      <td>112</td>\n",
              "      <td>12</td>\n",
              "      <td>2</td>\n",
              "      <td>0</td>\n",
              "      <td>0</td>\n",
              "      <td>No</td>\n",
              "      <td>NaN</td>\n",
              "      <td>Group Stage</td>\n",
              "      <td>No</td>\n",
              "      <td>0</td>\n",
              "      <td>NaN</td>\n",
              "      <td>NaN</td>\n",
              "    </tr>\n",
              "    <tr>\n",
              "      <th>3</th>\n",
              "      <td>15-06-2018</td>\n",
              "      <td>Uruguay</td>\n",
              "      <td>Egypt</td>\n",
              "      <td>1</td>\n",
              "      <td>57</td>\n",
              "      <td>14</td>\n",
              "      <td>4</td>\n",
              "      <td>6</td>\n",
              "      <td>4</td>\n",
              "      <td>5</td>\n",
              "      <td>1</td>\n",
              "      <td>13</td>\n",
              "      <td>3</td>\n",
              "      <td>86</td>\n",
              "      <td>589</td>\n",
              "      <td>111</td>\n",
              "      <td>6</td>\n",
              "      <td>0</td>\n",
              "      <td>0</td>\n",
              "      <td>0</td>\n",
              "      <td>Yes</td>\n",
              "      <td>89.0</td>\n",
              "      <td>Group Stage</td>\n",
              "      <td>No</td>\n",
              "      <td>0</td>\n",
              "      <td>NaN</td>\n",
              "      <td>NaN</td>\n",
              "    </tr>\n",
              "    <tr>\n",
              "      <th>4</th>\n",
              "      <td>15-06-2018</td>\n",
              "      <td>Morocco</td>\n",
              "      <td>Iran</td>\n",
              "      <td>0</td>\n",
              "      <td>64</td>\n",
              "      <td>13</td>\n",
              "      <td>3</td>\n",
              "      <td>6</td>\n",
              "      <td>4</td>\n",
              "      <td>5</td>\n",
              "      <td>0</td>\n",
              "      <td>14</td>\n",
              "      <td>2</td>\n",
              "      <td>86</td>\n",
              "      <td>433</td>\n",
              "      <td>101</td>\n",
              "      <td>22</td>\n",
              "      <td>1</td>\n",
              "      <td>0</td>\n",
              "      <td>0</td>\n",
              "      <td>No</td>\n",
              "      <td>NaN</td>\n",
              "      <td>Group Stage</td>\n",
              "      <td>No</td>\n",
              "      <td>0</td>\n",
              "      <td>1.0</td>\n",
              "      <td>90.0</td>\n",
              "    </tr>\n",
              "  </tbody>\n",
              "</table>\n",
              "</div>"
            ],
            "text/plain": [
              "         Date          Team  ... Own goals  Own goal Time\n",
              "0  14-06-2018        Russia  ...       NaN            NaN\n",
              "1  14-06-2018  Saudi Arabia  ...       NaN            NaN\n",
              "2  15-06-2018         Egypt  ...       NaN            NaN\n",
              "3  15-06-2018       Uruguay  ...       NaN            NaN\n",
              "4  15-06-2018       Morocco  ...       1.0           90.0\n",
              "\n",
              "[5 rows x 27 columns]"
            ]
          },
          "metadata": {
            "tags": []
          },
          "execution_count": 3
        }
      ]
    },
    {
      "cell_type": "markdown",
      "metadata": {
        "id": "jkESBiml1c9q",
        "colab_type": "text"
      },
      "source": [
        "Вот все атрибуты, которые наш набор данных содержит с их объяснениями."
      ]
    },
    {
      "cell_type": "markdown",
      "metadata": {
        "id": "8frinFFG0G-F",
        "colab_type": "text"
      },
      "source": [
        "1. **Date:** Match Date\n",
        "2. ***Team:*** Playing Team\n",
        "3. ***Opponent:*** Opponent Team\n",
        "4. ***Goal Scored:*** Number of goals scored by this team\n",
        "5. ***Ball Possession %:*** Amount of time ball was in control by the team\n",
        "5. ***Attempts:*** Number of attempts to score goal\n",
        "6. ***On-Target:*** Number of shots on-target\n",
        "7. ***Off-Target:*** Number of shots that went off-target\n",
        "8. ***Blocked:*** Number of opponent team's attempts blocked by the team\n",
        "9. ***Corners:*** Number of corner shots used\n",
        "10. ***Offsides:*** Number of off-side events\n",
        "11. ***Free Kicks:*** Number of free-kicks used\n",
        "12. ***Saves:*** Number saves by the goal keeper\n",
        "13. ***Pass Accuracy %:*** Percentage of passes that reached the same team player as aimed\n",
        "14. ***Passes:*** Total number of passes by the team\n",
        "15. ***Distance Covered (Kms):*** Total distance covered by the team members in this game\n",
        "15. ***Fouls Committed:*** Number of fouls committed by the team members\n",
        "16. ***Yellow Card:*** Number of Yellow warning received\n",
        "17. ***Yellow & Red:*** Number of Yellow & Red warning received\n",
        "18. ***Red:*** Number of Red cards received\n",
        "17. ***Man of the Match:*** Did this team member win Man of the Match?\n",
        "18. ***1st Goal:*** When did the team score the 1st goal?\n",
        "19. ***Round:*** Stage of the match\n",
        "19. ***PSO:*** Was there a penalty shootout (PSO) in this match?\n",
        "20. ***Goals in PSO:*** Number of goals scored in the Penalty shootout\n",
        "21. ***Own goals:*** Number of own goals\n",
        "22. ***Own goal Time:*** When did the team score own goal?"
      ]
    },
    {
      "cell_type": "code",
      "metadata": {
        "id": "wGqFtN43IDQU",
        "colab_type": "code",
        "outputId": "e707c620-1004-404e-9703-076015b89a38",
        "colab": {
          "base_uri": "https://localhost:8080/",
          "height": 34
        }
      },
      "source": [
        "data.shape"
      ],
      "execution_count": 0,
      "outputs": [
        {
          "output_type": "execute_result",
          "data": {
            "text/plain": [
              "(128, 27)"
            ]
          },
          "metadata": {
            "tags": []
          },
          "execution_count": 4
        }
      ]
    },
    {
      "cell_type": "code",
      "metadata": {
        "id": "KAyDReK8NoNr",
        "colab_type": "code",
        "outputId": "a49169f9-b108-4373-cfd3-827be3188915",
        "colab": {
          "base_uri": "https://localhost:8080/",
          "height": 493
        }
      },
      "source": [
        "data.dtypes"
      ],
      "execution_count": 0,
      "outputs": [
        {
          "output_type": "execute_result",
          "data": {
            "text/plain": [
              "Date                       object\n",
              "Team                       object\n",
              "Opponent                   object\n",
              "Goal Scored                 int64\n",
              "Ball Possession %           int64\n",
              "Attempts                    int64\n",
              "On-Target                   int64\n",
              "Off-Target                  int64\n",
              "Blocked                     int64\n",
              "Corners                     int64\n",
              "Offsides                    int64\n",
              "Free Kicks                  int64\n",
              "Saves                       int64\n",
              "Pass Accuracy %             int64\n",
              "Passes                      int64\n",
              "Distance Covered (Kms)      int64\n",
              "Fouls Committed             int64\n",
              "Yellow Card                 int64\n",
              "Yellow & Red                int64\n",
              "Red                         int64\n",
              "Man of the Match           object\n",
              "1st Goal                  float64\n",
              "Round                      object\n",
              "PSO                        object\n",
              "Goals in PSO                int64\n",
              "Own goals                 float64\n",
              "Own goal Time             float64\n",
              "dtype: object"
            ]
          },
          "metadata": {
            "tags": []
          },
          "execution_count": 5
        }
      ]
    },
    {
      "cell_type": "markdown",
      "metadata": {
        "id": "nhoiNr8YPDRL",
        "colab_type": "text"
      },
      "source": [
        "## 1. Обработка пропусков в данных¶\n"
      ]
    },
    {
      "cell_type": "code",
      "metadata": {
        "id": "s2097XrxOPcp",
        "colab_type": "code",
        "outputId": "e9909187-2cbd-4577-b38e-794d309ec252",
        "colab": {
          "base_uri": "https://localhost:8080/",
          "height": 493
        }
      },
      "source": [
        "data.isnull().sum()"
      ],
      "execution_count": 0,
      "outputs": [
        {
          "output_type": "execute_result",
          "data": {
            "text/plain": [
              "Date                        0\n",
              "Team                        0\n",
              "Opponent                    0\n",
              "Goal Scored                 0\n",
              "Ball Possession %           0\n",
              "Attempts                    0\n",
              "On-Target                   0\n",
              "Off-Target                  0\n",
              "Blocked                     0\n",
              "Corners                     0\n",
              "Offsides                    0\n",
              "Free Kicks                  0\n",
              "Saves                       0\n",
              "Pass Accuracy %             0\n",
              "Passes                      0\n",
              "Distance Covered (Kms)      0\n",
              "Fouls Committed             0\n",
              "Yellow Card                 0\n",
              "Yellow & Red                0\n",
              "Red                         0\n",
              "Man of the Match            0\n",
              "1st Goal                   34\n",
              "Round                       0\n",
              "PSO                         0\n",
              "Goals in PSO                0\n",
              "Own goals                 116\n",
              "Own goal Time             116\n",
              "dtype: int64"
            ]
          },
          "metadata": {
            "tags": []
          },
          "execution_count": 6
        }
      ]
    },
    {
      "cell_type": "markdown",
      "metadata": {
        "id": "fMgwMZ7p2kR5",
        "colab_type": "text"
      },
      "source": [
        "Мы видим, что только три из наших столбцов имеют нулевое значение."
      ]
    },
    {
      "cell_type": "code",
      "metadata": {
        "id": "AUVL8HvGOSft",
        "colab_type": "code",
        "outputId": "7cc5b7cf-ef5f-493d-fa5e-2f22d65061bd",
        "colab": {
          "base_uri": "https://localhost:8080/",
          "height": 34
        }
      },
      "source": [
        "total_count = data.shape[0]\n",
        "print('Всего строк: {}'.format(total_count))"
      ],
      "execution_count": 0,
      "outputs": [
        {
          "output_type": "stream",
          "text": [
            "Всего строк: 128\n"
          ],
          "name": "stdout"
        }
      ]
    },
    {
      "cell_type": "code",
      "metadata": {
        "id": "9cMV-cYSOvXJ",
        "colab_type": "code",
        "outputId": "6eb0c9fb-8918-440b-9abb-cb73353c9094",
        "colab": {
          "base_uri": "https://localhost:8080/",
          "height": 34
        }
      },
      "source": [
        "data_new_1 = data.dropna(axis=1, how='any')\n",
        "(data.shape, data_new_1.shape)"
      ],
      "execution_count": 0,
      "outputs": [
        {
          "output_type": "execute_result",
          "data": {
            "text/plain": [
              "((128, 27), (128, 24))"
            ]
          },
          "metadata": {
            "tags": []
          },
          "execution_count": 8
        }
      ]
    },
    {
      "cell_type": "code",
      "metadata": {
        "id": "tHf6ZaihRK61",
        "colab_type": "code",
        "outputId": "c45ab2ff-be29-4c57-96d8-dd966efb7970",
        "colab": {
          "base_uri": "https://localhost:8080/",
          "height": 34
        }
      },
      "source": [
        "data_new_2 = data.dropna(axis=0, how='any')\n",
        "(data.shape, data_new_2.shape)"
      ],
      "execution_count": 0,
      "outputs": [
        {
          "output_type": "execute_result",
          "data": {
            "text/plain": [
              "((128, 27), (7, 27))"
            ]
          },
          "metadata": {
            "tags": []
          },
          "execution_count": 9
        }
      ]
    },
    {
      "cell_type": "markdown",
      "metadata": {
        "id": "oxv8PZso24v7",
        "colab_type": "text"
      },
      "source": [
        "Если мы удалили столбцы, содержащие нулевое значение, мы получим 24 вместо 27.  \n",
        "Если мы удалили строку, содержащую нулевые значения, мы получим только 7 строк.  \n",
        "Процент пустых значений в трех столбцах:"
      ]
    },
    {
      "cell_type": "code",
      "metadata": {
        "id": "3DZojzt9ROfY",
        "colab_type": "code",
        "outputId": "0145fece-dc4d-41e5-c41b-ec309a69f178",
        "colab": {
          "base_uri": "https://localhost:8080/",
          "height": 68
        }
      },
      "source": [
        "num_cols = []\n",
        "for col in data.columns:\n",
        "    # Количество пустых значений \n",
        "    temp_null_count = data[data[col].isnull()].shape[0]\n",
        "    dt = str(data[col].dtype)\n",
        "    if temp_null_count>0:\n",
        "        num_cols.append(col)\n",
        "        temp_perc = round((temp_null_count / total_count) * 100.0, 2)\n",
        "        print('Колонка {}. Тип данных {}. Количество пустых значений {}, {}%.'.format(col, dt, temp_null_count, temp_perc))"
      ],
      "execution_count": 0,
      "outputs": [
        {
          "output_type": "stream",
          "text": [
            "Колонка 1st Goal. Тип данных float64. Количество пустых значений 34, 26.56%.\n",
            "Колонка Own goals. Тип данных float64. Количество пустых значений 116, 90.62%.\n",
            "Колонка Own goal Time. Тип данных float64. Количество пустых значений 116, 90.62%.\n"
          ],
          "name": "stdout"
        }
      ]
    },
    {
      "cell_type": "markdown",
      "metadata": {
        "id": "44wCfEhSkk5W",
        "colab_type": "text"
      },
      "source": [
        "В первом столбце указано время для первого гола, забитого командой. Это называется '1st Goal'.  \n",
        "Во втором столбце указано количество голов, которые команда поставила в пользу команды соперника (внутри своей сети). Это называется 'Own goals'.  \n",
        "Третий описывает время, когда команда забила гол против себя. Это называется 'Own goal Time'"
      ]
    },
    {
      "cell_type": "code",
      "metadata": {
        "id": "-jPA8_aXRqS_",
        "colab_type": "code",
        "outputId": "b9f325b7-0959-46d1-9d53-bf0e4d7ec865",
        "colab": {
          "base_uri": "https://localhost:8080/",
          "height": 419
        }
      },
      "source": [
        "data_num = data[num_cols]\n",
        "data_num"
      ],
      "execution_count": 0,
      "outputs": [
        {
          "output_type": "execute_result",
          "data": {
            "text/html": [
              "<div>\n",
              "<style scoped>\n",
              "    .dataframe tbody tr th:only-of-type {\n",
              "        vertical-align: middle;\n",
              "    }\n",
              "\n",
              "    .dataframe tbody tr th {\n",
              "        vertical-align: top;\n",
              "    }\n",
              "\n",
              "    .dataframe thead th {\n",
              "        text-align: right;\n",
              "    }\n",
              "</style>\n",
              "<table border=\"1\" class=\"dataframe\">\n",
              "  <thead>\n",
              "    <tr style=\"text-align: right;\">\n",
              "      <th></th>\n",
              "      <th>1st Goal</th>\n",
              "      <th>Own goals</th>\n",
              "      <th>Own goal Time</th>\n",
              "    </tr>\n",
              "  </thead>\n",
              "  <tbody>\n",
              "    <tr>\n",
              "      <th>0</th>\n",
              "      <td>12.0</td>\n",
              "      <td>NaN</td>\n",
              "      <td>NaN</td>\n",
              "    </tr>\n",
              "    <tr>\n",
              "      <th>1</th>\n",
              "      <td>NaN</td>\n",
              "      <td>NaN</td>\n",
              "      <td>NaN</td>\n",
              "    </tr>\n",
              "    <tr>\n",
              "      <th>2</th>\n",
              "      <td>NaN</td>\n",
              "      <td>NaN</td>\n",
              "      <td>NaN</td>\n",
              "    </tr>\n",
              "    <tr>\n",
              "      <th>3</th>\n",
              "      <td>89.0</td>\n",
              "      <td>NaN</td>\n",
              "      <td>NaN</td>\n",
              "    </tr>\n",
              "    <tr>\n",
              "      <th>4</th>\n",
              "      <td>NaN</td>\n",
              "      <td>1.0</td>\n",
              "      <td>90.0</td>\n",
              "    </tr>\n",
              "    <tr>\n",
              "      <th>...</th>\n",
              "      <td>...</td>\n",
              "      <td>...</td>\n",
              "      <td>...</td>\n",
              "    </tr>\n",
              "    <tr>\n",
              "      <th>123</th>\n",
              "      <td>5.0</td>\n",
              "      <td>NaN</td>\n",
              "      <td>NaN</td>\n",
              "    </tr>\n",
              "    <tr>\n",
              "      <th>124</th>\n",
              "      <td>4.0</td>\n",
              "      <td>NaN</td>\n",
              "      <td>NaN</td>\n",
              "    </tr>\n",
              "    <tr>\n",
              "      <th>125</th>\n",
              "      <td>NaN</td>\n",
              "      <td>NaN</td>\n",
              "      <td>NaN</td>\n",
              "    </tr>\n",
              "    <tr>\n",
              "      <th>126</th>\n",
              "      <td>18.0</td>\n",
              "      <td>1.0</td>\n",
              "      <td>18.0</td>\n",
              "    </tr>\n",
              "    <tr>\n",
              "      <th>127</th>\n",
              "      <td>28.0</td>\n",
              "      <td>NaN</td>\n",
              "      <td>NaN</td>\n",
              "    </tr>\n",
              "  </tbody>\n",
              "</table>\n",
              "<p>128 rows × 3 columns</p>\n",
              "</div>"
            ],
            "text/plain": [
              "     1st Goal  Own goals  Own goal Time\n",
              "0        12.0        NaN            NaN\n",
              "1         NaN        NaN            NaN\n",
              "2         NaN        NaN            NaN\n",
              "3        89.0        NaN            NaN\n",
              "4         NaN        1.0           90.0\n",
              "..        ...        ...            ...\n",
              "123       5.0        NaN            NaN\n",
              "124       4.0        NaN            NaN\n",
              "125       NaN        NaN            NaN\n",
              "126      18.0        1.0           18.0\n",
              "127      28.0        NaN            NaN\n",
              "\n",
              "[128 rows x 3 columns]"
            ]
          },
          "metadata": {
            "tags": []
          },
          "execution_count": 11
        }
      ]
    },
    {
      "cell_type": "code",
      "metadata": {
        "id": "i5_3QlCrR7Qr",
        "colab_type": "code",
        "outputId": "da8ef7d2-71b9-4f26-dee6-773ab7db4919",
        "colab": {
          "base_uri": "https://localhost:8080/",
          "height": 909
        }
      },
      "source": [
        "for col in data_num:\n",
        "    plt.hist(data[col],50)\n",
        "    plt.xlabel(col)\n",
        "    plt.show()"
      ],
      "execution_count": 0,
      "outputs": [
        {
          "output_type": "stream",
          "text": [
            "/usr/local/lib/python3.6/dist-packages/numpy/lib/histograms.py:839: RuntimeWarning: invalid value encountered in greater_equal\n",
            "  keep = (tmp_a >= first_edge)\n",
            "/usr/local/lib/python3.6/dist-packages/numpy/lib/histograms.py:840: RuntimeWarning: invalid value encountered in less_equal\n",
            "  keep &= (tmp_a <= last_edge)\n"
          ],
          "name": "stderr"
        },
        {
          "output_type": "display_data",
          "data": {
            "image/png": "[encoded data removed]",
            "text/plain": [
              "<Figure size 432x288 with 1 Axes>"
            ]
          },
          "metadata": {
            "tags": []
          }
        },
        {
          "output_type": "display_data",
          "data": {
            "image/png": "[encoded data removed]",
            "text/plain": [
              "<Figure size 432x288 with 1 Axes>"
            ]
          },
          "metadata": {
            "tags": []
          }
        },
        {
          "output_type": "display_data",
          "data": {
            "image/png": "[encoded data removed]",
            "text/plain": [
              "<Figure size 432x288 with 1 Axes>"
            ]
          },
          "metadata": {
            "tags": []
          }
        }
      ]
    },
    {
      "cell_type": "code",
      "metadata": {
        "id": "RkQIMmrdSB6T",
        "colab_type": "code",
        "colab": {}
      },
      "source": [
        "flt_index1 = data[data['1st Goal'].isnull()].index\n",
        "flt_index2 = data[data['Own goals'].isnull()].index\n",
        "flt_index3 = data[data['Own goal Time'].isnull()].index"
      ],
      "execution_count": 0,
      "outputs": []
    },
    {
      "cell_type": "code",
      "metadata": {
        "id": "X8K_AxQifFOZ",
        "colab_type": "code",
        "outputId": "5be03c5a-2ba7-49e9-d3d9-5c4ac0d26696",
        "colab": {
          "base_uri": "https://localhost:8080/",
          "height": 612
        }
      },
      "source": [
        "data_num[data_num.index.isin(flt_index1)]['1st Goal']"
      ],
      "execution_count": 0,
      "outputs": [
        {
          "output_type": "execute_result",
          "data": {
            "text/plain": [
              "1     NaN\n",
              "2     NaN\n",
              "4     NaN\n",
              "12    NaN\n",
              "15    NaN\n",
              "16    NaN\n",
              "18    NaN\n",
              "23    NaN\n",
              "25    NaN\n",
              "35    NaN\n",
              "37    NaN\n",
              "38    NaN\n",
              "43    NaN\n",
              "44    NaN\n",
              "47    NaN\n",
              "49    NaN\n",
              "62    NaN\n",
              "65    NaN\n",
              "72    NaN\n",
              "73    NaN\n",
              "74    NaN\n",
              "81    NaN\n",
              "82    NaN\n",
              "84    NaN\n",
              "88    NaN\n",
              "90    NaN\n",
              "94    NaN\n",
              "105   NaN\n",
              "109   NaN\n",
              "112   NaN\n",
              "114   NaN\n",
              "116   NaN\n",
              "121   NaN\n",
              "125   NaN\n",
              "Name: 1st Goal, dtype: float64"
            ]
          },
          "metadata": {
            "tags": []
          },
          "execution_count": 14
        }
      ]
    },
    {
      "cell_type": "code",
      "metadata": {
        "id": "Jd_h_SDzg9bs",
        "colab_type": "code",
        "outputId": "a4781035-de0f-43ed-bd4a-e4b3f68f20ac",
        "colab": {
          "base_uri": "https://localhost:8080/",
          "height": 221
        }
      },
      "source": [
        "data_num[data_num.index.isin(flt_index2)]['Own goals']"
      ],
      "execution_count": 0,
      "outputs": [
        {
          "output_type": "execute_result",
          "data": {
            "text/plain": [
              "0     NaN\n",
              "1     NaN\n",
              "2     NaN\n",
              "3     NaN\n",
              "5     NaN\n",
              "       ..\n",
              "122   NaN\n",
              "123   NaN\n",
              "124   NaN\n",
              "125   NaN\n",
              "127   NaN\n",
              "Name: Own goals, Length: 116, dtype: float64"
            ]
          },
          "metadata": {
            "tags": []
          },
          "execution_count": 15
        }
      ]
    },
    {
      "cell_type": "code",
      "metadata": {
        "id": "si89ZvEAhYh4",
        "colab_type": "code",
        "outputId": "07c51fc8-3b44-4217-d803-d4f569cd0579",
        "colab": {
          "base_uri": "https://localhost:8080/",
          "height": 221
        }
      },
      "source": [
        "data_num[data_num.index.isin(flt_index3)]['Own goal Time']"
      ],
      "execution_count": 0,
      "outputs": [
        {
          "output_type": "execute_result",
          "data": {
            "text/plain": [
              "0     NaN\n",
              "1     NaN\n",
              "2     NaN\n",
              "3     NaN\n",
              "5     NaN\n",
              "       ..\n",
              "122   NaN\n",
              "123   NaN\n",
              "124   NaN\n",
              "125   NaN\n",
              "127   NaN\n",
              "Name: Own goal Time, Length: 116, dtype: float64"
            ]
          },
          "metadata": {
            "tags": []
          },
          "execution_count": 16
        }
      ]
    },
    {
      "cell_type": "code",
      "metadata": {
        "id": "MCidMDA9hlKu",
        "colab_type": "code",
        "outputId": "76aa4037-d27b-4ae7-9cfc-9d57ffe960d9",
        "colab": {
          "base_uri": "https://localhost:8080/",
          "height": 68
        }
      },
      "source": [
        "print (flt_index1.shape[0])\n",
        "print (flt_index2.shape[0])\n",
        "print (flt_index3.shape[0])"
      ],
      "execution_count": 0,
      "outputs": [
        {
          "output_type": "stream",
          "text": [
            "34\n",
            "116\n",
            "116\n"
          ],
          "name": "stdout"
        }
      ]
    },
    {
      "cell_type": "code",
      "metadata": {
        "id": "veKOwaITlJoB",
        "colab_type": "code",
        "outputId": "6cd0077f-4418-4b1f-847b-3cf9c13c0630",
        "colab": {
          "base_uri": "https://localhost:8080/",
          "height": 34
        }
      },
      "source": [
        "data['Own goal Time'].unique()"
      ],
      "execution_count": 0,
      "outputs": [
        {
          "output_type": "execute_result",
          "data": {
            "text/plain": [
              "array([nan, 90., 81., 32., 37., 47., 23., 74., 33., 12., 13., 18.])"
            ]
          },
          "metadata": {
            "tags": []
          },
          "execution_count": 18
        }
      ]
    },
    {
      "cell_type": "code",
      "metadata": {
        "id": "sRWz7cIMlYoG",
        "colab_type": "code",
        "outputId": "ae35bbe6-d294-422f-fada-059314e48f20",
        "colab": {
          "base_uri": "https://localhost:8080/",
          "height": 34
        }
      },
      "source": [
        "data['Own goals'].unique()"
      ],
      "execution_count": 0,
      "outputs": [
        {
          "output_type": "execute_result",
          "data": {
            "text/plain": [
              "array([nan,  1.])"
            ]
          },
          "metadata": {
            "tags": []
          },
          "execution_count": 19
        }
      ]
    },
    {
      "cell_type": "code",
      "metadata": {
        "id": "o8JypD-wlgne",
        "colab_type": "code",
        "outputId": "28b52b69-68dc-4e0f-acd6-b2ed5b671de1",
        "colab": {
          "base_uri": "https://localhost:8080/",
          "height": 102
        }
      },
      "source": [
        "data['1st Goal'].unique()"
      ],
      "execution_count": 0,
      "outputs": [
        {
          "output_type": "execute_result",
          "data": {
            "text/plain": [
              "array([12., nan, 89., 90.,  4., 24., 58., 62., 19., 23., 59., 32., 56.,\n",
              "       35., 20., 50., 65., 47., 11., 39.,  6., 37., 60., 54.,  7., 38.,\n",
              "       34., 53., 49.,  5., 52., 18., 26., 48.,  8., 78., 40., 10., 45.,\n",
              "       22., 14., 51., 76., 36., 31., 74., 33., 13., 41., 55.,  1., 69.,\n",
              "       66., 57., 30., 68., 28.])"
            ]
          },
          "metadata": {
            "tags": []
          },
          "execution_count": 20
        }
      ]
    },
    {
      "cell_type": "markdown",
      "metadata": {
        "id": "z0OXd58Z5APZ",
        "colab_type": "text"
      },
      "source": [
        "Столбец «Own goal» имеет значения один или нан. Из спортивной информации мы видим, что возможность забить более одного гола за команду против себя редка. Таким образом, мы можем ожидать, что для всех значений Nan логическое значение равно 0."
      ]
    },
    {
      "cell_type": "code",
      "metadata": {
        "id": "XRmmzMVOllyx",
        "colab_type": "code",
        "outputId": "47afdf03-199b-4312-e5ce-92660147388a",
        "colab": {
          "base_uri": "https://localhost:8080/",
          "height": 34
        }
      },
      "source": [
        "data_num[data_num['Own goals'].isnull()]['Own goal Time'].isnull().sum()"
      ],
      "execution_count": 0,
      "outputs": [
        {
          "output_type": "execute_result",
          "data": {
            "text/plain": [
              "116"
            ]
          },
          "metadata": {
            "tags": []
          },
          "execution_count": 21
        }
      ]
    },
    {
      "cell_type": "markdown",
      "metadata": {
        "id": "Wue_VkiX5kaX",
        "colab_type": "text"
      },
      "source": [
        "Здесь мы увидели, что когда значение «Own goals» равно нулю, тогда значение столбца «Own goal Time» также равно нулю. Таким образом, если мы заменим значения Nan на нули, тогда мы должны установить время также равным нулю. Что будет указывать на то, что это событие никогда не происходило."
      ]
    },
    {
      "cell_type": "code",
      "metadata": {
        "id": "9ANDMLn0mlCq",
        "colab_type": "code",
        "outputId": "41edc812-a55d-48cd-c11b-210ae798958f",
        "colab": {
          "base_uri": "https://localhost:8080/",
          "height": 612
        }
      },
      "source": [
        "data[data_num['1st Goal'].isnull()]['Goal Scored']==0"
      ],
      "execution_count": 0,
      "outputs": [
        {
          "output_type": "execute_result",
          "data": {
            "text/plain": [
              "1       True\n",
              "2       True\n",
              "4       True\n",
              "12      True\n",
              "15      True\n",
              "16      True\n",
              "18      True\n",
              "23      True\n",
              "25      True\n",
              "35      True\n",
              "37      True\n",
              "38      True\n",
              "43      True\n",
              "44      True\n",
              "47      True\n",
              "49      True\n",
              "62      True\n",
              "65      True\n",
              "72      True\n",
              "73      True\n",
              "74      True\n",
              "81      True\n",
              "82      True\n",
              "84      True\n",
              "88      True\n",
              "90      True\n",
              "94      True\n",
              "105     True\n",
              "109     True\n",
              "112     True\n",
              "114    False\n",
              "116     True\n",
              "121     True\n",
              "125     True\n",
              "Name: Goal Scored, dtype: bool"
            ]
          },
          "metadata": {
            "tags": []
          },
          "execution_count": 22
        }
      ]
    },
    {
      "cell_type": "markdown",
      "metadata": {
        "id": "L1_Kmk087Mkm",
        "colab_type": "text"
      },
      "source": [
        "Чтобы понять, почему столбец целей «1st Goal» имеет нулевое значение, мы рассмотрим «Goal Scored», в которых описано, сколько голов забил команда. И мы видим, что когда команда не забила ни одного гола, тогда время первого гола устанавливается равным нулю, за исключением одного значения.  \n",
        "Мы попытаемся получить дополнительную информацию об этой точке, чтобы увидеть спецификацию совпадения через ее строку."
      ]
    },
    {
      "cell_type": "code",
      "metadata": {
        "id": "0xyQ9D4nm5el",
        "colab_type": "code",
        "outputId": "753bdd87-eb58-437d-bb75-1847b5f96b6f",
        "colab": {
          "base_uri": "https://localhost:8080/",
          "height": 185
        }
      },
      "source": [
        "data.loc[[114]]"
      ],
      "execution_count": 0,
      "outputs": [
        {
          "output_type": "execute_result",
          "data": {
            "text/html": [
              "<div>\n",
              "<style scoped>\n",
              "    .dataframe tbody tr th:only-of-type {\n",
              "        vertical-align: middle;\n",
              "    }\n",
              "\n",
              "    .dataframe tbody tr th {\n",
              "        vertical-align: top;\n",
              "    }\n",
              "\n",
              "    .dataframe thead th {\n",
              "        text-align: right;\n",
              "    }\n",
              "</style>\n",
              "<table border=\"1\" class=\"dataframe\">\n",
              "  <thead>\n",
              "    <tr style=\"text-align: right;\">\n",
              "      <th></th>\n",
              "      <th>Date</th>\n",
              "      <th>Team</th>\n",
              "      <th>Opponent</th>\n",
              "      <th>Goal Scored</th>\n",
              "      <th>Ball Possession %</th>\n",
              "      <th>Attempts</th>\n",
              "      <th>On-Target</th>\n",
              "      <th>Off-Target</th>\n",
              "      <th>Blocked</th>\n",
              "      <th>Corners</th>\n",
              "      <th>Offsides</th>\n",
              "      <th>Free Kicks</th>\n",
              "      <th>Saves</th>\n",
              "      <th>Pass Accuracy %</th>\n",
              "      <th>Passes</th>\n",
              "      <th>Distance Covered (Kms)</th>\n",
              "      <th>Fouls Committed</th>\n",
              "      <th>Yellow Card</th>\n",
              "      <th>Yellow &amp; Red</th>\n",
              "      <th>Red</th>\n",
              "      <th>Man of the Match</th>\n",
              "      <th>1st Goal</th>\n",
              "      <th>Round</th>\n",
              "      <th>PSO</th>\n",
              "      <th>Goals in PSO</th>\n",
              "      <th>Own goals</th>\n",
              "      <th>Own goal Time</th>\n",
              "    </tr>\n",
              "  </thead>\n",
              "  <tbody>\n",
              "    <tr>\n",
              "      <th>114</th>\n",
              "      <td>06-07-2018</td>\n",
              "      <td>Brazil</td>\n",
              "      <td>Belgium</td>\n",
              "      <td>1</td>\n",
              "      <td>57</td>\n",
              "      <td>26</td>\n",
              "      <td>9</td>\n",
              "      <td>7</td>\n",
              "      <td>10</td>\n",
              "      <td>8</td>\n",
              "      <td>1</td>\n",
              "      <td>16</td>\n",
              "      <td>2</td>\n",
              "      <td>89</td>\n",
              "      <td>557</td>\n",
              "      <td>104</td>\n",
              "      <td>14</td>\n",
              "      <td>2</td>\n",
              "      <td>0</td>\n",
              "      <td>0</td>\n",
              "      <td>No</td>\n",
              "      <td>NaN</td>\n",
              "      <td>Quarter Finals</td>\n",
              "      <td>No</td>\n",
              "      <td>0</td>\n",
              "      <td>1.0</td>\n",
              "      <td>13.0</td>\n",
              "    </tr>\n",
              "  </tbody>\n",
              "</table>\n",
              "</div>"
            ],
            "text/plain": [
              "           Date    Team Opponent  ...  Goals in PSO  Own goals  Own goal Time\n",
              "114  06-07-2018  Brazil  Belgium  ...             0        1.0           13.0\n",
              "\n",
              "[1 rows x 27 columns]"
            ]
          },
          "metadata": {
            "tags": []
          },
          "execution_count": 23
        }
      ]
    },
    {
      "cell_type": "markdown",
      "metadata": {
        "id": "nWMfwf-CAiSb",
        "colab_type": "text"
      },
      "source": [
        "В этой строке есть значение атрибута 'Goals scored'. Таким образом, должно быть значение атрибута «1st Goal».   Давайте посмотрим описание значений в столбце «1st Goal»."
      ]
    },
    {
      "cell_type": "code",
      "metadata": {
        "id": "dD2ylignh8XC",
        "colab_type": "code",
        "outputId": "7d82df33-348b-43b7-bbb2-4e0665898d01",
        "colab": {
          "base_uri": "https://localhost:8080/",
          "height": 204
        }
      },
      "source": [
        "data_num_1stGoal = data_num[['1st Goal']]\n",
        "data_num_1stGoal.head()"
      ],
      "execution_count": 0,
      "outputs": [
        {
          "output_type": "execute_result",
          "data": {
            "text/html": [
              "<div>\n",
              "<style scoped>\n",
              "    .dataframe tbody tr th:only-of-type {\n",
              "        vertical-align: middle;\n",
              "    }\n",
              "\n",
              "    .dataframe tbody tr th {\n",
              "        vertical-align: top;\n",
              "    }\n",
              "\n",
              "    .dataframe thead th {\n",
              "        text-align: right;\n",
              "    }\n",
              "</style>\n",
              "<table border=\"1\" class=\"dataframe\">\n",
              "  <thead>\n",
              "    <tr style=\"text-align: right;\">\n",
              "      <th></th>\n",
              "      <th>1st Goal</th>\n",
              "    </tr>\n",
              "  </thead>\n",
              "  <tbody>\n",
              "    <tr>\n",
              "      <th>0</th>\n",
              "      <td>12.0</td>\n",
              "    </tr>\n",
              "    <tr>\n",
              "      <th>1</th>\n",
              "      <td>NaN</td>\n",
              "    </tr>\n",
              "    <tr>\n",
              "      <th>2</th>\n",
              "      <td>NaN</td>\n",
              "    </tr>\n",
              "    <tr>\n",
              "      <th>3</th>\n",
              "      <td>89.0</td>\n",
              "    </tr>\n",
              "    <tr>\n",
              "      <th>4</th>\n",
              "      <td>NaN</td>\n",
              "    </tr>\n",
              "  </tbody>\n",
              "</table>\n",
              "</div>"
            ],
            "text/plain": [
              "   1st Goal\n",
              "0      12.0\n",
              "1       NaN\n",
              "2       NaN\n",
              "3      89.0\n",
              "4       NaN"
            ]
          },
          "metadata": {
            "tags": []
          },
          "execution_count": 24
        }
      ]
    },
    {
      "cell_type": "code",
      "metadata": {
        "id": "Zp10QGULidqJ",
        "colab_type": "code",
        "outputId": "8801f43b-df17-4345-d942-6491ad96dba8",
        "colab": {
          "base_uri": "https://localhost:8080/",
          "height": 297
        }
      },
      "source": [
        "data_num_1stGoal.describe()"
      ],
      "execution_count": 0,
      "outputs": [
        {
          "output_type": "execute_result",
          "data": {
            "text/html": [
              "<div>\n",
              "<style scoped>\n",
              "    .dataframe tbody tr th:only-of-type {\n",
              "        vertical-align: middle;\n",
              "    }\n",
              "\n",
              "    .dataframe tbody tr th {\n",
              "        vertical-align: top;\n",
              "    }\n",
              "\n",
              "    .dataframe thead th {\n",
              "        text-align: right;\n",
              "    }\n",
              "</style>\n",
              "<table border=\"1\" class=\"dataframe\">\n",
              "  <thead>\n",
              "    <tr style=\"text-align: right;\">\n",
              "      <th></th>\n",
              "      <th>1st Goal</th>\n",
              "    </tr>\n",
              "  </thead>\n",
              "  <tbody>\n",
              "    <tr>\n",
              "      <th>count</th>\n",
              "      <td>94.000000</td>\n",
              "    </tr>\n",
              "    <tr>\n",
              "      <th>mean</th>\n",
              "      <td>39.457447</td>\n",
              "    </tr>\n",
              "    <tr>\n",
              "      <th>std</th>\n",
              "      <td>24.496506</td>\n",
              "    </tr>\n",
              "    <tr>\n",
              "      <th>min</th>\n",
              "      <td>1.000000</td>\n",
              "    </tr>\n",
              "    <tr>\n",
              "      <th>25%</th>\n",
              "      <td>18.250000</td>\n",
              "    </tr>\n",
              "    <tr>\n",
              "      <th>50%</th>\n",
              "      <td>39.000000</td>\n",
              "    </tr>\n",
              "    <tr>\n",
              "      <th>75%</th>\n",
              "      <td>54.750000</td>\n",
              "    </tr>\n",
              "    <tr>\n",
              "      <th>max</th>\n",
              "      <td>90.000000</td>\n",
              "    </tr>\n",
              "  </tbody>\n",
              "</table>\n",
              "</div>"
            ],
            "text/plain": [
              "        1st Goal\n",
              "count  94.000000\n",
              "mean   39.457447\n",
              "std    24.496506\n",
              "min     1.000000\n",
              "25%    18.250000\n",
              "50%    39.000000\n",
              "75%    54.750000\n",
              "max    90.000000"
            ]
          },
          "metadata": {
            "tags": []
          },
          "execution_count": 25
        }
      ]
    },
    {
      "cell_type": "markdown",
      "metadata": {
        "id": "4dtNyP5jBD3L",
        "colab_type": "text"
      },
      "source": [
        "Мы можем заполнить атрибут значением среднего или наиболее частым значением из столбца."
      ]
    },
    {
      "cell_type": "markdown",
      "metadata": {
        "id": "dGRxAUO6Bsmp",
        "colab_type": "text"
      },
      "source": [
        "Наконец, чтобы заменить значения NaN, мы решили:  \n",
        "1. Заполните все нулевые значения «Own goals» нулями\n",
        "2. Заполните все «Own goal Time» нулями\n",
        "3. Заполните все нулевые значения «1st Goal» нулями, ожидаемыми для значения в строке 114, которое должно быть заполнено средним значением."
      ]
    },
    {
      "cell_type": "code",
      "metadata": {
        "id": "7Fz7YSMuBqfX",
        "colab_type": "code",
        "colab": {}
      },
      "source": [
        "from sklearn.impute import SimpleImputer\n",
        "from sklearn.impute import MissingIndicator"
      ],
      "execution_count": 0,
      "outputs": []
    },
    {
      "cell_type": "code",
      "metadata": {
        "id": "QkBRr9BeCARN",
        "colab_type": "code",
        "colab": {}
      },
      "source": [
        "pd.options.mode.chained_assignment = None\n",
        "data['1st Goal'][114]=int(data_num_1stGoal.mean())"
      ],
      "execution_count": 0,
      "outputs": []
    },
    {
      "cell_type": "code",
      "metadata": {
        "id": "Hp8RBDzHIpTl",
        "colab_type": "code",
        "colab": {}
      },
      "source": [
        "def test_num_impute_col(dataset, column):\n",
        "    temp_data = dataset[[column]]\n",
        "    \n",
        "    indicator = MissingIndicator()\n",
        "    mask_missing_values_only = indicator.fit_transform(temp_data)\n",
        "    \n",
        "    imp_num = SimpleImputer(strategy='constant',fill_value=0)\n",
        "    data_num_imp = imp_num.fit_transform(temp_data)\n",
        "    \n",
        "    filled_data = data_num_imp[mask_missing_values_only]\n",
        "    \n",
        "    return column, filled_data.size,data_num_imp"
      ],
      "execution_count": 0,
      "outputs": []
    },
    {
      "cell_type": "code",
      "metadata": {
        "id": "uM_v6HCeI4th",
        "colab_type": "code",
        "colab": {}
      },
      "source": [
        "new_1s_Goal=test_num_impute_col(data, '1st Goal')"
      ],
      "execution_count": 0,
      "outputs": []
    },
    {
      "cell_type": "code",
      "metadata": {
        "id": "48QQUTqSKwHQ",
        "colab_type": "code",
        "colab": {}
      },
      "source": [
        "new_Own_goals=test_num_impute_col(data, 'Own goals')"
      ],
      "execution_count": 0,
      "outputs": []
    },
    {
      "cell_type": "code",
      "metadata": {
        "id": "BzQuuQ4EK6iP",
        "colab_type": "code",
        "colab": {}
      },
      "source": [
        "new_Own_goal_Time=test_num_impute_col(data, 'Own goal Time')"
      ],
      "execution_count": 0,
      "outputs": []
    },
    {
      "cell_type": "markdown",
      "metadata": {
        "id": "4ph-YYqmN0TU",
        "colab_type": "text"
      },
      "source": [
        "Для построения модели машинного обучения мы не должны зависеть от атрибута, который имеет высокий процент пропущенных данных. Таким образом, мы можем выполнить «Own goals» и «Own goal Time»"
      ]
    },
    {
      "cell_type": "markdown",
      "metadata": {
        "id": "9vOOp8DvPMR9",
        "colab_type": "text"
      },
      "source": [
        "## 2. Преобразование категориальных признаков в числовые"
      ]
    },
    {
      "cell_type": "markdown",
      "metadata": {
        "id": "peQCn71EXyzs",
        "colab_type": "text"
      },
      "source": [
        "В нашем наборе данных у нас есть шесть атрибутов типа объекта, которые необходимо преобразовать в числовые значения.  \n",
        "Прежде всего мы рассмотрим, сколько уникальных значений содержат эти атрибуты:"
      ]
    },
    {
      "cell_type": "code",
      "metadata": {
        "id": "xQYBjgq0PPAk",
        "colab_type": "code",
        "outputId": "c5be96d9-7864-4bfb-b3d3-28810ac8ea5c",
        "colab": {
          "base_uri": "https://localhost:8080/",
          "height": 136
        }
      },
      "source": [
        "data['Date'].unique()"
      ],
      "execution_count": 0,
      "outputs": [
        {
          "output_type": "execute_result",
          "data": {
            "text/plain": [
              "array(['14-06-2018', '15-06-2018', '16-06-2018', '17-06-2018',\n",
              "       '18-06-2018', '19-06-2018', '20-06-2018', '21-06-2018',\n",
              "       '22-06-2018', '23-06-2018', '24-06-2018', '25-06-2018',\n",
              "       '26-06-2018', '27-06-2018', '28-06-2018', '30-06-2018',\n",
              "       '01-07-2018', '02-07-2018', '03-07-2018', '06-07-2018',\n",
              "       '07-07-2018', '10-07-2018', '11-07-2018', '14-07-2018',\n",
              "       '15-07-2018'], dtype=object)"
            ]
          },
          "metadata": {
            "tags": []
          },
          "execution_count": 32
        }
      ]
    },
    {
      "cell_type": "code",
      "metadata": {
        "id": "XNxkUPrrQOXu",
        "colab_type": "code",
        "outputId": "1b21449a-c9e0-4dd8-afcf-f532dd9a61da",
        "colab": {
          "base_uri": "https://localhost:8080/",
          "height": 119
        }
      },
      "source": [
        "data['Team'].unique()"
      ],
      "execution_count": 0,
      "outputs": [
        {
          "output_type": "execute_result",
          "data": {
            "text/plain": [
              "array(['Russia', 'Saudi Arabia', 'Egypt', 'Uruguay', 'Morocco', 'Iran',\n",
              "       'Portugal', 'Spain', 'France', 'Australia', 'Argentina', 'Iceland',\n",
              "       'Peru', 'Denmark', 'Croatia', 'Nigeria', 'Costa Rica', 'Serbia',\n",
              "       'Germany', 'Mexico', 'Brazil', 'Switzerland', 'Sweden',\n",
              "       'Korea Republic', 'Belgium', 'Panama', 'Tunisia', 'England',\n",
              "       'Colombia', 'Japan', 'Poland', 'Senegal'], dtype=object)"
            ]
          },
          "metadata": {
            "tags": []
          },
          "execution_count": 33
        }
      ]
    },
    {
      "cell_type": "code",
      "metadata": {
        "id": "zpv-vtckQnVw",
        "colab_type": "code",
        "outputId": "2cdbfc11-2c48-4b11-d3f8-52756d6f7822",
        "colab": {
          "base_uri": "https://localhost:8080/",
          "height": 34
        }
      },
      "source": [
        "data['Opponent'].isin(data['Team']).sum()"
      ],
      "execution_count": 0,
      "outputs": [
        {
          "output_type": "execute_result",
          "data": {
            "text/plain": [
              "128"
            ]
          },
          "metadata": {
            "tags": []
          },
          "execution_count": 35
        }
      ]
    },
    {
      "cell_type": "markdown",
      "metadata": {
        "id": "ei4Wv70FYOvO",
        "colab_type": "text"
      },
      "source": [
        "Мы рассмотрели, что все страны, которые отображаются в столбце «Opponent», существуют также внутри столбца «Team», чтобы использовать одну кодировку для обоих атрибутов."
      ]
    },
    {
      "cell_type": "code",
      "metadata": {
        "id": "RzSNWtFEQVbN",
        "colab_type": "code",
        "outputId": "5b7667bf-1922-4f55-f881-f9cedd16dbff",
        "colab": {
          "base_uri": "https://localhost:8080/",
          "height": 34
        }
      },
      "source": [
        "data['Man of the Match'].unique()"
      ],
      "execution_count": 0,
      "outputs": [
        {
          "output_type": "execute_result",
          "data": {
            "text/plain": [
              "array(['Yes', 'No'], dtype=object)"
            ]
          },
          "metadata": {
            "tags": []
          },
          "execution_count": 36
        }
      ]
    },
    {
      "cell_type": "code",
      "metadata": {
        "id": "MiWJ0WOAQfur",
        "colab_type": "code",
        "outputId": "4509b087-d4c7-4424-fa2f-0bea48469142",
        "colab": {
          "base_uri": "https://localhost:8080/",
          "height": 51
        }
      },
      "source": [
        "data['Round'].unique()"
      ],
      "execution_count": 0,
      "outputs": [
        {
          "output_type": "execute_result",
          "data": {
            "text/plain": [
              "array(['Group Stage', 'Round of 16', 'Quarter Finals', 'Semi- Finals',\n",
              "       '3rd Place', 'Final'], dtype=object)"
            ]
          },
          "metadata": {
            "tags": []
          },
          "execution_count": 37
        }
      ]
    },
    {
      "cell_type": "code",
      "metadata": {
        "id": "APSDq44PQiDj",
        "colab_type": "code",
        "outputId": "0f87d9db-7502-4ec8-83ea-a1d646393ac7",
        "colab": {
          "base_uri": "https://localhost:8080/",
          "height": 34
        }
      },
      "source": [
        "data['PSO'].unique()"
      ],
      "execution_count": 0,
      "outputs": [
        {
          "output_type": "execute_result",
          "data": {
            "text/plain": [
              "array(['No', 'Yes'], dtype=object)"
            ]
          },
          "metadata": {
            "tags": []
          },
          "execution_count": 38
        }
      ]
    },
    {
      "cell_type": "markdown",
      "metadata": {
        "id": "eedlKV2YbRFo",
        "colab_type": "text"
      },
      "source": [
        "Мы будем использовать LabelEncoder со столбцами, которые имеют много значений, таких как команды, раунд и дата.  \n",
        "С Man of the Match и PSO, которые имеют только два значения, мы будем использовать фиктивный кодировщик."
      ]
    },
    {
      "cell_type": "code",
      "metadata": {
        "id": "JfVebDo3QlAT",
        "colab_type": "code",
        "colab": {}
      },
      "source": [
        "from sklearn.preprocessing import LabelEncoder"
      ],
      "execution_count": 0,
      "outputs": []
    },
    {
      "cell_type": "code",
      "metadata": {
        "id": "34tiuCyyTsEf",
        "colab_type": "code",
        "outputId": "c93a60e0-638c-4146-85dd-483de627d1a7",
        "colab": {
          "base_uri": "https://localhost:8080/",
          "height": 51
        }
      },
      "source": [
        "le = LabelEncoder()\n",
        "Teams_le = le.fit_transform(data['Team'])\n",
        "np.unique(Teams_le)"
      ],
      "execution_count": 0,
      "outputs": [
        {
          "output_type": "execute_result",
          "data": {
            "text/plain": [
              "array([ 0,  1,  2,  3,  4,  5,  6,  7,  8,  9, 10, 11, 12, 13, 14, 15, 16,\n",
              "       17, 18, 19, 20, 21, 22, 23, 24, 25, 26, 27, 28, 29, 30, 31])"
            ]
          },
          "metadata": {
            "tags": []
          },
          "execution_count": 40
        }
      ]
    },
    {
      "cell_type": "code",
      "metadata": {
        "id": "tGsco-gaXVQ6",
        "colab_type": "code",
        "outputId": "8347985b-a806-4a2e-9bbc-f5c42bf88709",
        "colab": {
          "base_uri": "https://localhost:8080/",
          "height": 34
        }
      },
      "source": [
        "Rounds_le = le.fit_transform(data['Round'])\n",
        "np.unique(Rounds_le)"
      ],
      "execution_count": 0,
      "outputs": [
        {
          "output_type": "execute_result",
          "data": {
            "text/plain": [
              "array([0, 1, 2, 3, 4, 5])"
            ]
          },
          "metadata": {
            "tags": []
          },
          "execution_count": 41
        }
      ]
    },
    {
      "cell_type": "code",
      "metadata": {
        "id": "u04zEPpvVv_2",
        "colab_type": "code",
        "outputId": "002bd9b9-ba2d-44a6-d572-00030d355149",
        "colab": {
          "base_uri": "https://localhost:8080/",
          "height": 204
        }
      },
      "source": [
        "pd.get_dummies(data['Man of the Match']).head()"
      ],
      "execution_count": 0,
      "outputs": [
        {
          "output_type": "execute_result",
          "data": {
            "text/html": [
              "<div>\n",
              "<style scoped>\n",
              "    .dataframe tbody tr th:only-of-type {\n",
              "        vertical-align: middle;\n",
              "    }\n",
              "\n",
              "    .dataframe tbody tr th {\n",
              "        vertical-align: top;\n",
              "    }\n",
              "\n",
              "    .dataframe thead th {\n",
              "        text-align: right;\n",
              "    }\n",
              "</style>\n",
              "<table border=\"1\" class=\"dataframe\">\n",
              "  <thead>\n",
              "    <tr style=\"text-align: right;\">\n",
              "      <th></th>\n",
              "      <th>No</th>\n",
              "      <th>Yes</th>\n",
              "    </tr>\n",
              "  </thead>\n",
              "  <tbody>\n",
              "    <tr>\n",
              "      <th>0</th>\n",
              "      <td>0</td>\n",
              "      <td>1</td>\n",
              "    </tr>\n",
              "    <tr>\n",
              "      <th>1</th>\n",
              "      <td>1</td>\n",
              "      <td>0</td>\n",
              "    </tr>\n",
              "    <tr>\n",
              "      <th>2</th>\n",
              "      <td>1</td>\n",
              "      <td>0</td>\n",
              "    </tr>\n",
              "    <tr>\n",
              "      <th>3</th>\n",
              "      <td>0</td>\n",
              "      <td>1</td>\n",
              "    </tr>\n",
              "    <tr>\n",
              "      <th>4</th>\n",
              "      <td>1</td>\n",
              "      <td>0</td>\n",
              "    </tr>\n",
              "  </tbody>\n",
              "</table>\n",
              "</div>"
            ],
            "text/plain": [
              "   No  Yes\n",
              "0   0    1\n",
              "1   1    0\n",
              "2   1    0\n",
              "3   0    1\n",
              "4   1    0"
            ]
          },
          "metadata": {
            "tags": []
          },
          "execution_count": 42
        }
      ]
    },
    {
      "cell_type": "code",
      "metadata": {
        "id": "CCgNQWXuVyGm",
        "colab_type": "code",
        "outputId": "225e34ad-cb31-49ad-e188-96ac693bc107",
        "colab": {
          "base_uri": "https://localhost:8080/",
          "height": 204
        }
      },
      "source": [
        "pd.get_dummies(data['PSO']).head()"
      ],
      "execution_count": 0,
      "outputs": [
        {
          "output_type": "execute_result",
          "data": {
            "text/html": [
              "<div>\n",
              "<style scoped>\n",
              "    .dataframe tbody tr th:only-of-type {\n",
              "        vertical-align: middle;\n",
              "    }\n",
              "\n",
              "    .dataframe tbody tr th {\n",
              "        vertical-align: top;\n",
              "    }\n",
              "\n",
              "    .dataframe thead th {\n",
              "        text-align: right;\n",
              "    }\n",
              "</style>\n",
              "<table border=\"1\" class=\"dataframe\">\n",
              "  <thead>\n",
              "    <tr style=\"text-align: right;\">\n",
              "      <th></th>\n",
              "      <th>No</th>\n",
              "      <th>Yes</th>\n",
              "    </tr>\n",
              "  </thead>\n",
              "  <tbody>\n",
              "    <tr>\n",
              "      <th>0</th>\n",
              "      <td>1</td>\n",
              "      <td>0</td>\n",
              "    </tr>\n",
              "    <tr>\n",
              "      <th>1</th>\n",
              "      <td>1</td>\n",
              "      <td>0</td>\n",
              "    </tr>\n",
              "    <tr>\n",
              "      <th>2</th>\n",
              "      <td>1</td>\n",
              "      <td>0</td>\n",
              "    </tr>\n",
              "    <tr>\n",
              "      <th>3</th>\n",
              "      <td>1</td>\n",
              "      <td>0</td>\n",
              "    </tr>\n",
              "    <tr>\n",
              "      <th>4</th>\n",
              "      <td>1</td>\n",
              "      <td>0</td>\n",
              "    </tr>\n",
              "  </tbody>\n",
              "</table>\n",
              "</div>"
            ],
            "text/plain": [
              "   No  Yes\n",
              "0   1    0\n",
              "1   1    0\n",
              "2   1    0\n",
              "3   1    0\n",
              "4   1    0"
            ]
          },
          "metadata": {
            "tags": []
          },
          "execution_count": 43
        }
      ]
    },
    {
      "cell_type": "markdown",
      "metadata": {
        "id": "2u0eIg4gbhRj",
        "colab_type": "text"
      },
      "source": [
        "## 3. Масштабирование данных"
      ]
    },
    {
      "cell_type": "markdown",
      "metadata": {
        "id": "Z1okaraZcdhG",
        "colab_type": "text"
      },
      "source": [
        "<img src=\"https://drive.google.com/uc?id=1ErsGINA9UUDExukzOsOAh4iT3Nv3Y6pu\">"
      ]
    },
    {
      "cell_type": "markdown",
      "metadata": {
        "id": "bfg80b8Xg2ro",
        "colab_type": "text"
      },
      "source": [
        "Поскольку между минимальным и максимальным значениями атрибута «Passes» имеется большой интервал, мы будем использовать MinMaxScalar ()."
      ]
    },
    {
      "cell_type": "code",
      "metadata": {
        "id": "KGE-7wvnhbNF",
        "colab_type": "code",
        "colab": {}
      },
      "source": [
        "from sklearn.preprocessing import StandardScaler, MinMaxScaler"
      ],
      "execution_count": 0,
      "outputs": []
    },
    {
      "cell_type": "code",
      "metadata": {
        "id": "T-6Fd_whbY-1",
        "colab_type": "code",
        "colab": {}
      },
      "source": [
        "sc = MinMaxScaler()\n",
        "Passes_sc = sc.fit_transform(data[['Passes']])"
      ],
      "execution_count": 0,
      "outputs": []
    },
    {
      "cell_type": "code",
      "metadata": {
        "id": "n-K6dn0nhZzs",
        "colab_type": "code",
        "outputId": "7d18cc75-9670-4631-e275-58f6ad5571f9",
        "colab": {
          "base_uri": "https://localhost:8080/",
          "height": 268
        }
      },
      "source": [
        "plt.hist(data['Passes'], 50)\n",
        "plt.show()"
      ],
      "execution_count": 0,
      "outputs": [
        {
          "output_type": "display_data",
          "data": {
            "image/png": "[encoded data removed]",
            "text/plain": [
              "<Figure size 432x288 with 1 Axes>"
            ]
          },
          "metadata": {
            "tags": []
          }
        }
      ]
    },
    {
      "cell_type": "code",
      "metadata": {
        "id": "N270arOXhlpP",
        "colab_type": "code",
        "outputId": "7c09c351-d987-499c-f030-30ab77ca0997",
        "colab": {
          "base_uri": "https://localhost:8080/",
          "height": 268
        }
      },
      "source": [
        "plt.hist(Passes_sc, 50)\n",
        "plt.show()"
      ],
      "execution_count": 0,
      "outputs": [
        {
          "output_type": "display_data",
          "data": {
            "image/png": "[encoded data removed]",
            "text/plain": [
              "<Figure size 432x288 with 1 Axes>"
            ]
          },
          "metadata": {
            "tags": []
          }
        }
      ]
    },
    {
      "cell_type": "markdown",
      "metadata": {
        "id": "0_ZiDCUrmN_q",
        "colab_type": "text"
      },
      "source": [
        "чтобы лучше понять, как значения атрибута «Distance Covered» мы будем использовать нормализатор standardScalar"
      ]
    },
    {
      "cell_type": "code",
      "metadata": {
        "id": "YtTpB5sThrc3",
        "colab_type": "code",
        "colab": {}
      },
      "source": [
        "sc = StandardScaler()\n",
        "Distance_sc = sc.fit_transform(data[['Distance Covered (Kms)']])"
      ],
      "execution_count": 0,
      "outputs": []
    },
    {
      "cell_type": "code",
      "metadata": {
        "id": "Mse-ooe_jNYl",
        "colab_type": "code",
        "outputId": "df9f8cf5-70a0-4255-f10c-e0fc405da237",
        "colab": {
          "base_uri": "https://localhost:8080/",
          "height": 268
        }
      },
      "source": [
        "plt.hist(data['Distance Covered (Kms)'], 50)\n",
        "plt.show()"
      ],
      "execution_count": 0,
      "outputs": [
        {
          "output_type": "display_data",
          "data": {
            "image/png": "[encoded data removed]",
            "text/plain": [
              "<Figure size 432x288 with 1 Axes>"
            ]
          },
          "metadata": {
            "tags": []
          }
        }
      ]
    },
    {
      "cell_type": "code",
      "metadata": {
        "id": "PxdjmNFVjgJj",
        "colab_type": "code",
        "outputId": "8fc8105d-21c7-4447-d674-d5e18133b817",
        "colab": {
          "base_uri": "https://localhost:8080/",
          "height": 268
        }
      },
      "source": [
        "plt.hist(Distance_sc, 50)\n",
        "plt.show()"
      ],
      "execution_count": 0,
      "outputs": [
        {
          "output_type": "display_data",
          "data": {
            "image/png": "[encoded data removed]",
            "text/plain": [
              "<Figure size 432x288 with 1 Axes>"
            ]
          },
          "metadata": {
            "tags": []
          }
        }
      ]
    },
    {
      "cell_type": "code",
      "metadata": {
        "id": "EcxX_BWZklj0",
        "colab_type": "code",
        "colab": {}
      },
      "source": [
        ""
      ],
      "execution_count": 0,
      "outputs": []
    }
  ]
}