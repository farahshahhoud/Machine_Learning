{
  "nbformat": 4,
  "nbformat_minor": 0,
  "metadata": {
    "colab": {
      "name": "Лаб3ipynb",
      "provenance": [],
      "mount_file_id": "1W_QmM0ZYE02t4RAQSS8cB-oJN_kvPJfX",
      "authorship_tag": "ABX9TyPnp57tvwQIpyPwiL8nD/tq",
      "include_colab_link": true
    },
    "kernelspec": {
      "name": "python3",
      "display_name": "Python 3"
    }
  },
  "cells": [
    {
      "cell_type": "markdown",
      "metadata": {
        "id": "view-in-github",
        "colab_type": "text"
      },
      "source": [
        "<a href=\"https://colab.research.google.com/github/farahshahhoud/Machine_Learning/blob/master/%D0%9B%D0%B0%D0%B13.ipynb\" target=\"_parent\"><img src=\"https://colab.research.google.com/assets/colab-badge.svg\" alt=\"Open In Colab\"/></a>"
      ]
    },
    {
      "cell_type": "markdown",
      "metadata": {
        "id": "FF6-oOYNePcP",
        "colab_type": "text"
      },
      "source": [
        "\n",
        "#набор данных\n",
        "Департамент здравоохранения разработал отчет о проверке и систему оценки. После проведения проверки объекта Инспектор здравоохранения рассчитывает балл на основе наблюдаемых нарушений. Нарушения могут относиться к: категории высокого риска: регистрируются конкретные нарушения, которые непосредственно связаны с передачей болезней пищевого происхождения, фальсификацией пищевых продуктов и загрязнением поверхностей, контактирующих с пищевыми продуктами. Категория умеренного риска: регистрирует конкретные нарушения, которые имеют умеренный риск в категорию общественного здравоохранения и безопасности. Низкая степень риска: регистрирует нарушения, которые имеют низкий уровень риска или не имеют непосредственного риска для здоровья и безопасности населения. Счетная карточка, которая будет выдана инспектором, хранится в продовольственном учреждении и доступна для публика в этом наборе данных.Эта информация будет частью построения модели машинного обучения, которая будет предсказывать, к какой категории относится каждое учреждение. Давайте сначала посмотрим на наш набор данных и увидим некоторые его строки."
      ]
    },
    {
      "cell_type": "code",
      "metadata": {
        "id": "G-lHug1uZwcN",
        "colab_type": "code",
        "colab": {
          "base_uri": "https://localhost:8080/",
          "height": 71
        },
        "outputId": "8659a9b9-1eae-4746-b2f2-42ad9d5504b8"
      },
      "source": [
        "import numpy as np\n",
        "import pandas as pd\n",
        "import seaborn as sns\n",
        "import matplotlib.pyplot as plt\n",
        "%matplotlib inline \n",
        "sns.set(style=\"ticks\")\n",
        "from sklearn.impute import SimpleImputer\n",
        "from sklearn.impute import MissingIndicator"
      ],
      "execution_count": 1,
      "outputs": [
        {
          "output_type": "stream",
          "text": [
            "/usr/local/lib/python3.6/dist-packages/statsmodels/tools/_testing.py:19: FutureWarning: pandas.util.testing is deprecated. Use the functions in the public API at pandas.testing instead.\n",
            "  import pandas.util.testing as tm\n"
          ],
          "name": "stderr"
        }
      ]
    },
    {
      "cell_type": "code",
      "metadata": {
        "id": "zAn_N_FnZ3Vg",
        "colab_type": "code",
        "colab": {}
      },
      "source": [
        "data = pd.read_csv('/content/drive/My Drive/restaurant-scores-lives-standard.csv', sep=\",\")"
      ],
      "execution_count": 0,
      "outputs": []
    },
    {
      "cell_type": "code",
      "metadata": {
        "id": "JTuUfaFWZ5OA",
        "colab_type": "code",
        "colab": {
          "base_uri": "https://localhost:8080/",
          "height": 326
        },
        "outputId": "0433435a-d1b6-45b9-fa8a-4146b7704a24"
      },
      "source": [
        "data.head()"
      ],
      "execution_count": 4,
      "outputs": [
        {
          "output_type": "execute_result",
          "data": {
            "text/html": [
              "<div>\n",
              "<style scoped>\n",
              "    .dataframe tbody tr th:only-of-type {\n",
              "        vertical-align: middle;\n",
              "    }\n",
              "\n",
              "    .dataframe tbody tr th {\n",
              "        vertical-align: top;\n",
              "    }\n",
              "\n",
              "    .dataframe thead th {\n",
              "        text-align: right;\n",
              "    }\n",
              "</style>\n",
              "<table border=\"1\" class=\"dataframe\">\n",
              "  <thead>\n",
              "    <tr style=\"text-align: right;\">\n",
              "      <th></th>\n",
              "      <th>business_id</th>\n",
              "      <th>business_name</th>\n",
              "      <th>business_address</th>\n",
              "      <th>business_city</th>\n",
              "      <th>business_state</th>\n",
              "      <th>business_postal_code</th>\n",
              "      <th>business_latitude</th>\n",
              "      <th>business_longitude</th>\n",
              "      <th>business_location</th>\n",
              "      <th>business_phone_number</th>\n",
              "      <th>inspection_id</th>\n",
              "      <th>inspection_date</th>\n",
              "      <th>inspection_score</th>\n",
              "      <th>inspection_type</th>\n",
              "      <th>violation_id</th>\n",
              "      <th>violation_description</th>\n",
              "      <th>risk_category</th>\n",
              "    </tr>\n",
              "  </thead>\n",
              "  <tbody>\n",
              "    <tr>\n",
              "      <th>0</th>\n",
              "      <td>69618</td>\n",
              "      <td>Fancy Wheatfield Bakery</td>\n",
              "      <td>1362 Stockton St</td>\n",
              "      <td>San Francisco</td>\n",
              "      <td>CA</td>\n",
              "      <td>94133</td>\n",
              "      <td>NaN</td>\n",
              "      <td>NaN</td>\n",
              "      <td>NaN</td>\n",
              "      <td>NaN</td>\n",
              "      <td>69618_20190304</td>\n",
              "      <td>2019-03-04T00:00:00.000</td>\n",
              "      <td>NaN</td>\n",
              "      <td>Complaint</td>\n",
              "      <td>69618_20190304_103130</td>\n",
              "      <td>Inadequate sewage or wastewater disposal</td>\n",
              "      <td>Moderate Risk</td>\n",
              "    </tr>\n",
              "    <tr>\n",
              "      <th>1</th>\n",
              "      <td>97975</td>\n",
              "      <td>BREADBELLY</td>\n",
              "      <td>1408 Clement St</td>\n",
              "      <td>San Francisco</td>\n",
              "      <td>CA</td>\n",
              "      <td>94118</td>\n",
              "      <td>NaN</td>\n",
              "      <td>NaN</td>\n",
              "      <td>NaN</td>\n",
              "      <td>1.415724e+10</td>\n",
              "      <td>97975_20190725</td>\n",
              "      <td>2019-07-25T00:00:00.000</td>\n",
              "      <td>96.0</td>\n",
              "      <td>Routine - Unscheduled</td>\n",
              "      <td>97975_20190725_103124</td>\n",
              "      <td>Inadequately cleaned or sanitized food contact...</td>\n",
              "      <td>Moderate Risk</td>\n",
              "    </tr>\n",
              "    <tr>\n",
              "      <th>2</th>\n",
              "      <td>69487</td>\n",
              "      <td>Hakkasan San Francisco</td>\n",
              "      <td>1 Kearny St</td>\n",
              "      <td>San Francisco</td>\n",
              "      <td>CA</td>\n",
              "      <td>94108</td>\n",
              "      <td>NaN</td>\n",
              "      <td>NaN</td>\n",
              "      <td>NaN</td>\n",
              "      <td>NaN</td>\n",
              "      <td>69487_20180418</td>\n",
              "      <td>2018-04-18T00:00:00.000</td>\n",
              "      <td>88.0</td>\n",
              "      <td>Routine - Unscheduled</td>\n",
              "      <td>69487_20180418_103119</td>\n",
              "      <td>Inadequate and inaccessible handwashing facili...</td>\n",
              "      <td>Moderate Risk</td>\n",
              "    </tr>\n",
              "    <tr>\n",
              "      <th>3</th>\n",
              "      <td>91044</td>\n",
              "      <td>Chopsticks Restaurant</td>\n",
              "      <td>4615 Mission St</td>\n",
              "      <td>San Francisco</td>\n",
              "      <td>CA</td>\n",
              "      <td>94112</td>\n",
              "      <td>NaN</td>\n",
              "      <td>NaN</td>\n",
              "      <td>NaN</td>\n",
              "      <td>NaN</td>\n",
              "      <td>91044_20170818</td>\n",
              "      <td>2017-08-18T00:00:00.000</td>\n",
              "      <td>NaN</td>\n",
              "      <td>Non-inspection site visit</td>\n",
              "      <td>NaN</td>\n",
              "      <td>NaN</td>\n",
              "      <td>NaN</td>\n",
              "    </tr>\n",
              "    <tr>\n",
              "      <th>4</th>\n",
              "      <td>85987</td>\n",
              "      <td>Tselogs</td>\n",
              "      <td>552 Jones St</td>\n",
              "      <td>San Francisco</td>\n",
              "      <td>CA</td>\n",
              "      <td>94102</td>\n",
              "      <td>NaN</td>\n",
              "      <td>NaN</td>\n",
              "      <td>NaN</td>\n",
              "      <td>NaN</td>\n",
              "      <td>85987_20180412</td>\n",
              "      <td>2018-04-12T00:00:00.000</td>\n",
              "      <td>94.0</td>\n",
              "      <td>Routine - Unscheduled</td>\n",
              "      <td>85987_20180412_103132</td>\n",
              "      <td>Improper thawing methods</td>\n",
              "      <td>Moderate Risk</td>\n",
              "    </tr>\n",
              "  </tbody>\n",
              "</table>\n",
              "</div>"
            ],
            "text/plain": [
              "   business_id  ...  risk_category\n",
              "0        69618  ...  Moderate Risk\n",
              "1        97975  ...  Moderate Risk\n",
              "2        69487  ...  Moderate Risk\n",
              "3        91044  ...            NaN\n",
              "4        85987  ...  Moderate Risk\n",
              "\n",
              "[5 rows x 17 columns]"
            ]
          },
          "metadata": {
            "tags": []
          },
          "execution_count": 4
        }
      ]
    },
    {
      "cell_type": "code",
      "metadata": {
        "id": "1J5PE9AFcWKc",
        "colab_type": "code",
        "colab": {
          "base_uri": "https://localhost:8080/",
          "height": 34
        },
        "outputId": "fad3a43c-1884-4ee6-9b31-110ebd8c5c16"
      },
      "source": [
        "data.shape"
      ],
      "execution_count": 5,
      "outputs": [
        {
          "output_type": "execute_result",
          "data": {
            "text/plain": [
              "(53973, 17)"
            ]
          },
          "metadata": {
            "tags": []
          },
          "execution_count": 5
        }
      ]
    },
    {
      "cell_type": "code",
      "metadata": {
        "id": "LoQC7i2QcX1V",
        "colab_type": "code",
        "colab": {
          "base_uri": "https://localhost:8080/",
          "height": 323
        },
        "outputId": "fbef58f5-5ed9-4b5a-cd50-acb245c28eb3"
      },
      "source": [
        "data.dtypes"
      ],
      "execution_count": 6,
      "outputs": [
        {
          "output_type": "execute_result",
          "data": {
            "text/plain": [
              "business_id                int64\n",
              "business_name             object\n",
              "business_address          object\n",
              "business_city             object\n",
              "business_state            object\n",
              "business_postal_code      object\n",
              "business_latitude        float64\n",
              "business_longitude       float64\n",
              "business_location         object\n",
              "business_phone_number    float64\n",
              "inspection_id             object\n",
              "inspection_date           object\n",
              "inspection_score         float64\n",
              "inspection_type           object\n",
              "violation_id              object\n",
              "violation_description     object\n",
              "risk_category             object\n",
              "dtype: object"
            ]
          },
          "metadata": {
            "tags": []
          },
          "execution_count": 6
        }
      ]
    },
    {
      "cell_type": "markdown",
      "metadata": {
        "id": "B5rDApE-fFKr",
        "colab_type": "text"
      },
      "source": [
        "# 1. Обработка пропусков в данных"
      ]
    },
    {
      "cell_type": "markdown",
      "metadata": {
        "id": "KdrOIyBifJVe",
        "colab_type": "text"
      },
      "source": [
        "## 1.1. Обработка пропусков в числовых данных"
      ]
    },
    {
      "cell_type": "code",
      "metadata": {
        "id": "FKqNYC64caQc",
        "colab_type": "code",
        "colab": {
          "base_uri": "https://localhost:8080/",
          "height": 323
        },
        "outputId": "caa23fa9-6612-49c1-9d8e-2bc01f940643"
      },
      "source": [
        "data.isnull().sum()"
      ],
      "execution_count": 7,
      "outputs": [
        {
          "output_type": "execute_result",
          "data": {
            "text/plain": [
              "business_id                  0\n",
              "business_name                0\n",
              "business_address             0\n",
              "business_city                0\n",
              "business_state               0\n",
              "business_postal_code      1083\n",
              "business_latitude        24095\n",
              "business_longitude       24095\n",
              "business_location        24095\n",
              "business_phone_number    36539\n",
              "inspection_id                0\n",
              "inspection_date              0\n",
              "inspection_score         14114\n",
              "inspection_type              0\n",
              "violation_id             13462\n",
              "violation_description    13462\n",
              "risk_category            13462\n",
              "dtype: int64"
            ]
          },
          "metadata": {
            "tags": []
          },
          "execution_count": 7
        }
      ]
    },
    {
      "cell_type": "code",
      "metadata": {
        "id": "aSkBGGiOce6l",
        "colab_type": "code",
        "colab": {
          "base_uri": "https://localhost:8080/",
          "height": 34
        },
        "outputId": "c4cd506e-83e5-423b-806c-fa0476073a42"
      },
      "source": [
        "total_count = data.shape[0]\n",
        "print('Всего строк: {}'.format(total_count))"
      ],
      "execution_count": 8,
      "outputs": [
        {
          "output_type": "stream",
          "text": [
            "Всего строк: 53973\n"
          ],
          "name": "stdout"
        }
      ]
    },
    {
      "cell_type": "code",
      "metadata": {
        "id": "ZcNvTBAsciVL",
        "colab_type": "code",
        "colab": {
          "base_uri": "https://localhost:8080/",
          "height": 34
        },
        "outputId": "ecdd3a28-e337-477c-c5e5-67ffccf73a96"
      },
      "source": [
        "data_new_1 = data.dropna(axis=1, how='any')\n",
        "(data.shape, data_new_1.shape)"
      ],
      "execution_count": 10,
      "outputs": [
        {
          "output_type": "execute_result",
          "data": {
            "text/plain": [
              "((53973, 17), (53973, 8))"
            ]
          },
          "metadata": {
            "tags": []
          },
          "execution_count": 10
        }
      ]
    },
    {
      "cell_type": "code",
      "metadata": {
        "id": "iqMme5YRckWs",
        "colab_type": "code",
        "colab": {
          "base_uri": "https://localhost:8080/",
          "height": 34
        },
        "outputId": "4ca78b93-388e-4dbc-ffba-8ccca01b6273"
      },
      "source": [
        "data_new_2 = data.dropna(axis=0, how='any')\n",
        "(data.shape, data_new_2.shape)"
      ],
      "execution_count": 11,
      "outputs": [
        {
          "output_type": "execute_result",
          "data": {
            "text/plain": [
              "((53973, 17), (5711, 17))"
            ]
          },
          "metadata": {
            "tags": []
          },
          "execution_count": 11
        }
      ]
    },
    {
      "cell_type": "markdown",
      "metadata": {
        "id": "blENbG6-edTN",
        "colab_type": "text"
      },
      "source": [
        "\n",
        "Если мы удалили столбцы, содержащие нулевое значение, мы получим 8 вместо 17.  \n",
        "Если мы удалили строку, содержащую нулевые значения, мы получим 5711 вместо 53973 строк."
      ]
    },
    {
      "cell_type": "markdown",
      "metadata": {
        "id": "TltQ6PW7elco",
        "colab_type": "text"
      },
      "source": [
        "**Процент пустых значений в девяти столбцах:**"
      ]
    },
    {
      "cell_type": "code",
      "metadata": {
        "id": "WvdAZmv5crJx",
        "colab_type": "code",
        "colab": {
          "base_uri": "https://localhost:8080/",
          "height": 170
        },
        "outputId": "32643549-13e7-417a-d5f9-cd37a19d9c2f"
      },
      "source": [
        "num_cols = []\n",
        "for col in data.columns:\n",
        "    # Количество пустых значений \n",
        "    temp_null_count = data[data[col].isnull()].shape[0]\n",
        "    dt = str(data[col].dtype)\n",
        "    if temp_null_count>0:\n",
        "        num_cols.append(col)\n",
        "        temp_perc = round((temp_null_count / total_count) * 100.0, 2)\n",
        "        print('Колонка {}. Тип данных {}. Количество пустых значений {}, {}%.'.format(col, dt, temp_null_count, temp_perc))"
      ],
      "execution_count": 12,
      "outputs": [
        {
          "output_type": "stream",
          "text": [
            "Колонка business_postal_code. Тип данных object. Количество пустых значений 1083, 2.01%.\n",
            "Колонка business_latitude. Тип данных float64. Количество пустых значений 24095, 44.64%.\n",
            "Колонка business_longitude. Тип данных float64. Количество пустых значений 24095, 44.64%.\n",
            "Колонка business_location. Тип данных object. Количество пустых значений 24095, 44.64%.\n",
            "Колонка business_phone_number. Тип данных float64. Количество пустых значений 36539, 67.7%.\n",
            "Колонка inspection_score. Тип данных float64. Количество пустых значений 14114, 26.15%.\n",
            "Колонка violation_id. Тип данных object. Количество пустых значений 13462, 24.94%.\n",
            "Колонка violation_description. Тип данных object. Количество пустых значений 13462, 24.94%.\n",
            "Колонка risk_category. Тип данных object. Количество пустых значений 13462, 24.94%.\n"
          ],
          "name": "stdout"
        }
      ]
    },
    {
      "cell_type": "code",
      "metadata": {
        "id": "DyKAkR6LcusK",
        "colab_type": "code",
        "colab": {
          "base_uri": "https://localhost:8080/",
          "height": 592
        },
        "outputId": "a8d8e49c-0faa-485c-8214-0b461f66a84c"
      },
      "source": [
        "\n",
        "data_num = data[num_cols]\n",
        "data_num"
      ],
      "execution_count": 13,
      "outputs": [
        {
          "output_type": "execute_result",
          "data": {
            "text/html": [
              "<div>\n",
              "<style scoped>\n",
              "    .dataframe tbody tr th:only-of-type {\n",
              "        vertical-align: middle;\n",
              "    }\n",
              "\n",
              "    .dataframe tbody tr th {\n",
              "        vertical-align: top;\n",
              "    }\n",
              "\n",
              "    .dataframe thead th {\n",
              "        text-align: right;\n",
              "    }\n",
              "</style>\n",
              "<table border=\"1\" class=\"dataframe\">\n",
              "  <thead>\n",
              "    <tr style=\"text-align: right;\">\n",
              "      <th></th>\n",
              "      <th>business_postal_code</th>\n",
              "      <th>business_latitude</th>\n",
              "      <th>business_longitude</th>\n",
              "      <th>business_location</th>\n",
              "      <th>business_phone_number</th>\n",
              "      <th>inspection_score</th>\n",
              "      <th>violation_id</th>\n",
              "      <th>violation_description</th>\n",
              "      <th>risk_category</th>\n",
              "    </tr>\n",
              "  </thead>\n",
              "  <tbody>\n",
              "    <tr>\n",
              "      <th>0</th>\n",
              "      <td>94133</td>\n",
              "      <td>NaN</td>\n",
              "      <td>NaN</td>\n",
              "      <td>NaN</td>\n",
              "      <td>NaN</td>\n",
              "      <td>NaN</td>\n",
              "      <td>69618_20190304_103130</td>\n",
              "      <td>Inadequate sewage or wastewater disposal</td>\n",
              "      <td>Moderate Risk</td>\n",
              "    </tr>\n",
              "    <tr>\n",
              "      <th>1</th>\n",
              "      <td>94118</td>\n",
              "      <td>NaN</td>\n",
              "      <td>NaN</td>\n",
              "      <td>NaN</td>\n",
              "      <td>1.415724e+10</td>\n",
              "      <td>96.0</td>\n",
              "      <td>97975_20190725_103124</td>\n",
              "      <td>Inadequately cleaned or sanitized food contact...</td>\n",
              "      <td>Moderate Risk</td>\n",
              "    </tr>\n",
              "    <tr>\n",
              "      <th>2</th>\n",
              "      <td>94108</td>\n",
              "      <td>NaN</td>\n",
              "      <td>NaN</td>\n",
              "      <td>NaN</td>\n",
              "      <td>NaN</td>\n",
              "      <td>88.0</td>\n",
              "      <td>69487_20180418_103119</td>\n",
              "      <td>Inadequate and inaccessible handwashing facili...</td>\n",
              "      <td>Moderate Risk</td>\n",
              "    </tr>\n",
              "    <tr>\n",
              "      <th>3</th>\n",
              "      <td>94112</td>\n",
              "      <td>NaN</td>\n",
              "      <td>NaN</td>\n",
              "      <td>NaN</td>\n",
              "      <td>NaN</td>\n",
              "      <td>NaN</td>\n",
              "      <td>NaN</td>\n",
              "      <td>NaN</td>\n",
              "      <td>NaN</td>\n",
              "    </tr>\n",
              "    <tr>\n",
              "      <th>4</th>\n",
              "      <td>94102</td>\n",
              "      <td>NaN</td>\n",
              "      <td>NaN</td>\n",
              "      <td>NaN</td>\n",
              "      <td>NaN</td>\n",
              "      <td>94.0</td>\n",
              "      <td>85987_20180412_103132</td>\n",
              "      <td>Improper thawing methods</td>\n",
              "      <td>Moderate Risk</td>\n",
              "    </tr>\n",
              "    <tr>\n",
              "      <th>...</th>\n",
              "      <td>...</td>\n",
              "      <td>...</td>\n",
              "      <td>...</td>\n",
              "      <td>...</td>\n",
              "      <td>...</td>\n",
              "      <td>...</td>\n",
              "      <td>...</td>\n",
              "      <td>...</td>\n",
              "      <td>...</td>\n",
              "    </tr>\n",
              "    <tr>\n",
              "      <th>53968</th>\n",
              "      <td>94110</td>\n",
              "      <td>NaN</td>\n",
              "      <td>NaN</td>\n",
              "      <td>NaN</td>\n",
              "      <td>1.415596e+10</td>\n",
              "      <td>94.0</td>\n",
              "      <td>80305_20190411_103149</td>\n",
              "      <td>Wiping cloths not clean or properly stored or ...</td>\n",
              "      <td>Low Risk</td>\n",
              "    </tr>\n",
              "    <tr>\n",
              "      <th>53969</th>\n",
              "      <td>94134</td>\n",
              "      <td>NaN</td>\n",
              "      <td>NaN</td>\n",
              "      <td>NaN</td>\n",
              "      <td>NaN</td>\n",
              "      <td>75.0</td>\n",
              "      <td>80233_20190417_103133</td>\n",
              "      <td>Foods not protected from contamination</td>\n",
              "      <td>Moderate Risk</td>\n",
              "    </tr>\n",
              "    <tr>\n",
              "      <th>53970</th>\n",
              "      <td>94103</td>\n",
              "      <td>NaN</td>\n",
              "      <td>NaN</td>\n",
              "      <td>NaN</td>\n",
              "      <td>1.415530e+10</td>\n",
              "      <td>84.0</td>\n",
              "      <td>100216_20190321_103119</td>\n",
              "      <td>Inadequate and inaccessible handwashing facili...</td>\n",
              "      <td>Moderate Risk</td>\n",
              "    </tr>\n",
              "    <tr>\n",
              "      <th>53971</th>\n",
              "      <td>94110</td>\n",
              "      <td>NaN</td>\n",
              "      <td>NaN</td>\n",
              "      <td>NaN</td>\n",
              "      <td>1.415544e+10</td>\n",
              "      <td>83.0</td>\n",
              "      <td>79430_20190418_103109</td>\n",
              "      <td>Unclean or unsanitary food contact surfaces</td>\n",
              "      <td>High Risk</td>\n",
              "    </tr>\n",
              "    <tr>\n",
              "      <th>53972</th>\n",
              "      <td>94122</td>\n",
              "      <td>NaN</td>\n",
              "      <td>NaN</td>\n",
              "      <td>NaN</td>\n",
              "      <td>1.415551e+10</td>\n",
              "      <td>NaN</td>\n",
              "      <td>NaN</td>\n",
              "      <td>NaN</td>\n",
              "      <td>NaN</td>\n",
              "    </tr>\n",
              "  </tbody>\n",
              "</table>\n",
              "<p>53973 rows × 9 columns</p>\n",
              "</div>"
            ],
            "text/plain": [
              "      business_postal_code  ...  risk_category\n",
              "0                    94133  ...  Moderate Risk\n",
              "1                    94118  ...  Moderate Risk\n",
              "2                    94108  ...  Moderate Risk\n",
              "3                    94112  ...            NaN\n",
              "4                    94102  ...  Moderate Risk\n",
              "...                    ...  ...            ...\n",
              "53968                94110  ...       Low Risk\n",
              "53969                94134  ...  Moderate Risk\n",
              "53970                94103  ...  Moderate Risk\n",
              "53971                94110  ...      High Risk\n",
              "53972                94122  ...            NaN\n",
              "\n",
              "[53973 rows x 9 columns]"
            ]
          },
          "metadata": {
            "tags": []
          },
          "execution_count": 13
        }
      ]
    },
    {
      "cell_type": "markdown",
      "metadata": {
        "id": "bUyWCpsQesUs",
        "colab_type": "text"
      },
      "source": [
        "**гистограмма для числовых данных**"
      ]
    },
    {
      "cell_type": "code",
      "metadata": {
        "id": "gPEIBeMDcxL9",
        "colab_type": "code",
        "colab": {
          "base_uri": "https://localhost:8080/",
          "height": 1000
        },
        "outputId": "319e943e-8b6e-47e1-a394-86ddacc053af"
      },
      "source": [
        "for col in data_num:\n",
        "    if(data[col].dtype!='O'):\n",
        "      plt.hist(data[col],50)\n",
        "      plt.xlabel(col)\n",
        "      plt.show()"
      ],
      "execution_count": 14,
      "outputs": [
        {
          "output_type": "stream",
          "text": [
            "/usr/local/lib/python3.6/dist-packages/numpy/lib/histograms.py:839: RuntimeWarning: invalid value encountered in greater_equal\n",
            "  keep = (tmp_a >= first_edge)\n",
            "/usr/local/lib/python3.6/dist-packages/numpy/lib/histograms.py:840: RuntimeWarning: invalid value encountered in less_equal\n",
            "  keep &= (tmp_a <= last_edge)\n"
          ],
          "name": "stderr"
        },
        {
          "output_type": "display_data",
          "data": {
            "image/png": "[encoded data removed]",
            "text/plain": [
              "<Figure size 432x288 with 1 Axes>"
            ]
          },
          "metadata": {
            "tags": [],
            "needs_background": "light"
          }
        },
        {
          "output_type": "display_data",
          "data": {
            "image/png": "[encoded data removed]",
            "text/plain": [
              "<Figure size 432x288 with 1 Axes>"
            ]
          },
          "metadata": {
            "tags": [],
            "needs_background": "light"
          }
        },
        {
          "output_type": "display_data",
          "data": {
            "image/png": "[encoded data removed]",
            "text/plain": [
              "<Figure size 432x288 with 1 Axes>"
            ]
          },
          "metadata": {
            "tags": [],
            "needs_background": "light"
          }
        },
        {
          "output_type": "display_data",
          "data": {
            "image/png": "[encoded data removed]",
            "text/plain": [
              "<Figure size 432x288 with 1 Axes>"
            ]
          },
          "metadata": {
            "tags": [],
            "needs_background": "light"
          }
        }
      ]
    },
    {
      "cell_type": "markdown",
      "metadata": {
        "id": "J4JDV0G8eyaQ",
        "colab_type": "text"
      },
      "source": [
        "\n",
        "Мы знаем, что столбец postal_code должен быть уникальным для каждого здания, и мы можем заполнить нулевые значения, поэтому мы отбросим этот столбец.\n",
        "\n",
        "Также в столбцах (business_latitude, business_longitude, business_location) мы не можем предсказать нулевые значения в них, поэтому мы заполняем их нулевыми значениями. Все столбцы (postal_code, business_latitude, business_longitude, business_location) не имеют такого значения, поскольку столбец business_address не содержит нулевого значения, поэтому мы можем положиться на него при анализе данных вместо этих столбцов.\n",
        "\n"
      ]
    },
    {
      "cell_type": "code",
      "metadata": {
        "id": "AgmVIH9-c0je",
        "colab_type": "code",
        "colab": {}
      },
      "source": [
        "data_num=data_num.drop(columns='business_postal_code')\n",
        "temp=data_num['business_latitude'].fillna(0)\n",
        "temp1=data_num['business_longitude'].fillna(0)\n",
        "temp2=data_num['business_location'].fillna('---')"
      ],
      "execution_count": 0,
      "outputs": []
    },
    {
      "cell_type": "code",
      "metadata": {
        "id": "9giixWJ1c4MM",
        "colab_type": "code",
        "colab": {}
      },
      "source": [
        "data_num[['business_latitude','business_longitude','business_location']]=pd.DataFrame({'business_latitude':temp,'business_longitude':temp1,'business_location':temp2})"
      ],
      "execution_count": 0,
      "outputs": []
    },
    {
      "cell_type": "code",
      "metadata": {
        "id": "aqhVXjn6c6ib",
        "colab_type": "code",
        "colab": {
          "base_uri": "https://localhost:8080/",
          "height": 592
        },
        "outputId": "4b3a5bf8-7c98-48dc-f8f5-83a75b88fc47"
      },
      "source": [
        "data_num\n"
      ],
      "execution_count": 17,
      "outputs": [
        {
          "output_type": "execute_result",
          "data": {
            "text/html": [
              "<div>\n",
              "<style scoped>\n",
              "    .dataframe tbody tr th:only-of-type {\n",
              "        vertical-align: middle;\n",
              "    }\n",
              "\n",
              "    .dataframe tbody tr th {\n",
              "        vertical-align: top;\n",
              "    }\n",
              "\n",
              "    .dataframe thead th {\n",
              "        text-align: right;\n",
              "    }\n",
              "</style>\n",
              "<table border=\"1\" class=\"dataframe\">\n",
              "  <thead>\n",
              "    <tr style=\"text-align: right;\">\n",
              "      <th></th>\n",
              "      <th>business_latitude</th>\n",
              "      <th>business_longitude</th>\n",
              "      <th>business_location</th>\n",
              "      <th>business_phone_number</th>\n",
              "      <th>inspection_score</th>\n",
              "      <th>violation_id</th>\n",
              "      <th>violation_description</th>\n",
              "      <th>risk_category</th>\n",
              "    </tr>\n",
              "  </thead>\n",
              "  <tbody>\n",
              "    <tr>\n",
              "      <th>0</th>\n",
              "      <td>0.0</td>\n",
              "      <td>0.0</td>\n",
              "      <td>---</td>\n",
              "      <td>NaN</td>\n",
              "      <td>NaN</td>\n",
              "      <td>69618_20190304_103130</td>\n",
              "      <td>Inadequate sewage or wastewater disposal</td>\n",
              "      <td>Moderate Risk</td>\n",
              "    </tr>\n",
              "    <tr>\n",
              "      <th>1</th>\n",
              "      <td>0.0</td>\n",
              "      <td>0.0</td>\n",
              "      <td>---</td>\n",
              "      <td>1.415724e+10</td>\n",
              "      <td>96.0</td>\n",
              "      <td>97975_20190725_103124</td>\n",
              "      <td>Inadequately cleaned or sanitized food contact...</td>\n",
              "      <td>Moderate Risk</td>\n",
              "    </tr>\n",
              "    <tr>\n",
              "      <th>2</th>\n",
              "      <td>0.0</td>\n",
              "      <td>0.0</td>\n",
              "      <td>---</td>\n",
              "      <td>NaN</td>\n",
              "      <td>88.0</td>\n",
              "      <td>69487_20180418_103119</td>\n",
              "      <td>Inadequate and inaccessible handwashing facili...</td>\n",
              "      <td>Moderate Risk</td>\n",
              "    </tr>\n",
              "    <tr>\n",
              "      <th>3</th>\n",
              "      <td>0.0</td>\n",
              "      <td>0.0</td>\n",
              "      <td>---</td>\n",
              "      <td>NaN</td>\n",
              "      <td>NaN</td>\n",
              "      <td>NaN</td>\n",
              "      <td>NaN</td>\n",
              "      <td>NaN</td>\n",
              "    </tr>\n",
              "    <tr>\n",
              "      <th>4</th>\n",
              "      <td>0.0</td>\n",
              "      <td>0.0</td>\n",
              "      <td>---</td>\n",
              "      <td>NaN</td>\n",
              "      <td>94.0</td>\n",
              "      <td>85987_20180412_103132</td>\n",
              "      <td>Improper thawing methods</td>\n",
              "      <td>Moderate Risk</td>\n",
              "    </tr>\n",
              "    <tr>\n",
              "      <th>...</th>\n",
              "      <td>...</td>\n",
              "      <td>...</td>\n",
              "      <td>...</td>\n",
              "      <td>...</td>\n",
              "      <td>...</td>\n",
              "      <td>...</td>\n",
              "      <td>...</td>\n",
              "      <td>...</td>\n",
              "    </tr>\n",
              "    <tr>\n",
              "      <th>53968</th>\n",
              "      <td>0.0</td>\n",
              "      <td>0.0</td>\n",
              "      <td>---</td>\n",
              "      <td>1.415596e+10</td>\n",
              "      <td>94.0</td>\n",
              "      <td>80305_20190411_103149</td>\n",
              "      <td>Wiping cloths not clean or properly stored or ...</td>\n",
              "      <td>Low Risk</td>\n",
              "    </tr>\n",
              "    <tr>\n",
              "      <th>53969</th>\n",
              "      <td>0.0</td>\n",
              "      <td>0.0</td>\n",
              "      <td>---</td>\n",
              "      <td>NaN</td>\n",
              "      <td>75.0</td>\n",
              "      <td>80233_20190417_103133</td>\n",
              "      <td>Foods not protected from contamination</td>\n",
              "      <td>Moderate Risk</td>\n",
              "    </tr>\n",
              "    <tr>\n",
              "      <th>53970</th>\n",
              "      <td>0.0</td>\n",
              "      <td>0.0</td>\n",
              "      <td>---</td>\n",
              "      <td>1.415530e+10</td>\n",
              "      <td>84.0</td>\n",
              "      <td>100216_20190321_103119</td>\n",
              "      <td>Inadequate and inaccessible handwashing facili...</td>\n",
              "      <td>Moderate Risk</td>\n",
              "    </tr>\n",
              "    <tr>\n",
              "      <th>53971</th>\n",
              "      <td>0.0</td>\n",
              "      <td>0.0</td>\n",
              "      <td>---</td>\n",
              "      <td>1.415544e+10</td>\n",
              "      <td>83.0</td>\n",
              "      <td>79430_20190418_103109</td>\n",
              "      <td>Unclean or unsanitary food contact surfaces</td>\n",
              "      <td>High Risk</td>\n",
              "    </tr>\n",
              "    <tr>\n",
              "      <th>53972</th>\n",
              "      <td>0.0</td>\n",
              "      <td>0.0</td>\n",
              "      <td>---</td>\n",
              "      <td>1.415551e+10</td>\n",
              "      <td>NaN</td>\n",
              "      <td>NaN</td>\n",
              "      <td>NaN</td>\n",
              "      <td>NaN</td>\n",
              "    </tr>\n",
              "  </tbody>\n",
              "</table>\n",
              "<p>53973 rows × 8 columns</p>\n",
              "</div>"
            ],
            "text/plain": [
              "       business_latitude  ...  risk_category\n",
              "0                    0.0  ...  Moderate Risk\n",
              "1                    0.0  ...  Moderate Risk\n",
              "2                    0.0  ...  Moderate Risk\n",
              "3                    0.0  ...            NaN\n",
              "4                    0.0  ...  Moderate Risk\n",
              "...                  ...  ...            ...\n",
              "53968                0.0  ...       Low Risk\n",
              "53969                0.0  ...  Moderate Risk\n",
              "53970                0.0  ...  Moderate Risk\n",
              "53971                0.0  ...      High Risk\n",
              "53972                0.0  ...            NaN\n",
              "\n",
              "[53973 rows x 8 columns]"
            ]
          },
          "metadata": {
            "tags": []
          },
          "execution_count": 17
        }
      ]
    },
    {
      "cell_type": "code",
      "metadata": {
        "id": "K_7wmqdnc8Y7",
        "colab_type": "code",
        "colab": {}
      },
      "source": [
        "def test_num_impute_col(dataset, column, strategy_param,fillvalue=None):\n",
        "    temp_data = dataset[[column]]\n",
        "    \n",
        "    indicator = MissingIndicator()\n",
        "    mask_missing_values_only = indicator.fit_transform(temp_data)\n",
        "    \n",
        "    imp_num = SimpleImputer(missing_values=np.nan,strategy=strategy_param,fill_value=fillvalue)\n",
        "    data_num_imp = imp_num.fit_transform(temp_data)\n",
        "    \n",
        "    filled_data = data_num_imp[mask_missing_values_only]\n",
        "    data_num[[column]]=data_num_imp\n",
        "    \n",
        "    return column, strategy_param, filled_data.size, filled_data[0], filled_data[filled_data.size-1]"
      ],
      "execution_count": 0,
      "outputs": []
    },
    {
      "cell_type": "code",
      "metadata": {
        "id": "cgkWI8P9c_r6",
        "colab_type": "code",
        "colab": {}
      },
      "source": [
        "dic={}\n",
        "for i in data['business_name'].index:\n",
        "  if ~(data.loc[i,'business_phone_number'] != data.loc[i,'business_phone_number']):\n",
        "    dic[data.loc[i,'business_name']]=data.loc[i,'business_phone_number']"
      ],
      "execution_count": 0,
      "outputs": []
    },
    {
      "cell_type": "markdown",
      "metadata": {
        "id": "7XCoLxKoe3LS",
        "colab_type": "text"
      },
      "source": [
        "чтобы заполнить пустые значения столбца business_phone_number, мы сначала заполним его номером той же компании, который доступен в другой строке, и, если он недоступен, мы заполним его нулем.\n",
        "\n"
      ]
    },
    {
      "cell_type": "code",
      "metadata": {
        "id": "7D96lE35dByk",
        "colab_type": "code",
        "colab": {}
      },
      "source": [
        "for i in data['business_name'].index:\n",
        "  if (data.loc[i,'business_phone_number'] != data.loc[i,'business_phone_number']):\n",
        "    if data.loc[i,'business_name'] in dic:\n",
        "      data_num.loc[i,'business_phone_number']=dic[data.loc[i,'business_name']]"
      ],
      "execution_count": 0,
      "outputs": []
    },
    {
      "cell_type": "code",
      "metadata": {
        "id": "YmFtYisbdFtY",
        "colab_type": "code",
        "colab": {
          "base_uri": "https://localhost:8080/",
          "height": 34
        },
        "outputId": "658ca754-a479-4d68-c784-f05e91d945f9"
      },
      "source": [
        "test_num_impute_col(data, 'business_phone_number', strategy_param='constant',fillvalue=0)"
      ],
      "execution_count": 21,
      "outputs": [
        {
          "output_type": "execute_result",
          "data": {
            "text/plain": [
              "('business_phone_number', 'constant', 36539, 0.0, 0.0)"
            ]
          },
          "metadata": {
            "tags": []
          },
          "execution_count": 21
        }
      ]
    },
    {
      "cell_type": "code",
      "metadata": {
        "id": "3SixcNSPdqb7",
        "colab_type": "code",
        "colab": {
          "base_uri": "https://localhost:8080/",
          "height": 34
        },
        "outputId": "5ee460ac-8920-4e7a-e127-3167676334ac"
      },
      "source": [
        "test_num_impute_col(data, 'inspection_score', strategy_param='mean')"
      ],
      "execution_count": 22,
      "outputs": [
        {
          "output_type": "execute_result",
          "data": {
            "text/plain": [
              "('inspection_score', 'mean', 14114, 86.23525427130636, 86.23525427130636)"
            ]
          },
          "metadata": {
            "tags": []
          },
          "execution_count": 22
        }
      ]
    },
    {
      "cell_type": "markdown",
      "metadata": {
        "id": "uiIOdJlMfSOd",
        "colab_type": "text"
      },
      "source": [
        "\n",
        "## 1.2. Обработка пропусков в категориальных данных. \n",
        "Мы заполняем нулевые значения в столбце protect_id константным значением Not_specified, потому что мы не можем предсказать идентификатор. Мы заполняем пустые значения в столбцах (protect_description, risk_category) наиболее частыми значениями, предполагая, что такая ситуация встречается чаще всего."
      ]
    },
    {
      "cell_type": "code",
      "metadata": {
        "id": "afrWR-6pdsJR",
        "colab_type": "code",
        "colab": {
          "base_uri": "https://localhost:8080/",
          "height": 34
        },
        "outputId": "6a2014dc-11af-4127-db44-7eb61e4cc616"
      },
      "source": [
        "test_num_impute_col(data, 'violation_id', strategy_param='constant',fillvalue='Not_specified')\n",
        "test_num_impute_col(data, 'violation_description', strategy_param='most_frequent')\n",
        "test_num_impute_col(data, 'risk_category', strategy_param='most_frequent')"
      ],
      "execution_count": 23,
      "outputs": [
        {
          "output_type": "execute_result",
          "data": {
            "text/plain": [
              "('risk_category', 'most_frequent', 13462, 'Low Risk', 'Low Risk')"
            ]
          },
          "metadata": {
            "tags": []
          },
          "execution_count": 23
        }
      ]
    },
    {
      "cell_type": "markdown",
      "metadata": {
        "id": "IcKxz7jkfeaG",
        "colab_type": "text"
      },
      "source": [
        "Теперь мы анализируем данные, чтобы все столбцы не имели нулевых значений."
      ]
    },
    {
      "cell_type": "code",
      "metadata": {
        "id": "RdUhiv5sduTR",
        "colab_type": "code",
        "colab": {
          "base_uri": "https://localhost:8080/",
          "height": 626
        },
        "outputId": "edd46e1c-8705-4c8c-d4bb-811d83390088"
      },
      "source": [
        "data_num"
      ],
      "execution_count": 24,
      "outputs": [
        {
          "output_type": "execute_result",
          "data": {
            "text/html": [
              "<div>\n",
              "<style scoped>\n",
              "    .dataframe tbody tr th:only-of-type {\n",
              "        vertical-align: middle;\n",
              "    }\n",
              "\n",
              "    .dataframe tbody tr th {\n",
              "        vertical-align: top;\n",
              "    }\n",
              "\n",
              "    .dataframe thead th {\n",
              "        text-align: right;\n",
              "    }\n",
              "</style>\n",
              "<table border=\"1\" class=\"dataframe\">\n",
              "  <thead>\n",
              "    <tr style=\"text-align: right;\">\n",
              "      <th></th>\n",
              "      <th>business_latitude</th>\n",
              "      <th>business_longitude</th>\n",
              "      <th>business_location</th>\n",
              "      <th>business_phone_number</th>\n",
              "      <th>inspection_score</th>\n",
              "      <th>violation_id</th>\n",
              "      <th>violation_description</th>\n",
              "      <th>risk_category</th>\n",
              "    </tr>\n",
              "  </thead>\n",
              "  <tbody>\n",
              "    <tr>\n",
              "      <th>0</th>\n",
              "      <td>0.0</td>\n",
              "      <td>0.0</td>\n",
              "      <td>---</td>\n",
              "      <td>0.000000e+00</td>\n",
              "      <td>86.235254</td>\n",
              "      <td>69618_20190304_103130</td>\n",
              "      <td>Inadequate sewage or wastewater disposal</td>\n",
              "      <td>Moderate Risk</td>\n",
              "    </tr>\n",
              "    <tr>\n",
              "      <th>1</th>\n",
              "      <td>0.0</td>\n",
              "      <td>0.0</td>\n",
              "      <td>---</td>\n",
              "      <td>1.415724e+10</td>\n",
              "      <td>96.000000</td>\n",
              "      <td>97975_20190725_103124</td>\n",
              "      <td>Inadequately cleaned or sanitized food contact...</td>\n",
              "      <td>Moderate Risk</td>\n",
              "    </tr>\n",
              "    <tr>\n",
              "      <th>2</th>\n",
              "      <td>0.0</td>\n",
              "      <td>0.0</td>\n",
              "      <td>---</td>\n",
              "      <td>0.000000e+00</td>\n",
              "      <td>88.000000</td>\n",
              "      <td>69487_20180418_103119</td>\n",
              "      <td>Inadequate and inaccessible handwashing facili...</td>\n",
              "      <td>Moderate Risk</td>\n",
              "    </tr>\n",
              "    <tr>\n",
              "      <th>3</th>\n",
              "      <td>0.0</td>\n",
              "      <td>0.0</td>\n",
              "      <td>---</td>\n",
              "      <td>0.000000e+00</td>\n",
              "      <td>86.235254</td>\n",
              "      <td>Not_specified</td>\n",
              "      <td>Unclean or degraded floors walls or ceilings</td>\n",
              "      <td>Low Risk</td>\n",
              "    </tr>\n",
              "    <tr>\n",
              "      <th>4</th>\n",
              "      <td>0.0</td>\n",
              "      <td>0.0</td>\n",
              "      <td>---</td>\n",
              "      <td>0.000000e+00</td>\n",
              "      <td>94.000000</td>\n",
              "      <td>85987_20180412_103132</td>\n",
              "      <td>Improper thawing methods</td>\n",
              "      <td>Moderate Risk</td>\n",
              "    </tr>\n",
              "    <tr>\n",
              "      <th>...</th>\n",
              "      <td>...</td>\n",
              "      <td>...</td>\n",
              "      <td>...</td>\n",
              "      <td>...</td>\n",
              "      <td>...</td>\n",
              "      <td>...</td>\n",
              "      <td>...</td>\n",
              "      <td>...</td>\n",
              "    </tr>\n",
              "    <tr>\n",
              "      <th>53968</th>\n",
              "      <td>0.0</td>\n",
              "      <td>0.0</td>\n",
              "      <td>---</td>\n",
              "      <td>1.415596e+10</td>\n",
              "      <td>94.000000</td>\n",
              "      <td>80305_20190411_103149</td>\n",
              "      <td>Wiping cloths not clean or properly stored or ...</td>\n",
              "      <td>Low Risk</td>\n",
              "    </tr>\n",
              "    <tr>\n",
              "      <th>53969</th>\n",
              "      <td>0.0</td>\n",
              "      <td>0.0</td>\n",
              "      <td>---</td>\n",
              "      <td>0.000000e+00</td>\n",
              "      <td>75.000000</td>\n",
              "      <td>80233_20190417_103133</td>\n",
              "      <td>Foods not protected from contamination</td>\n",
              "      <td>Moderate Risk</td>\n",
              "    </tr>\n",
              "    <tr>\n",
              "      <th>53970</th>\n",
              "      <td>0.0</td>\n",
              "      <td>0.0</td>\n",
              "      <td>---</td>\n",
              "      <td>1.415530e+10</td>\n",
              "      <td>84.000000</td>\n",
              "      <td>100216_20190321_103119</td>\n",
              "      <td>Inadequate and inaccessible handwashing facili...</td>\n",
              "      <td>Moderate Risk</td>\n",
              "    </tr>\n",
              "    <tr>\n",
              "      <th>53971</th>\n",
              "      <td>0.0</td>\n",
              "      <td>0.0</td>\n",
              "      <td>---</td>\n",
              "      <td>1.415544e+10</td>\n",
              "      <td>83.000000</td>\n",
              "      <td>79430_20190418_103109</td>\n",
              "      <td>Unclean or unsanitary food contact surfaces</td>\n",
              "      <td>High Risk</td>\n",
              "    </tr>\n",
              "    <tr>\n",
              "      <th>53972</th>\n",
              "      <td>0.0</td>\n",
              "      <td>0.0</td>\n",
              "      <td>---</td>\n",
              "      <td>1.415551e+10</td>\n",
              "      <td>86.235254</td>\n",
              "      <td>Not_specified</td>\n",
              "      <td>Unclean or degraded floors walls or ceilings</td>\n",
              "      <td>Low Risk</td>\n",
              "    </tr>\n",
              "  </tbody>\n",
              "</table>\n",
              "<p>53973 rows × 8 columns</p>\n",
              "</div>"
            ],
            "text/plain": [
              "       business_latitude  ...  risk_category\n",
              "0                    0.0  ...  Moderate Risk\n",
              "1                    0.0  ...  Moderate Risk\n",
              "2                    0.0  ...  Moderate Risk\n",
              "3                    0.0  ...       Low Risk\n",
              "4                    0.0  ...  Moderate Risk\n",
              "...                  ...  ...            ...\n",
              "53968                0.0  ...       Low Risk\n",
              "53969                0.0  ...  Moderate Risk\n",
              "53970                0.0  ...  Moderate Risk\n",
              "53971                0.0  ...      High Risk\n",
              "53972                0.0  ...       Low Risk\n",
              "\n",
              "[53973 rows x 8 columns]"
            ]
          },
          "metadata": {
            "tags": []
          },
          "execution_count": 24
        }
      ]
    },
    {
      "cell_type": "code",
      "metadata": {
        "id": "CuCYaR6_dwGd",
        "colab_type": "code",
        "colab": {
          "base_uri": "https://localhost:8080/",
          "height": 170
        },
        "outputId": "cdb95f98-700d-48f1-eaf2-f9bd5f1faad5"
      },
      "source": [
        "data_num.isnull().sum()"
      ],
      "execution_count": 25,
      "outputs": [
        {
          "output_type": "execute_result",
          "data": {
            "text/plain": [
              "business_latitude        0\n",
              "business_longitude       0\n",
              "business_location        0\n",
              "business_phone_number    0\n",
              "inspection_score         0\n",
              "violation_id             0\n",
              "violation_description    0\n",
              "risk_category            0\n",
              "dtype: int64"
            ]
          },
          "metadata": {
            "tags": []
          },
          "execution_count": 25
        }
      ]
    },
    {
      "cell_type": "markdown",
      "metadata": {
        "id": "eF_iaKtRfjE3",
        "colab_type": "text"
      },
      "source": [
        "\n",
        "## 2. Преобразование категориальных признаков в числовые\n",
        "В нашем наборе данных у нас есть 11 атрибутов типа объекта, которые необходимо преобразовать в числовые значения."
      ]
    },
    {
      "cell_type": "code",
      "metadata": {
        "id": "S3L50x_OdxoQ",
        "colab_type": "code",
        "colab": {
          "base_uri": "https://localhost:8080/",
          "height": 221
        },
        "outputId": "b43526d4-1ddf-4b38-8ee6-038e7853c20a"
      },
      "source": [
        "for column in data:\n",
        "  if (data[column].dtype=='O'):\n",
        "    print(column,len(data[column].unique()))"
      ],
      "execution_count": 26,
      "outputs": [
        {
          "output_type": "stream",
          "text": [
            "business_name 5743\n",
            "business_address 5646\n",
            "business_city 1\n",
            "business_state 1\n",
            "business_postal_code 63\n",
            "business_location 2369\n",
            "inspection_id 24474\n",
            "inspection_date 807\n",
            "inspection_type 14\n",
            "violation_id 35842\n",
            "violation_description 66\n",
            "risk_category 4\n"
          ],
          "name": "stdout"
        }
      ]
    },
    {
      "cell_type": "markdown",
      "metadata": {
        "id": "kidsJIe3fn9h",
        "colab_type": "text"
      },
      "source": [
        "Мы будем использовать LabelEncoder со столбцами, которые имеют много значений, таких как business_name, business_address, business_location, inspection_id, violation_id.  \n",
        "\n",
        "С business_city, business_state, inspection_date, inspection_type, violation_description, risk_category, которые не имеют много значений, мы будем использовать Кодирование категорий наборами бинарных значений - one-hot encoding."
      ]
    },
    {
      "cell_type": "code",
      "metadata": {
        "id": "UZiTsaVid0ar",
        "colab_type": "code",
        "colab": {}
      },
      "source": [
        "from sklearn.preprocessing import LabelEncoder, OneHotEncoder"
      ],
      "execution_count": 0,
      "outputs": []
    },
    {
      "cell_type": "code",
      "metadata": {
        "id": "U9Km4Ozzd2Eh",
        "colab_type": "code",
        "colab": {
          "base_uri": "https://localhost:8080/",
          "height": 34
        },
        "outputId": "1dd1779a-50a7-4ae9-9e01-7e1c886d03a7"
      },
      "source": [
        "le = LabelEncoder()\n",
        "name_le = le.fit_transform(data['business_name'])\n",
        "np.unique(name_le)"
      ],
      "execution_count": 28,
      "outputs": [
        {
          "output_type": "execute_result",
          "data": {
            "text/plain": [
              "array([   0,    1,    2, ..., 5740, 5741, 5742])"
            ]
          },
          "metadata": {
            "tags": []
          },
          "execution_count": 28
        }
      ]
    },
    {
      "cell_type": "code",
      "metadata": {
        "id": "H4dddt-3d3vj",
        "colab_type": "code",
        "colab": {
          "base_uri": "https://localhost:8080/",
          "height": 34
        },
        "outputId": "f1cbc4a7-69bb-4932-f7cd-312c736f6b7b"
      },
      "source": [
        "address_le = le.fit_transform(data['business_address'])\n",
        "np.unique(address_le)"
      ],
      "execution_count": 29,
      "outputs": [
        {
          "output_type": "execute_result",
          "data": {
            "text/plain": [
              "array([   0,    1,    2, ..., 5643, 5644, 5645])"
            ]
          },
          "metadata": {
            "tags": []
          },
          "execution_count": 29
        }
      ]
    },
    {
      "cell_type": "code",
      "metadata": {
        "id": "kl7NChvad6pf",
        "colab_type": "code",
        "colab": {
          "base_uri": "https://localhost:8080/",
          "height": 34
        },
        "outputId": "d9913561-e58c-4d8c-8fff-fc11b70e0149"
      },
      "source": [
        "location_le = le.fit_transform(data_num['business_location'])\n",
        "np.unique(location_le)"
      ],
      "execution_count": 30,
      "outputs": [
        {
          "output_type": "execute_result",
          "data": {
            "text/plain": [
              "array([   0,    1,    2, ..., 2366, 2367, 2368])"
            ]
          },
          "metadata": {
            "tags": []
          },
          "execution_count": 30
        }
      ]
    },
    {
      "cell_type": "code",
      "metadata": {
        "id": "noPuq2fGeAaE",
        "colab_type": "code",
        "colab": {
          "base_uri": "https://localhost:8080/",
          "height": 34
        },
        "outputId": "006c1bec-9ada-4212-b37f-a8ec591846ee"
      },
      "source": [
        "inspection_le = le.fit_transform(data['inspection_id'])\n",
        "np.unique(inspection_le)"
      ],
      "execution_count": 31,
      "outputs": [
        {
          "output_type": "execute_result",
          "data": {
            "text/plain": [
              "array([    0,     1,     2, ..., 24471, 24472, 24473])"
            ]
          },
          "metadata": {
            "tags": []
          },
          "execution_count": 31
        }
      ]
    },
    {
      "cell_type": "code",
      "metadata": {
        "id": "MHdXIGN5eFCv",
        "colab_type": "code",
        "colab": {
          "base_uri": "https://localhost:8080/",
          "height": 34
        },
        "outputId": "fb26c10e-6260-4979-bc97-cb867cd6decc"
      },
      "source": [
        "violation_le = le.fit_transform(data_num['violation_id'])\n",
        "np.unique(violation_le)"
      ],
      "execution_count": 32,
      "outputs": [
        {
          "output_type": "execute_result",
          "data": {
            "text/plain": [
              "array([    0,     1,     2, ..., 35839, 35840, 35841])"
            ]
          },
          "metadata": {
            "tags": []
          },
          "execution_count": 32
        }
      ]
    },
    {
      "cell_type": "code",
      "metadata": {
        "id": "mx1p85tPeHBb",
        "colab_type": "code",
        "colab": {
          "base_uri": "https://localhost:8080/",
          "height": 85
        },
        "outputId": "710ee3fe-73af-4236-e532-cf5b02f07e1a"
      },
      "source": [
        "ohe = OneHotEncoder()\n",
        "city_ohe = ohe.fit_transform(data[['business_city']])\n",
        "print(city_ohe.shape)\n",
        "city_ohe.toarray()[0:3]"
      ],
      "execution_count": 33,
      "outputs": [
        {
          "output_type": "stream",
          "text": [
            "(53973, 1)\n"
          ],
          "name": "stdout"
        },
        {
          "output_type": "execute_result",
          "data": {
            "text/plain": [
              "array([[1.],\n",
              "       [1.],\n",
              "       [1.]])"
            ]
          },
          "metadata": {
            "tags": []
          },
          "execution_count": 33
        }
      ]
    },
    {
      "cell_type": "code",
      "metadata": {
        "id": "SyN_f9aqeJAX",
        "colab_type": "code",
        "colab": {
          "base_uri": "https://localhost:8080/",
          "height": 85
        },
        "outputId": "18b88c6a-2a4f-4651-d8f0-129740480b9f"
      },
      "source": [
        "state_ohe = ohe.fit_transform(data[['business_state']])\n",
        "print(state_ohe.shape)\n",
        "state_ohe.toarray()[0:3]"
      ],
      "execution_count": 35,
      "outputs": [
        {
          "output_type": "stream",
          "text": [
            "(53973, 1)\n"
          ],
          "name": "stdout"
        },
        {
          "output_type": "execute_result",
          "data": {
            "text/plain": [
              "array([[1.],\n",
              "       [1.],\n",
              "       [1.]])"
            ]
          },
          "metadata": {
            "tags": []
          },
          "execution_count": 35
        }
      ]
    },
    {
      "cell_type": "code",
      "metadata": {
        "id": "6fbWfnZxeKle",
        "colab_type": "code",
        "colab": {
          "base_uri": "https://localhost:8080/",
          "height": 85
        },
        "outputId": "92fa59d5-51c6-4216-bd02-decf48f32765"
      },
      "source": [
        "inspection_date_ohe = ohe.fit_transform(data[['inspection_date']])\n",
        "print(inspection_date_ohe.shape)\n",
        "inspection_date_ohe.toarray()[0:3]"
      ],
      "execution_count": 36,
      "outputs": [
        {
          "output_type": "stream",
          "text": [
            "(53973, 807)\n"
          ],
          "name": "stdout"
        },
        {
          "output_type": "execute_result",
          "data": {
            "text/plain": [
              "array([[0., 0., 0., ..., 0., 0., 0.],\n",
              "       [0., 0., 0., ..., 0., 0., 0.],\n",
              "       [0., 0., 0., ..., 0., 0., 0.]])"
            ]
          },
          "metadata": {
            "tags": []
          },
          "execution_count": 36
        }
      ]
    },
    {
      "cell_type": "code",
      "metadata": {
        "id": "C8GYrszReSHE",
        "colab_type": "code",
        "colab": {
          "base_uri": "https://localhost:8080/",
          "height": 85
        },
        "outputId": "0bcaa250-6167-4f34-e95c-643d83b8829f"
      },
      "source": [
        "inspection_type_ohe = ohe.fit_transform(data[['inspection_type']])\n",
        "print(inspection_type_ohe.shape)\n",
        "inspection_type_ohe.toarray()[0:3]"
      ],
      "execution_count": 37,
      "outputs": [
        {
          "output_type": "stream",
          "text": [
            "(53973, 14)\n"
          ],
          "name": "stdout"
        },
        {
          "output_type": "execute_result",
          "data": {
            "text/plain": [
              "array([[0., 1., 0., 0., 0., 0., 0., 0., 0., 0., 0., 0., 0., 0.],\n",
              "       [0., 0., 0., 0., 0., 0., 0., 0., 0., 0., 0., 1., 0., 0.],\n",
              "       [0., 0., 0., 0., 0., 0., 0., 0., 0., 0., 0., 1., 0., 0.]])"
            ]
          },
          "metadata": {
            "tags": []
          },
          "execution_count": 37
        }
      ]
    },
    {
      "cell_type": "code",
      "metadata": {
        "id": "zbfvSQ06eUWm",
        "colab_type": "code",
        "colab": {
          "base_uri": "https://localhost:8080/",
          "height": 289
        },
        "outputId": "bc5f1356-4b78-4d3f-8092-b87229aaae54"
      },
      "source": [
        "violation_description_ohe = ohe.fit_transform(data_num[['violation_description']])\n",
        "print(violation_description_ohe.shape)\n",
        "violation_description_ohe.toarray()[0:3]"
      ],
      "execution_count": 38,
      "outputs": [
        {
          "output_type": "stream",
          "text": [
            "(53973, 65)\n"
          ],
          "name": "stdout"
        },
        {
          "output_type": "execute_result",
          "data": {
            "text/plain": [
              "array([[0., 0., 0., 0., 0., 0., 0., 0., 0., 0., 0., 0., 0., 0., 0., 0.,\n",
              "        0., 0., 0., 0., 0., 0., 0., 0., 0., 0., 1., 0., 0., 0., 0., 0.,\n",
              "        0., 0., 0., 0., 0., 0., 0., 0., 0., 0., 0., 0., 0., 0., 0., 0.,\n",
              "        0., 0., 0., 0., 0., 0., 0., 0., 0., 0., 0., 0., 0., 0., 0., 0.,\n",
              "        0.],\n",
              "       [0., 0., 0., 0., 0., 0., 0., 0., 0., 0., 0., 0., 0., 0., 0., 0.,\n",
              "        0., 0., 0., 0., 0., 0., 0., 0., 0., 0., 0., 0., 0., 1., 0., 0.,\n",
              "        0., 0., 0., 0., 0., 0., 0., 0., 0., 0., 0., 0., 0., 0., 0., 0.,\n",
              "        0., 0., 0., 0., 0., 0., 0., 0., 0., 0., 0., 0., 0., 0., 0., 0.,\n",
              "        0.],\n",
              "       [0., 0., 0., 0., 0., 0., 0., 0., 0., 0., 0., 0., 0., 0., 0., 0.,\n",
              "        0., 0., 0., 0., 0., 1., 0., 0., 0., 0., 0., 0., 0., 0., 0., 0.,\n",
              "        0., 0., 0., 0., 0., 0., 0., 0., 0., 0., 0., 0., 0., 0., 0., 0.,\n",
              "        0., 0., 0., 0., 0., 0., 0., 0., 0., 0., 0., 0., 0., 0., 0., 0.,\n",
              "        0.]])"
            ]
          },
          "metadata": {
            "tags": []
          },
          "execution_count": 38
        }
      ]
    },
    {
      "cell_type": "code",
      "metadata": {
        "id": "6U4Zk034eWLy",
        "colab_type": "code",
        "colab": {
          "base_uri": "https://localhost:8080/",
          "height": 85
        },
        "outputId": "91833288-c638-4bfd-8c7f-90b97e87d9dd"
      },
      "source": [
        "risk_category_ohe = ohe.fit_transform(data_num[['risk_category']])\n",
        "print(risk_category_ohe.shape)\n",
        "risk_category_ohe.toarray()[0:3]"
      ],
      "execution_count": 39,
      "outputs": [
        {
          "output_type": "stream",
          "text": [
            "(53973, 3)\n"
          ],
          "name": "stdout"
        },
        {
          "output_type": "execute_result",
          "data": {
            "text/plain": [
              "array([[0., 0., 1.],\n",
              "       [0., 0., 1.],\n",
              "       [0., 0., 1.]])"
            ]
          },
          "metadata": {
            "tags": []
          },
          "execution_count": 39
        }
      ]
    },
    {
      "cell_type": "markdown",
      "metadata": {
        "id": "qMiayXgsfzPB",
        "colab_type": "text"
      },
      "source": [
        "Теперь у нас есть все категориальные данные как числовые после того, как мы их закодировали. Теперь мы можем применять алгоритмы машинного обучения, которые принимают только числовые данные.\n",
        "\n",
        "#3. Масштабирование данных"
      ]
    },
    {
      "cell_type": "code",
      "metadata": {
        "id": "iXeZ6PoieYDp",
        "colab_type": "code",
        "colab": {}
      },
      "source": [
        "from sklearn.preprocessing import StandardScaler, MinMaxScaler"
      ],
      "execution_count": 0,
      "outputs": []
    },
    {
      "cell_type": "markdown",
      "metadata": {
        "id": "rSYHS3-gf5Ug",
        "colab_type": "text"
      },
      "source": [
        "## 3.1. MinMax масштабирование"
      ]
    },
    {
      "cell_type": "code",
      "metadata": {
        "id": "JFdHQ5JreZ3i",
        "colab_type": "code",
        "colab": {}
      },
      "source": [
        "mm = MinMaxScaler()\n",
        "business_id_mm = mm.fit_transform(data[['business_id']])"
      ],
      "execution_count": 0,
      "outputs": []
    },
    {
      "cell_type": "code",
      "metadata": {
        "id": "2aRUdR2jeb1C",
        "colab_type": "code",
        "colab": {
          "base_uri": "https://localhost:8080/",
          "height": 268
        },
        "outputId": "ff206da8-964a-40ac-d913-0dce82a301f0"
      },
      "source": [
        "plt.hist(data['business_id'], 50)\n",
        "plt.show()"
      ],
      "execution_count": 42,
      "outputs": [
        {
          "output_type": "display_data",
          "data": {
            "image/png": "[encoded data removed]",
            "text/plain": [
              "<Figure size 432x288 with 1 Axes>"
            ]
          },
          "metadata": {
            "tags": [],
            "needs_background": "light"
          }
        }
      ]
    },
    {
      "cell_type": "code",
      "metadata": {
        "id": "s_W2TqsHeeEZ",
        "colab_type": "code",
        "colab": {
          "base_uri": "https://localhost:8080/",
          "height": 268
        },
        "outputId": "cb75bef3-3577-45bb-fa1f-cfa6edee59e4"
      },
      "source": [
        "plt.hist(business_id_mm, 50)\n",
        "plt.show()"
      ],
      "execution_count": 43,
      "outputs": [
        {
          "output_type": "display_data",
          "data": {
            "image/png": "[encoded data removed]",
            "text/plain": [
              "<Figure size 432x288 with 1 Axes>"
            ]
          },
          "metadata": {
            "tags": [],
            "needs_background": "light"
          }
        }
      ]
    },
    {
      "cell_type": "markdown",
      "metadata": {
        "id": "gFDStVUtf_hW",
        "colab_type": "text"
      },
      "source": [
        "## 3.2. Масштабирование данных на основе Z-оценки - StandardScaler"
      ]
    },
    {
      "cell_type": "code",
      "metadata": {
        "id": "YuPDksuMefwk",
        "colab_type": "code",
        "colab": {}
      },
      "source": [
        "sc = StandardScaler()\n",
        "inspection_score_sc = sc.fit_transform(data[['inspection_score']])"
      ],
      "execution_count": 0,
      "outputs": []
    },
    {
      "cell_type": "code",
      "metadata": {
        "id": "vtTk9SFhehsb",
        "colab_type": "code",
        "colab": {
          "base_uri": "https://localhost:8080/",
          "height": 356
        },
        "outputId": "bd4569b6-9de8-4697-d17a-1173a2d18cf2"
      },
      "source": [
        "plt.hist(data['inspection_score'], 50)\n",
        "plt.show()"
      ],
      "execution_count": 45,
      "outputs": [
        {
          "output_type": "stream",
          "text": [
            "/usr/local/lib/python3.6/dist-packages/numpy/lib/histograms.py:839: RuntimeWarning: invalid value encountered in greater_equal\n",
            "  keep = (tmp_a >= first_edge)\n",
            "/usr/local/lib/python3.6/dist-packages/numpy/lib/histograms.py:840: RuntimeWarning: invalid value encountered in less_equal\n",
            "  keep &= (tmp_a <= last_edge)\n"
          ],
          "name": "stderr"
        },
        {
          "output_type": "display_data",
          "data": {
            "image/png": "[encoded data removed]",
            "text/plain": [
              "<Figure size 432x288 with 1 Axes>"
            ]
          },
          "metadata": {
            "tags": [],
            "needs_background": "light"
          }
        }
      ]
    },
    {
      "cell_type": "code",
      "metadata": {
        "id": "OYQGzaLtej7_",
        "colab_type": "code",
        "colab": {
          "base_uri": "https://localhost:8080/",
          "height": 356
        },
        "outputId": "b2b5a6fa-2c56-45df-8073-33c21d44080b"
      },
      "source": [
        "plt.hist(inspection_score_sc, 50)\n",
        "plt.show()"
      ],
      "execution_count": 46,
      "outputs": [
        {
          "output_type": "stream",
          "text": [
            "/usr/local/lib/python3.6/dist-packages/numpy/lib/histograms.py:839: RuntimeWarning: invalid value encountered in greater_equal\n",
            "  keep = (tmp_a >= first_edge)\n",
            "/usr/local/lib/python3.6/dist-packages/numpy/lib/histograms.py:840: RuntimeWarning: invalid value encountered in less_equal\n",
            "  keep &= (tmp_a <= last_edge)\n"
          ],
          "name": "stderr"
        },
        {
          "output_type": "display_data",
          "data": {
            "image/png": "[encoded data removed]",
            "text/plain": [
              "<Figure size 432x288 with 1 Axes>"
            ]
          },
          "metadata": {
            "tags": [],
            "needs_background": "light"
          }
        }
      ]
    },
    {
      "cell_type": "code",
      "metadata": {
        "id": "0dI8lRMZem_j",
        "colab_type": "code",
        "colab": {}
      },
      "source": [
        ""
      ],
      "execution_count": 0,
      "outputs": []
    }
  ]
}