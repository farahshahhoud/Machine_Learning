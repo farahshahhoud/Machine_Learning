{
  "nbformat": 4,
  "nbformat_minor": 0,
  "metadata": {
    "colab": {
      "name": "PK2.ipynb",
      "provenance": [],
      "collapsed_sections": [],
      "mount_file_id": "1KntEANFKlqHLRujznb9V0Qymu0MMHRYo",
      "authorship_tag": "ABX9TyNJqYkr+JASCZGm1FaRGUtH",
      "include_colab_link": true
    },
    "kernelspec": {
      "name": "python3",
      "display_name": "Python 3"
    }
  },
  "cells": [
    {
      "cell_type": "markdown",
      "metadata": {
        "id": "view-in-github",
        "colab_type": "text"
      },
      "source": [
        "<a href=\"https://colab.research.google.com/github/farahshahhoud/Machine_Learning/blob/master/PK2.ipynb\" target=\"_parent\"><img src=\"https://colab.research.google.com/assets/colab-badge.svg\" alt=\"Open In Colab\"/></a>"
      ]
    },
    {
      "cell_type": "markdown",
      "metadata": {
        "id": "sSgA-7hiq9WX",
        "colab_type": "text"
      },
      "source": [
        "#Цель работы\n",
        "Классификация текстов на арабском языке с использованием разных видов классификаторов нормальных и наивных байесовских классификаторов."
      ]
    },
    {
      "cell_type": "markdown",
      "metadata": {
        "id": "kYuJsISNrmAq",
        "colab_type": "text"
      },
      "source": [
        "#Набор данных\n",
        "Набор данных представляет собой набор арабских текстов, который охватывает современный арабский язык, используемый в газетных статьях.  \n",
        "\n",
        "Набор данных состоит из 111 728 документов и 319 254 124 слов, структурированных в текстовых файлах и собранных из 3 арабских онлайн-газет: Assabah [9], Hespress [10] и Akhbarona [11] с использованием полуавтоматического процесса сканирования в Интернете.  \n",
        "\n",
        "Документы в наборе данных подразделяются на 5 классов: спортивные, политические, культурные, экономические и разнообразные."
      ]
    },
    {
      "cell_type": "code",
      "metadata": {
        "id": "8pr8OO0erUK-",
        "colab_type": "code",
        "colab": {
          "base_uri": "https://localhost:8080/",
          "height": 71
        },
        "outputId": "90876127-9b11-4bbc-8374-e1c5b937e907"
      },
      "source": [
        "import numpy as np\n",
        "import pandas as pd\n",
        "from typing import Dict, Tuple\n",
        "from scipy import stats\n",
        "from sklearn.feature_extraction.text import CountVectorizer, TfidfVectorizer\n",
        "from sklearn.model_selection import train_test_split\n",
        "from sklearn.linear_model import LogisticRegression\n",
        "from sklearn.metrics import accuracy_score, balanced_accuracy_score\n",
        "from sklearn.metrics import precision_score, recall_score, f1_score, classification_report\n",
        "from sklearn.pipeline import Pipeline\n",
        "from sklearn.metrics import mean_absolute_error, mean_squared_error, mean_squared_log_error, median_absolute_error, r2_score\n",
        "from sklearn.naive_bayes import GaussianNB, MultinomialNB, ComplementNB, BernoulliNB\n",
        "from sklearn.svm import SVC, NuSVC, LinearSVC, OneClassSVM, SVR, NuSVR, LinearSVR\n",
        "from sklearn.metrics import confusion_matrix\n",
        "from sklearn.metrics import plot_confusion_matrix\n",
        "import warnings\n",
        "warnings.filterwarnings(\"ignore\")\n"
      ],
      "execution_count": 1,
      "outputs": [
        {
          "output_type": "stream",
          "text": [
            "/usr/local/lib/python3.6/dist-packages/statsmodels/tools/_testing.py:19: FutureWarning: pandas.util.testing is deprecated. Use the functions in the public API at pandas.testing instead.\n",
            "  import pandas.util.testing as tm\n"
          ],
          "name": "stderr"
        }
      ]
    },
    {
      "cell_type": "markdown",
      "metadata": {
        "id": "zI_QwtC2svpP",
        "colab_type": "text"
      },
      "source": [
        "Глядя на первые пять строк нашего набора данных:"
      ]
    },
    {
      "cell_type": "code",
      "metadata": {
        "id": "FNFMc0qst0tf",
        "colab_type": "code",
        "outputId": "cfda847d-2597-4a62-f5ae-483d4cf4322f",
        "colab": {
          "base_uri": "https://localhost:8080/",
          "height": 204
        }
      },
      "source": [
        "data = pd.read_csv(\"/content/drive/My Drive/arabic_dataset_classifiction.csv\",names = ['text', 'target']) \n",
        "data.head()"
      ],
      "execution_count": 2,
      "outputs": [
        {
          "output_type": "execute_result",
          "data": {
            "text/html": [
              "<div>\n",
              "<style scoped>\n",
              "    .dataframe tbody tr th:only-of-type {\n",
              "        vertical-align: middle;\n",
              "    }\n",
              "\n",
              "    .dataframe tbody tr th {\n",
              "        vertical-align: top;\n",
              "    }\n",
              "\n",
              "    .dataframe thead th {\n",
              "        text-align: right;\n",
              "    }\n",
              "</style>\n",
              "<table border=\"1\" class=\"dataframe\">\n",
              "  <thead>\n",
              "    <tr style=\"text-align: right;\">\n",
              "      <th></th>\n",
              "      <th>text</th>\n",
              "      <th>target</th>\n",
              "    </tr>\n",
              "  </thead>\n",
              "  <tbody>\n",
              "    <tr>\n",
              "      <th>0</th>\n",
              "      <td>text</td>\n",
              "      <td>targe</td>\n",
              "    </tr>\n",
              "    <tr>\n",
              "      <th>1</th>\n",
              "      <td>بين أستوديوهات ورزازات وصحراء مرزوكة وآثار ولي...</td>\n",
              "      <td>0</td>\n",
              "    </tr>\n",
              "    <tr>\n",
              "      <th>2</th>\n",
              "      <td>قررت النجمة الأمريكية أوبرا وينفري ألا يقتصر ع...</td>\n",
              "      <td>0</td>\n",
              "    </tr>\n",
              "    <tr>\n",
              "      <th>3</th>\n",
              "      <td>أخبارنا المغربية الوزاني تصوير الشملالي ألهب ا...</td>\n",
              "      <td>0</td>\n",
              "    </tr>\n",
              "    <tr>\n",
              "      <th>4</th>\n",
              "      <td>اخبارنا المغربية قال ابراهيم الراشدي محامي سعد...</td>\n",
              "      <td>0</td>\n",
              "    </tr>\n",
              "  </tbody>\n",
              "</table>\n",
              "</div>"
            ],
            "text/plain": [
              "                                                text target\n",
              "0                                               text  targe\n",
              "1  بين أستوديوهات ورزازات وصحراء مرزوكة وآثار ولي...      0\n",
              "2  قررت النجمة الأمريكية أوبرا وينفري ألا يقتصر ع...      0\n",
              "3  أخبارنا المغربية الوزاني تصوير الشملالي ألهب ا...      0\n",
              "4  اخبارنا المغربية قال ابراهيم الراشدي محامي سعد...      0"
            ]
          },
          "metadata": {
            "tags": []
          },
          "execution_count": 2
        }
      ]
    },
    {
      "cell_type": "code",
      "metadata": {
        "id": "rc99jI8ot_Eh",
        "colab_type": "code",
        "colab": {}
      },
      "source": [
        "def accuracy_score_for_classes(    \n",
        "    y_true: np.ndarray, \n",
        "    y_pred: np.ndarray) -> Dict[int,Tuple[float,float]]:\n",
        "\n",
        "    d = {'t': y_true, 'p': y_pred}\n",
        "    df = pd.DataFrame(data=d)\n",
        "    # Метки классов\n",
        "    classes = np.unique(y_true)\n",
        "    # Результирующий словарь\n",
        "    res = dict()\n",
        "    # Перебор меток классов\n",
        "    for c in classes:\n",
        "        # отфильтруем данные, которые соответствуют \n",
        "        # текущей метке класса в истинных значениях\n",
        "        temp_data_flt = df[df['t']==c]\n",
        "        # расчет accuracy для заданной метки класса\n",
        "        temp_acc = accuracy_score(\n",
        "            temp_data_flt['t'].values, \n",
        "            temp_data_flt['p'].values)\n",
        "        temp_f1=f1_score(temp_data_flt['t'].values, \n",
        "            temp_data_flt['p'].values, average='micro')\n",
        "        # сохранение результата в словарь\n",
        "        res[c] = (temp_acc,temp_f1)\n",
        "    return res\n",
        "\n",
        "def print_accuracy_score_for_classes(\n",
        "    y_true: np.ndarray, \n",
        "    y_pred: np.ndarray):\n",
        "    \"\"\"\n",
        "    Вывод метрики accuracy для каждого класса\n",
        "    \"\"\"\n",
        "    accs = accuracy_score_for_classes(y_true, y_pred)\n",
        "    if len(accs)>0:\n",
        "        print('Метка \\t Accuracy \\t \\t f1_score')\n",
        "    for i in accs:\n",
        "        print('{} \\t {} \\t {}'.format(i, accs[i][0],accs[i][1]))\n",
        "   "
      ],
      "execution_count": 0,
      "outputs": []
    },
    {
      "cell_type": "markdown",
      "metadata": {
        "id": "FfHlnCQ8s8XD",
        "colab_type": "text"
      },
      "source": [
        "Количество строки в нашем наборе данных:"
      ]
    },
    {
      "cell_type": "code",
      "metadata": {
        "id": "lqDSBSzQuWFy",
        "colab_type": "code",
        "outputId": "d48f9822-0406-481f-ca20-f1e0f77e70cf",
        "colab": {
          "base_uri": "https://localhost:8080/",
          "height": 34
        }
      },
      "source": [
        "data.shape"
      ],
      "execution_count": 4,
      "outputs": [
        {
          "output_type": "execute_result",
          "data": {
            "text/plain": [
              "(111729, 2)"
            ]
          },
          "metadata": {
            "tags": []
          },
          "execution_count": 4
        }
      ]
    },
    {
      "cell_type": "code",
      "metadata": {
        "id": "lk5Ur4zBs0mi",
        "colab_type": "code",
        "colab": {
          "base_uri": "https://localhost:8080/",
          "height": 34
        },
        "outputId": "52e357ec-f2df-4600-8eda-be33e97783d4"
      },
      "source": [
        "data.text.shape"
      ],
      "execution_count": 20,
      "outputs": [
        {
          "output_type": "execute_result",
          "data": {
            "text/plain": [
              "(108790,)"
            ]
          },
          "metadata": {
            "tags": []
          },
          "execution_count": 20
        }
      ]
    },
    {
      "cell_type": "code",
      "metadata": {
        "id": "Gjiw2Q4is3_l",
        "colab_type": "code",
        "colab": {
          "base_uri": "https://localhost:8080/",
          "height": 34
        },
        "outputId": "bd63248e-bf8d-4494-bac9-2b5159b7eabe"
      },
      "source": [
        "data.target.shape"
      ],
      "execution_count": 21,
      "outputs": [
        {
          "output_type": "execute_result",
          "data": {
            "text/plain": [
              "(108790,)"
            ]
          },
          "metadata": {
            "tags": []
          },
          "execution_count": 21
        }
      ]
    },
    {
      "cell_type": "markdown",
      "metadata": {
        "id": "IshorTw8tTfI",
        "colab_type": "text"
      },
      "source": [
        "Итак, мы увидели, что в нашем наборе данных есть несколько строк с нулевым значением.    \n",
        "Чтобы справиться с этим, мы собираемся включить все строки с нулевым значением и оставить только те, которые на самом деле содержат данные."
      ]
    },
    {
      "cell_type": "code",
      "metadata": {
        "id": "3yt6vOhrxlMq",
        "colab_type": "code",
        "colab": {}
      },
      "source": [
        "data=data.dropna()"
      ],
      "execution_count": 0,
      "outputs": []
    },
    {
      "cell_type": "markdown",
      "metadata": {
        "id": "BYwCm6kotbTX",
        "colab_type": "text"
      },
      "source": [
        "Наша новая форма данных:"
      ]
    },
    {
      "cell_type": "code",
      "metadata": {
        "id": "KwAgeih7yLuW",
        "colab_type": "code",
        "outputId": "56804e0d-e121-46bb-cd79-3f4204a0acda",
        "colab": {
          "base_uri": "https://localhost:8080/",
          "height": 34
        }
      },
      "source": [
        "data.shape"
      ],
      "execution_count": 6,
      "outputs": [
        {
          "output_type": "execute_result",
          "data": {
            "text/plain": [
              "(108790, 2)"
            ]
          },
          "metadata": {
            "tags": []
          },
          "execution_count": 6
        }
      ]
    },
    {
      "cell_type": "code",
      "metadata": {
        "id": "coM7GkjAukX2",
        "colab_type": "code",
        "outputId": "928cdc7a-3912-4153-908e-772b9396a0a2",
        "colab": {
          "base_uri": "https://localhost:8080/",
          "height": 190
        }
      },
      "source": [
        "vocab_list = data['text'].tolist()\n",
        "vocab_list[1:10]"
      ],
      "execution_count": 7,
      "outputs": [
        {
          "output_type": "execute_result",
          "data": {
            "text/plain": [
              "['بين أستوديوهات ورزازات وصحراء مرزوكة وآثار وليلي ثم الرباط والبيضاء انتهى المخرج المغربي سهيل بن بركة من تصوير مشاهد عمله السينمائي الجديد الذي خصصه لتسليط الضوء عن حياة الجاسوس الإسباني دومينغو باديا الذي عاش فترة من القرن التاسع عشر بالمغرب باسم علي باي هذا الفيلم الذي اختار له مخرجه عنوان حلم خليفة يصور حياة علي باي العباسي الذي ما زال أحد أحياء طنجة يحمل اسمه عاش حياة فريدة متنكرا بشخصية تاجر عربي من سلالة الرسول صلى الله عليه وسلم فيما كان يعمل جاسوسا لحساب إسبانيا وكشف مخرج الفيلم سهيل بن بركة في تصريح لهسبريس أن الفيلم السينمائي دخل مرحلة التوضيب التي تتم خارج المغرب مبرزا أن الفيلم الذي يروي حياة الجاسوس الإسباني دومينغو باديا منذ أن قرر من طنجة بدء رحلاته نحو عدد من المناطق في العالم الإسلامي بداية القرن العشرين سيكون جاهزا بعد شهرين ويجمع الفيلم السينمائي عددا من الممثلين من مختلف الجنسيات واختار لدور البطولة الممثلة السينمائية الإيطالية كارولينا كريشنتيني للقيام بدور الإنجليزية الليدي هستر ستانهوب التي اشتهرت في الكتب الغربية بـ زنوبيا والتي عاشت بدورها بالدول العربية وارتبطت بعلي باي بعلاقة عاطفية إضافة إلى وجوه سينمائية معروفة وعن اختيار المخرج المغربي لحياة علي باي العباسي يوضح في تصريح لوكالة الأنباء الفرنسية هذه الشخصية عاشت أحداثا مشوقة كثيرة تستحق أن تسلط عليها الأضواء مشيرا إلى أن الفيلم سيحمل الكثير من المفاجآت لا سيما أن البطل قتل على يد امرأة دست له السم خلال رحلة الحج وأضاف شخصية طموحة وشجاعة ومثقفة ومذهلة في آن واحد كان يرى نفسه مستكشفا في أول الأمر نال علي باي إعجاب السلطان بعلمه فجعله من المقربين منه في ظرف وجيز ودعاه إلى اللحاق به إلى فاس وبرحيله إلى فاس تنتهي قصته مع طنجة وعاش علي باي العباسي بمدينة طنجة على أنه رجل مسلم أصله من الشام ونال ثقة الجميع في هذه المدينة حيث تم تشييد تمثال له في عروسة الشمال نظرا لتمكنه من بعض العلوم خاصة علم الفلك الذي مكنه من رصد كسوف الشمس الذي تزامن مع وجوده في طنجة فكان لعلمه دور كبير ساعده في إخفاء هويته كما أبان هذا الأمر أيضا عن تراجع كبير في ميدان العلم والمعرفة لدى المغاربة والمسلمين بصفة عامة',\n",
              " 'قررت النجمة الأمريكية أوبرا وينفري ألا يقتصر عملها على الفن بل عملت مع أحد المتخصصين لإطلاق نوع جديد من الشاي سيصبح متوفرا ابتداء من الشهر المقبل في سلسلة مقاهي ستاربكس ونقلت وسائل إعلام أمريكية عن رئيس مجلس إدارة ستاربكس هاورد شولتز ووينفري إعلانهما عن ابتكار نوع جديد من الشاي يحمل اسم الذي سيباع ابتداء من أبريل نيسان المقبل في مقاهي ستاربكس وتيفانا بأمريكا وكندا وتعتزم ستاربكس التبرع بعائدات بيع هذا الشاي لأكاديمية أسستها وينفري وتعنى بتوفير فرص تعليم للشبان',\n",
              " 'أخبارنا المغربية الوزاني تصوير الشملالي ألهب النجم المغربي الدوزي حماس أزيد من ألف متفرج أثثوا فضاءات مسرح الهواء الطلق بمدينة المضيق ليلة أمس الخميس يوليوز في إطار فعاليات مهرجان جولة الذي دأبت على تنظميه شركة اتصالات المغرب صيف كل سنة اعتلى الفنان الدوزي منصة المضيق في حدود منتصف الليل عرفت فقرات سهرته تجاوبا رائعا من طرف الجمهور الشمالي أيضا الوافد من مختلف المدن المغربية مع أغانيه القديمة والجديدة منها أغنية مريما فهميني حبيب الروح كما أدى بعض أغاني الركادة الشعبي بمناسبة تصادف الحفل مع الذكرى الـ لعيد العرش المجيد جعل الدوزي مسك ختام سهرته أغنية العيون عينية التي تفاعل الجمهور معها بشكل كبير جدا ليصنع مشهدا جميلا أثبت أن الفن قادر على تحريك المشاعر الوطنية الاعتزاز بالوطن عرفت سهرة الامس حضور نائب المدير التنفيذي لشركة اتصالات المغرب بعض رجال السلطات المحلية شهدت تنظيما محكما من طرف الشركة المنظمة للمهرجان الذي سيشهد في الايام القليلة المقبلة حضور أسماء فنية عربية مغربية نذكر منها وائل جسار فارس كرم سعيدة شرف سعيد موسكير',\n",
              " 'اخبارنا المغربية قال ابراهيم الراشدي محامي سعد المجرد ان موكله ذهب ضحية كمين نصب له من طرف شخصين هما فرنسي من اصل جزائري الثاني مصري مبرزا ان التحقيق في القضية سيوضح الحقيقة حول هوية الفتاة المشتكية قال الراشدي في تصريحات اذاعية انها من جنسية فرنسية لا تنحدر من الجزائر او بلد اخر مضيفا انها تبلغ من العمر سنة تعمل في علبة ليلية اوضح المتحدث ان الفتاة نفت في شكايتها لدى الشرطة وقوع علاقة جنسية مع سعد قدمت شهادة طبية مدتها يومين فقط مضيفا انها لا تعاني من اي رضوض في جسمها كما انها ذهبت برضاها مع سعد لم تثبت كاميرات الفندق وجود اي احتجاز او اكراه حول سبب عدم اطلاق سراح سعد المجرد متابعته في حالة سراح اكد الراشدي ان القضاء الفرنسي رفض الامر قبل وقوع المواجهة مع المشتكية تفاديا للتاثير عليها لان خروجه من السجن متابعته في حالة سراح قد يؤثر على الفتاة المشتكية نظرا لوضعيته الاجتماعية المتميزة اكد المحامي ان البث في طلب الاستئناف من اجل اطلاق سراح المجرد تقرر البث فيه في ظرف ايام سيتم النظر فيه يوم الاربعاء المقبل على اعتبار ان الثلاثاء يوم عطلة بفرنسا نفى الراشدي ما تداولته الصحافة الفرنسية حول اتهامه للجزائر بالوقوف وراء المؤامرة التي تعرض لها موكله مبرزا انه رجل قانون لا يخوض في امور لها علاقة بالسياسة',\n",
              " 'تزال صناعة الجلود في المغرب تتبع الطريقة التقليدية واليدوية وتستخدم مواد طبيعية مائة بالمائة تنتشر معظم المدابغ في فاس التي اشتهرت بهذه المهنة منذ قرون ولننا اليوم اخترنا تسليط الضوء على إحدى المدابغ في مراكش والتي يتوافد عليها السياح رغم الرائحة الكريهة يعمل العمال تحت أشعة الشمس على معالجة الجلود عبر غمسها في المياه مع إضافة الليمون وفضلات الطيور والكلاب ويستخدمون لتلوينها أصباغا طبيعية تبدأ معالجة الجلود التي تصل إلى المدبغة في عربات تجرها الحمير عبر فرزها ثم توضع في الجفنة أو القصرية على شكل إناء كبير حسب النوع واللون ليتم نقعها في محلول من الجير والماء حتى يصبح الجلد ناعما ً، ويضاف إلى المحلول فضلات الكلاب أو الدجاج أو الحمام وهذا الخليط يمنح المكان رائحة نتنة تعود عليها العمال يتم نقع الجلد في المحلول لعدة أيام وأسابيع وإذا لزم الأمر يعاد نقعها عدة مرات بعد النقع تأتي عملية التنظيف إذ يتم إخراج الجلود من القصرية لتنظيفها يدويا من الصوف العلق وبعدها يتم غسل الجلد في ماء نضيف ويترك تحت أشعة الشمس ليجف الخطوة التالية هي صبغ الجلد إذ يتم وضعه مرة أخرى في قصرية من الماء الملون بصبغة طبيعية ويترك لعدة أسابيع ويتم تحريك الجلد عبر جميع الاتجاهات باستمرار حتى تتوزع الصبغة على جميع أنحائه هذه الصبغات هي مواد طبيعية مصنوعة من خليط الزعفران الأصفر والأحمر والفلفل في المرحلة الأخيرة تذهب الجلود المصنعة إلى ورش العمل حيث تتم صناعة الحقائب والأحذية التقليدية والرياضية وغير ذلك يتوافد على مدابغ الجلود عدد كبير من السياح لاسيما الأجانب رغم الرائحة الكريهة ويحرصون على شراء النعناع قبل الوصول إليها لغرض تخفيف شدة الرائحة',\n",
              " 'مصطفى الصوفي انطلقت أمس فعاليات الدورة الثالثة من مهرجان سلا الدولي للفنون الساخرة التي تنظمها جمعية نجمة للفكر والإبداع والتي تستمر على مدى ثلاثة أيام تحت شعار نضحكوها مغربية وشهد حفل الافتتاح الذي عرف تقديم كلمة مهمة لرئيسة الجمعية فوزية الوافي تكريم الثنائي سفاج ومهيول هذا الثنائي الذي اعتبرته مديرة المهرجان زهور الزرييق من الثنائيات الكوميدية الناجحة والرائعة التي قدمت طيلة مسيرتها الفنية فيضا من الأعمال التي خلقت الفرجة الكوميدية للجمهور وبالرغم من مرض واحد من الثنائي والمقبل على عملية جراحية حيث نتمنى له الشفاء العاجل لا أن الثنائي المحبوب حل إلى المركب الثقافي الملكي من اجل لقاء الجمهور لقاء تميز بالبساطة والود وشهادة مؤثرة ومميزة قدمها الفنان الساخر الشرقي الساروتي في حق المحتفى بهما واللذين تلقيا هدايا وتذكارات من يد رئيسة الجمعية ورئيسة الجماعة الحضرية كما تميزت الدورة أيضا بتكريم الفنان عبد الخالق فيهد فضلا عن سلسة من الفقرات الكوميدية التي سيؤديها نجوم الكوميديا من الجيل الصاعد الفائزين في المباراة الخاصة بانتقاء أحسن الكوميديين الشباب من بروع الوطن ومن مدينة سلا وتشكل هذه الدورة بالنظر إلى برمجتها حلقة استثنائية بطاقمها التنظيمي النسائي حرصا من مديرة المهرجان زهور الزرييق على تحقيق مقاربة النوع وإعطاء الفرصة للمرأة من أجل ابرزا قدراتها ودعمها ومشاركتها الفعالة في هذه الدورة التي تقام بشراكة مع مؤسسة سلا للثقافة والفنون وبدعم من وزارة الثقافة والمسرح الوطني وبريد المغرب وشركة اوبامي حيث يسعى الجميع إلى تبيان قدرات الشباب ومنحهم ثقة كبيرة في مواهبهم وفرصة مواتية للمشاركة إلى جانب نجوم الكوميديا كما تتنوع فقرات الدورة بين عروض فنية ساخرة فردية وثنائية وفن عروض الحلقة بساحة باب الخميس فضلا عن تنظيم ندوة فكرية في إطار صالون الزهراء لفنون القول نظمت أمس حول موضوع مظاهر الكتابة الساخرة في التراث الفني يديرها الدكتور عبد المجيد فنيش والدكتور محمد رمصيص مع قراءة في ديوان طرامواي للزجال مراد القادري وهي الندوة التي أبرزت دور الكوميديا والسخرية في معالجة القضايا الاجتماعية ومحاربة الاستعمار الفرنسي هذا فضلا عن فقرات عدة من أبرزها عرض مسرحية واش الغالية رخيصة من إخراج وتأليف الفنان المتميزة زهور الزرييق وبطولة فاطمة الزهراء أحرار وبنعبد الله الجندي وغيرهما في حفل الاختتام وهي المسرحية التي تعالج قضايا المرأة وقضايا اجتماعية عدة في قالب فني ساخر وجميل',\n",
              " 'الاتحاد الاشتراكي تحيي الفنانة اللبنانية نجوى كرم وضيفة شرف مهرجان تيميتار بأكادير حفل الاختتام الذي سينظم يوم الخامس والعشرين من يونيو الجار وسينشط هذا الحفل إلى جانب نجوى كرم الفنانة الشعبية المغربية زينة الداودية يذكر أن الفنانة اللبنانية قررت طرح ألبومها الجديد يوم من الشهر الجاري بعد مجموعة كبيرة من التأجيلات ويتضمن الألبوم ثماني أغاني لبنانية متنوعة منها عيني بعينك لو بس تعرف دلل بياع اليانصيب التي ربما سيكون لجمهور تيميتار نصيب منها',\n",
              " 'أقدمت كاثريونا وايت حبيبة الممثل جيم كاري على الانتحار في حادثة أعرب الكوميدي البالغ عاما عن عميق حزنه وصدمته حيالها وأشار المتحدث باسم شرطة لوس أنجليس فريد كورال إلى عثور هيئات الطوارئ الطبية على جثة امرأة في الثلاثين من عمرها متحدرة من شيرمان اوكس وقد حدد سبب الوفاة على أنه انتحار على الأرجح وتم فتح تحقيق بالحادثة ولفتت الصحافة المتخصصة في أخبار المشاهير الأمريكيين إلى أن الثنائي انفصلا الخميس الماضي بعد علاقة عاطفية صعبة انفصلا خلالها مرات عدة في السابق وذكر موقع تي ام زي نقلا عن مصادر في الشرطة أن وايت قضت جراء جرعة زائدة من الأدوية غير أن كورال لم يؤكد هذه المعلومات على الفور وأبدى كاري نجم أفلام عدة بينها دام اند دامر ايترنل سانشاين اوف ذي سبوتليس مايند مان اون ذي مون صدمته وعميق حزنه إزاء وفاة من وصفها بـ حبيبتي اللطيفة كاثريونا وقال في بيان حصلت وكالة فرانس برس على نسخة منه كانت زهرة إيرلندية حساسة ولطيفة حقا ً، كانت حساسيتها أكبر من أن تتحملها هذه الأرض وأضاف قلبي مع عائلتها وأصدقائها وجميع الذين أحبوها لقد حل علينا هذا الخبر جميعا كوقع الصاعقة',\n",
              " 'أحمد الريدي تطور جديد شهدته قضية الفنانة زينة وأحمد عز والتوأم الحائر فيما بينهما وذلك بعدما قررت زينة التعليق على هذه المسألة للمرة الأولى من خلال مداخلة هاتفية أجرتها مع أحد البرامج التلفزيونية زينة أكدت في البداية أنها لن تتحدث عن القضية من الناحية القانونية لأنها تحترم قرار المحكمة بحظر النشر ولكنها عبرت عن غضبها بسبب المعلومات المغلوطة التي نشر ووجهت زينة رسالة إلى المشاهدين بألا يصدقوا ما يكتب لأنه غير صحيح مشيرة إلى أنها هي وأحمد عز هما من يمتلكان الحقيقة الكاملة بعدها وجهت زينة حديثها لأحمد عز قائلة يا أحمد يا عز عيب إللي بتعمله ده فضحت نفسك وفضحتنا معاك دي لا رجولة ولا أخلاق بتحارب ولادك الاتنين وهما طفلان ما يعرفوش حاجة وعيب لما تقف قدام طفلين وواحدة ست إللي هي أمهم وأنت إتجوزتها حديث زينة للمرة الأولى عن الأزمة جاء بعدما عقدت هيئة الدفاع عن أحمد عز مؤتمرا صحافيا مساء الثلاثاء الماضي من أجل الحديث عن الأزمة وتفنيدها بعدما أصدرت نيابة الأسرة تقريرا مبدئيا يعفي عز من نسب التوأم وتابعت زينة رسالتها إلى أحمد عز بنبرة حادة قائلة لو طلعت قولت للناس الحقيقة وإللي عندي وحقيقة كذبك عليهم إنت مش هتعرف تمشي في الشارع مؤكدة أن الجمهور لن يرحمه لأن الجمهور أصبح قاضيا عليهما ويحاكمهما على كل ما يقولانه وطلبت زينة من عز أن يكف عن إنفاق الأموال على المحامين وغيرهم وأن يصرف هذه الأموال على طفليه خاصة أنهما كانا مريضين خلال الفترة الماضية وظلت لمدة أربعة أشهر تتواجد إلى جوارهم في المستشفى كما أشارت إلى أنها لن تترك حقها قائلة أنا مش هسيب حقي يا أحمد يا عز ومش هسيب حق ولادي هاخد حقي من حبابي عنيك واعتبرت أن الأزمة تتمثل في كونها لا تحارب عدوا ً، ولكنها تحارب والد طفليها قائلة له إنت هتروح من ربنا فين إنت كدبت كدبة وصدقتها ووجهت زينة النصيحة لعز بأنه بدلا من أن يذهب إلى الخبراء في المحكمة ويلتقط الصور مع الموظفات فليقم بعمل تحليل الـ الذي أجرته هي بدورها أكثر من مرة كما اعتبرت أن الفنان من المفترض أن يكون لديه الإحساس بشكل أكبر ولكنها تساءلت عن مدى الإحساس لدى أحمد عز وطالبت زينة أن يتم إحضار شهادة التتبع الخاصة بعز ولماذا كان يتواجد بالولايات المتحدة الأميركية أثناء فترة حملها وقبل ولادتها مؤكدة أن لديها الكثير لتقوله لكنها لم تتحدث بعد لأنها تحترم أولادها والجمهور وأخيرا ً، زينة أكدت لعز أن الجمهور لم يعد يحبه الآن بسبب ما يقوم به تجاه طفلين مشيرة إلى كونها ستظل تحارب من أجل حق طفليها ووجهت رسالة أخيرة له قائلة استر ده ربنا بيستر كما أعربت عن تفاؤلها وثقتها في القضاء']"
            ]
          },
          "metadata": {
            "tags": []
          },
          "execution_count": 7
        }
      ]
    },
    {
      "cell_type": "markdown",
      "metadata": {
        "id": "Pw_NiyZwtnB1",
        "colab_type": "text"
      },
      "source": [
        "Количество уникальных слов в наборе данных."
      ]
    },
    {
      "cell_type": "code",
      "metadata": {
        "id": "YykFZO9wupjW",
        "colab_type": "code",
        "outputId": "c49e9a26-1d42-4f18-b4e7-cb56b9b0feeb",
        "colab": {
          "base_uri": "https://localhost:8080/",
          "height": 34
        }
      },
      "source": [
        "vocabVect = CountVectorizer()\n",
        "vocabVect.fit(vocab_list)\n",
        "corpusVocab = vocabVect.vocabulary_\n",
        "print('Количество сформированных признаков - {}'.format(len(corpusVocab)))"
      ],
      "execution_count": 8,
      "outputs": [
        {
          "output_type": "stream",
          "text": [
            "Количество сформированных признаков - 423177\n"
          ],
          "name": "stdout"
        }
      ]
    },
    {
      "cell_type": "markdown",
      "metadata": {
        "id": "DK3zZ5mAtxZt",
        "colab_type": "text"
      },
      "source": [
        "Примеры некоторых слов, взятых из набора данных с их частотами."
      ]
    },
    {
      "cell_type": "code",
      "metadata": {
        "id": "TywkKdkKu32l",
        "colab_type": "code",
        "outputId": "d064e19f-66e1-4df6-a67d-c3402ba20067",
        "colab": {
          "base_uri": "https://localhost:8080/",
          "height": 170
        }
      },
      "source": [
        "for i in list(corpusVocab)[1:10]:\n",
        "    print('{}={}'.format(i, corpusVocab[i]))"
      ],
      "execution_count": 9,
      "outputs": [
        {
          "output_type": "stream",
          "text": [
            "بين=136351\n",
            "أستوديوهات=6605\n",
            "ورزازات=367728\n",
            "وصحراء=374884\n",
            "مرزوكة=289711\n",
            "وآثار=315610\n",
            "وليلي=387452\n",
            "ثم=158196\n",
            "الرباط=55944\n"
          ],
          "name": "stdout"
        }
      ]
    },
    {
      "cell_type": "code",
      "metadata": {
        "id": "Eosr-re6w8yq",
        "colab_type": "code",
        "colab": {}
      },
      "source": [
        "test_features = vocabVect.transform(vocab_list)"
      ],
      "execution_count": 0,
      "outputs": []
    },
    {
      "cell_type": "code",
      "metadata": {
        "id": "7VKqRp06yl9a",
        "colab_type": "code",
        "outputId": "acba772e-7d9e-4ad0-f052-2adeb293e015",
        "colab": {
          "base_uri": "https://localhost:8080/",
          "height": 51
        }
      },
      "source": [
        "test_features"
      ],
      "execution_count": 11,
      "outputs": [
        {
          "output_type": "execute_result",
          "data": {
            "text/plain": [
              "<108790x423177 sparse matrix of type '<class 'numpy.int64'>'\n",
              "\twith 20016309 stored elements in Compressed Sparse Row format>"
            ]
          },
          "metadata": {
            "tags": []
          },
          "execution_count": 11
        }
      ]
    },
    {
      "cell_type": "markdown",
      "metadata": {
        "id": "ex_1I38NuHps",
        "colab_type": "text"
      },
      "source": [
        "#Подгонка и прогнозирование данных обучения и испытаний с использованием нескольких векторизаторов и классификаторов"
      ]
    },
    {
      "cell_type": "markdown",
      "metadata": {
        "id": "7culejopuDIk",
        "colab_type": "text"
      },
      "source": [
        "Мы собираемся разделить наши данные между данными обучения и тестирования в пропорции 0,7."
      ]
    },
    {
      "cell_type": "code",
      "metadata": {
        "id": "R8vIw50-0iuC",
        "colab_type": "code",
        "colab": {}
      },
      "source": [
        "X_train, X_test, y_train, y_test = train_test_split(data['text'], data['target'], test_size=0.7, random_state=1)"
      ],
      "execution_count": 0,
      "outputs": []
    },
    {
      "cell_type": "code",
      "metadata": {
        "id": "90O15k7i-1fp",
        "colab_type": "code",
        "colab": {}
      },
      "source": [
        "def sentiment(v, c):\n",
        "    model = Pipeline(\n",
        "        [(\"vectorizer\", v), \n",
        "         (\"classifier\", c)])\n",
        "    model.fit(X_train, y_train)\n",
        "    y_pred = model.predict(X_test)\n",
        "    print_accuracy_score_for_classes(y_test, y_pred)\n",
        "    labels=['0', '1', '2', '3',  '4']\n",
        "    plot_confusion_matrix(model,X_test, y_test,labels,display_labels='true',normalize='true')"
      ],
      "execution_count": 0,
      "outputs": []
    },
    {
      "cell_type": "code",
      "metadata": {
        "id": "e4SttL9E-462",
        "colab_type": "code",
        "outputId": "82c72bf8-25da-4f2d-d4d8-1c8818860b52",
        "colab": {
          "base_uri": "https://localhost:8080/",
          "height": 268
        }
      },
      "source": [
        "plt.hist(data['target'])\n",
        "plt.show()"
      ],
      "execution_count": 14,
      "outputs": [
        {
          "output_type": "display_data",
          "data": {
            "image/png": "[encoded data removed]",
            "text/plain": [
              "<Figure size 432x288 with 1 Axes>"
            ]
          },
          "metadata": {
            "tags": [],
            "needs_background": "light"
          }
        }
      ]
    },
    {
      "cell_type": "markdown",
      "metadata": {
        "id": "ZlXIIUXfutfw",
        "colab_type": "text"
      },
      "source": [
        "##Использование счетчика векторов и логистической регрессии"
      ]
    },
    {
      "cell_type": "code",
      "metadata": {
        "id": "syYi5Fk6pl8L",
        "colab_type": "code",
        "colab": {
          "base_uri": "https://localhost:8080/",
          "height": 387
        },
        "outputId": "6219f3c2-2b1a-4fd2-f30b-8d057a0ea5b5"
      },
      "source": [
        "sentiment(CountVectorizer(), LogisticRegression(C=3.0))"
      ],
      "execution_count": 15,
      "outputs": [
        {
          "output_type": "stream",
          "text": [
            "Метка \t Accuracy \t \t f1_score\n",
            "0 \t 0.9303995006242197 \t 0.9303995006242197\n",
            "1 \t 0.9606473594548552 \t 0.9606473594548552\n",
            "2 \t 0.8823828402968384 \t 0.8823828402968384\n",
            "3 \t 0.9074203465623253 \t 0.9074203465623253\n",
            "4 \t 0.9885162469006916 \t 0.9885162469006916\n"
          ],
          "name": "stdout"
        },
        {
          "output_type": "display_data",
          "data": {
            "image/png": "[encoded data removed]",
            "text/plain": [
              "<Figure size 432x288 with 2 Axes>"
            ]
          },
          "metadata": {
            "tags": [],
            "needs_background": "light"
          }
        }
      ]
    },
    {
      "cell_type": "markdown",
      "metadata": {
        "id": "8ZQN8D2ru1FQ",
        "colab_type": "text"
      },
      "source": [
        "##Использование Tfid Vectorizer и LinearSVC"
      ]
    },
    {
      "cell_type": "code",
      "metadata": {
        "id": "_gYx22dH_CyX",
        "colab_type": "code",
        "outputId": "133078a9-550b-44f2-d1e4-6392e5883045",
        "colab": {
          "base_uri": "https://localhost:8080/",
          "height": 387
        }
      },
      "source": [
        "sentiment(TfidfVectorizer(), LinearSVC())"
      ],
      "execution_count": 16,
      "outputs": [
        {
          "output_type": "stream",
          "text": [
            "Метка \t Accuracy \t \t f1_score\n",
            "0 \t 0.9507906783187682 \t 0.9507906783187683\n",
            "1 \t 0.971465076660988 \t 0.971465076660988\n",
            "2 \t 0.9052556673782657 \t 0.9052556673782657\n",
            "3 \t 0.912800447177194 \t 0.912800447177194\n",
            "4 \t 0.9925942842228892 \t 0.9925942842228892\n"
          ],
          "name": "stdout"
        },
        {
          "output_type": "display_data",
          "data": {
            "image/png": "[encoded data removed]",
            "text/plain": [
              "<Figure size 432x288 with 2 Axes>"
            ]
          },
          "metadata": {
            "tags": [],
            "needs_background": "light"
          }
        }
      ]
    },
    {
      "cell_type": "markdown",
      "metadata": {
        "id": "K1uJIJMevdBn",
        "colab_type": "text"
      },
      "source": [
        "##Использование графа векторизатора и полиномиального наивного байесовского"
      ]
    },
    {
      "cell_type": "code",
      "metadata": {
        "id": "-g2ytb-D_LKG",
        "colab_type": "code",
        "outputId": "40e43052-e765-4b8e-862a-5967c38248b4",
        "colab": {
          "base_uri": "https://localhost:8080/",
          "height": 387
        }
      },
      "source": [
        "sentiment(CountVectorizer(), MultinomialNB())"
      ],
      "execution_count": 17,
      "outputs": [
        {
          "output_type": "stream",
          "text": [
            "Метка \t Accuracy \t \t f1_score\n",
            "0 \t 0.9171868497711194 \t 0.9171868497711194\n",
            "1 \t 0.9597103918228279 \t 0.9597103918228279\n",
            "2 \t 0.8727254244180136 \t 0.8727254244180136\n",
            "3 \t 0.9132196757965344 \t 0.9132196757965344\n",
            "4 \t 0.9801318021662534 \t 0.9801318021662534\n"
          ],
          "name": "stdout"
        },
        {
          "output_type": "display_data",
          "data": {
            "image/png": "[encoded data removed]",
            "text/plain": [
              "<Figure size 432x288 with 2 Axes>"
            ]
          },
          "metadata": {
            "tags": [],
            "needs_background": "light"
          }
        }
      ]
    },
    {
      "cell_type": "markdown",
      "metadata": {
        "id": "SAReKFu9vL-Y",
        "colab_type": "text"
      },
      "source": [
        "##Использование графа векторизатора и наивного байесовского Бернулли"
      ]
    },
    {
      "cell_type": "code",
      "metadata": {
        "id": "yZherrFO_hDF",
        "colab_type": "code",
        "outputId": "0466fc90-af03-494b-ebda-20ff2a98c8b6",
        "colab": {
          "base_uri": "https://localhost:8080/",
          "height": 387
        }
      },
      "source": [
        "sentiment(CountVectorizer(binary=True), BernoulliNB())"
      ],
      "execution_count": 18,
      "outputs": [
        {
          "output_type": "stream",
          "text": [
            "Метка \t Accuracy \t \t f1_score\n",
            "0 \t 0.7796504369538078 \t 0.7796504369538076\n",
            "1 \t 0.9436115843270869 \t 0.9436115843270869\n",
            "2 \t 0.8561553319101352 \t 0.8561553319101352\n",
            "3 \t 0.8760480715483511 \t 0.8760480715483511\n",
            "4 \t 0.9827743703510374 \t 0.9827743703510374\n"
          ],
          "name": "stdout"
        },
        {
          "output_type": "display_data",
          "data": {
            "image/png": "[encoded data removed]",
            "text/plain": [
              "<Figure size 432x288 with 2 Axes>"
            ]
          },
          "metadata": {
            "tags": [],
            "needs_background": "light"
          }
        }
      ]
    },
    {
      "cell_type": "markdown",
      "metadata": {
        "id": "j5ZZDVyKvHJR",
        "colab_type": "text"
      },
      "source": [
        "##Использование Tfid Vectorizer и дополнения наивного байесовского"
      ]
    },
    {
      "cell_type": "code",
      "metadata": {
        "id": "-qb-nHuF_qHO",
        "colab_type": "code",
        "colab": {
          "base_uri": "https://localhost:8080/",
          "height": 387
        },
        "outputId": "2cf6ad7a-ed72-4807-923f-bb78d53a2025"
      },
      "source": [
        "sentiment(TfidfVectorizer(), ComplementNB())\n"
      ],
      "execution_count": 19,
      "outputs": [
        {
          "output_type": "stream",
          "text": [
            "Метка \t Accuracy \t \t f1_score\n",
            "0 \t 0.8905534748231377 \t 0.8905534748231377\n",
            "1 \t 0.9695059625212947 \t 0.9695059625212947\n",
            "2 \t 0.8429399207075328 \t 0.8429399207075328\n",
            "3 \t 0.9107741755170486 \t 0.9107741755170486\n",
            "4 \t 0.9934751402844839 \t 0.9934751402844839\n"
          ],
          "name": "stdout"
        },
        {
          "output_type": "display_data",
          "data": {
            "image/png": "[encoded data removed]",
            "text/plain": [
              "<Figure size 432x288 with 2 Axes>"
            ]
          },
          "metadata": {
            "tags": [],
            "needs_background": "light"
          }
        }
      ]
    },
    {
      "cell_type": "markdown",
      "metadata": {
        "id": "fa7sndDEvfkc",
        "colab_type": "text"
      },
      "source": [
        "#Вывод\n",
        "Мы видим, что лучшим классификатором при работе с данными был LinearSVC, поскольку он получил классификацию всех классов данных с точностью более 90 процентов. Это было сделано с использованием Tfid Vectorizor, что является сокращением от Term Frequency (TF) и Inverse Document Frequency (IDF). в то время как LinearSVC возвращает «наиболее подходящую» гиперплоскость, которая разделяет или классифицирует данные."
      ]
    },
    {
      "cell_type": "markdown",
      "metadata": {
        "id": "t1RGUH6KxkhR",
        "colab_type": "text"
      },
      "source": [
        "#Список литературы\n",
        "1. Набор данных был взят с сайта: https://data.mendeley.com/datasets/v524p5dhpj/2\n",
        "2. Лекции по курсу «Методы машинного обучения»"
      ]
    }
  ]
}