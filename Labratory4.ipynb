{
  "nbformat": 4,
  "nbformat_minor": 0,
  "metadata": {
    "colab": {
      "name": "Labratory4.ipynb",
      "provenance": [],
      "authorship_tag": "ABX9TyP8ptWNTMXjym4Z6S02dJ/s",
      "include_colab_link": true
    },
    "kernelspec": {
      "name": "python3",
      "display_name": "Python 3"
    }
  },
  "cells": [
    {
      "cell_type": "markdown",
      "metadata": {
        "id": "view-in-github",
        "colab_type": "text"
      },
      "source": [
        "<a href=\"https://colab.research.google.com/github/farahshahhoud/Machine_Learning/blob/master/Labratory4.ipynb\" target=\"_parent\"><img src=\"https://colab.research.google.com/assets/colab-badge.svg\" alt=\"Open In Colab\"/></a>"
      ]
    },
    {
      "cell_type": "markdown",
      "metadata": {
        "id": "aMccMZQIPgk5",
        "colab_type": "text"
      },
      "source": [
        "#Цель лабораторной работы\n",
        "Изучение сложных способов подготовки выборки и подбора гиперпараметров на примере метода ближайших соседей."
      ]
    },
    {
      "cell_type": "code",
      "metadata": {
        "id": "o6TgfctEaICp",
        "colab_type": "code",
        "outputId": "9d63d06a-b1cd-4241-a8a0-64fe2ddd567b",
        "colab": {
          "base_uri": "https://localhost:8080/",
          "height": 71
        }
      },
      "source": [
        "import  numpy  as  np \n",
        "import  pandas  as  pd \n",
        "from  typing  import  Dict ,  Tuple \n",
        "from  scipy  import  stats \n",
        "from  sklearn.datasets  import  * \n",
        "from  sklearn.model_selection  import  train_test_split \n",
        "from  sklearn.neighbors  import  KNeighborsRegressor ,  KNeighborsClassifier\n",
        "from sklearn.model_selection import cross_val_score, cross_validate\n",
        "from sklearn.model_selection import KFold, RepeatedKFold, LeaveOneOut, LeavePOut, ShuffleSplit, StratifiedKFold\n",
        "from  sklearn.metrics  import  accuracy_score ,  balanced_accuracy_score \n",
        "from sklearn.metrics  import  plot_confusion_matrix \n",
        "from  sklearn.metrics  import  precision_score ,  recall_score ,  f1_score ,  classification_report \n",
        "from  sklearn.metrics  import  confusion_matrix \n",
        "from  sklearn.metrics  import  mean_absolute_error ,  mean_squared_error ,  mean_squared_log_error ,  median_absolute_error ,  r2_score  \n",
        "from  sklearn.metrics  import  roc_curve ,  roc_auc_score\n",
        "from sklearn.model_selection import GridSearchCV, RandomizedSearchCV\n",
        "from sklearn.model_selection import learning_curve, validation_curve\n",
        "import  seaborn  as  sns\n",
        "import  matplotlib.pyplot  as  plt \n",
        "% matplotlib inline \n",
        "sns . set ( style = \"ticks\" )"
      ],
      "execution_count": 1,
      "outputs": [
        {
          "output_type": "stream",
          "text": [
            "/usr/local/lib/python3.6/dist-packages/statsmodels/tools/_testing.py:19: FutureWarning: pandas.util.testing is deprecated. Use the functions in the public API at pandas.testing instead.\n",
            "  import pandas.util.testing as tm\n"
          ],
          "name": "stderr"
        }
      ]
    },
    {
      "cell_type": "markdown",
      "metadata": {
        "id": "F6VBXPcnPlpB",
        "colab_type": "text"
      },
      "source": [
        "#Набор данных\n",
        "Наш набор данных взят с сайта Kaggle. Он описывает спецификацию подержанного автомобиля. Наша цель - предсказать цену автомобиля. Поэтому наша задача - построить модель машинного обучения в качестве регрессора для цены автомобилей."
      ]
    },
    {
      "cell_type": "code",
      "metadata": {
        "id": "w2zkcb15aOV4",
        "colab_type": "code",
        "colab": {
          "base_uri": "https://localhost:8080/",
          "height": 224
        },
        "outputId": "9d938ea5-a948-4678-ae82-f2af61281cfb"
      },
      "source": [
        "data = pd.read_csv('car data.csv')\n",
        "data.head()"
      ],
      "execution_count": 2,
      "outputs": [
        {
          "output_type": "execute_result",
          "data": {
            "text/html": [
              "<div>\n",
              "<style scoped>\n",
              "    .dataframe tbody tr th:only-of-type {\n",
              "        vertical-align: middle;\n",
              "    }\n",
              "\n",
              "    .dataframe tbody tr th {\n",
              "        vertical-align: top;\n",
              "    }\n",
              "\n",
              "    .dataframe thead th {\n",
              "        text-align: right;\n",
              "    }\n",
              "</style>\n",
              "<table border=\"1\" class=\"dataframe\">\n",
              "  <thead>\n",
              "    <tr style=\"text-align: right;\">\n",
              "      <th></th>\n",
              "      <th>Car_Name</th>\n",
              "      <th>Year</th>\n",
              "      <th>Selling_Price</th>\n",
              "      <th>Present_Price</th>\n",
              "      <th>Kms_Driven</th>\n",
              "      <th>Fuel_Type</th>\n",
              "      <th>Seller_Type</th>\n",
              "      <th>Transmission</th>\n",
              "      <th>Owner</th>\n",
              "    </tr>\n",
              "  </thead>\n",
              "  <tbody>\n",
              "    <tr>\n",
              "      <th>0</th>\n",
              "      <td>ritz</td>\n",
              "      <td>2014</td>\n",
              "      <td>3.35</td>\n",
              "      <td>5.59</td>\n",
              "      <td>27000</td>\n",
              "      <td>Petrol</td>\n",
              "      <td>Dealer</td>\n",
              "      <td>Manual</td>\n",
              "      <td>0</td>\n",
              "    </tr>\n",
              "    <tr>\n",
              "      <th>1</th>\n",
              "      <td>sx4</td>\n",
              "      <td>2013</td>\n",
              "      <td>4.75</td>\n",
              "      <td>9.54</td>\n",
              "      <td>43000</td>\n",
              "      <td>Diesel</td>\n",
              "      <td>Dealer</td>\n",
              "      <td>Manual</td>\n",
              "      <td>0</td>\n",
              "    </tr>\n",
              "    <tr>\n",
              "      <th>2</th>\n",
              "      <td>ciaz</td>\n",
              "      <td>2017</td>\n",
              "      <td>7.25</td>\n",
              "      <td>9.85</td>\n",
              "      <td>6900</td>\n",
              "      <td>Petrol</td>\n",
              "      <td>Dealer</td>\n",
              "      <td>Manual</td>\n",
              "      <td>0</td>\n",
              "    </tr>\n",
              "    <tr>\n",
              "      <th>3</th>\n",
              "      <td>wagon r</td>\n",
              "      <td>2011</td>\n",
              "      <td>2.85</td>\n",
              "      <td>4.15</td>\n",
              "      <td>5200</td>\n",
              "      <td>Petrol</td>\n",
              "      <td>Dealer</td>\n",
              "      <td>Manual</td>\n",
              "      <td>0</td>\n",
              "    </tr>\n",
              "    <tr>\n",
              "      <th>4</th>\n",
              "      <td>swift</td>\n",
              "      <td>2014</td>\n",
              "      <td>4.60</td>\n",
              "      <td>6.87</td>\n",
              "      <td>42450</td>\n",
              "      <td>Diesel</td>\n",
              "      <td>Dealer</td>\n",
              "      <td>Manual</td>\n",
              "      <td>0</td>\n",
              "    </tr>\n",
              "  </tbody>\n",
              "</table>\n",
              "</div>"
            ],
            "text/plain": [
              "  Car_Name  Year  Selling_Price  ...  Seller_Type  Transmission Owner\n",
              "0     ritz  2014           3.35  ...       Dealer        Manual     0\n",
              "1      sx4  2013           4.75  ...       Dealer        Manual     0\n",
              "2     ciaz  2017           7.25  ...       Dealer        Manual     0\n",
              "3  wagon r  2011           2.85  ...       Dealer        Manual     0\n",
              "4    swift  2014           4.60  ...       Dealer        Manual     0\n",
              "\n",
              "[5 rows x 9 columns]"
            ]
          },
          "metadata": {
            "tags": []
          },
          "execution_count": 2
        }
      ]
    },
    {
      "cell_type": "code",
      "metadata": {
        "id": "xss_dPm639hY",
        "colab_type": "code",
        "colab": {
          "base_uri": "https://localhost:8080/",
          "height": 34
        },
        "outputId": "a5d83022-116a-40e4-ce24-c62aa4058bc3"
      },
      "source": [
        "data.shape"
      ],
      "execution_count": 3,
      "outputs": [
        {
          "output_type": "execute_result",
          "data": {
            "text/plain": [
              "(301, 9)"
            ]
          },
          "metadata": {
            "tags": []
          },
          "execution_count": 3
        }
      ]
    },
    {
      "cell_type": "code",
      "metadata": {
        "id": "aaoyao_Ga6et",
        "colab_type": "code",
        "outputId": "00f2fef6-39b6-425c-b288-8ed51d89c8fc",
        "colab": {
          "base_uri": "https://localhost:8080/",
          "height": 68
        }
      },
      "source": [
        "data.columns"
      ],
      "execution_count": 4,
      "outputs": [
        {
          "output_type": "execute_result",
          "data": {
            "text/plain": [
              "Index(['Car_Name', 'Year', 'Selling_Price', 'Present_Price', 'Kms_Driven',\n",
              "       'Fuel_Type', 'Seller_Type', 'Transmission', 'Owner'],\n",
              "      dtype='object')"
            ]
          },
          "metadata": {
            "tags": []
          },
          "execution_count": 4
        }
      ]
    },
    {
      "cell_type": "markdown",
      "metadata": {
        "id": "GgLB-l97ScfP",
        "colab_type": "text"
      },
      "source": [
        "#Подготовка данных и построение базовых моделей для оценки качества"
      ]
    },
    {
      "cell_type": "markdown",
      "metadata": {
        "id": "8l3GIj_PR1bR",
        "colab_type": "text"
      },
      "source": [
        "##Обработка пропусков в числовых данных"
      ]
    },
    {
      "cell_type": "markdown",
      "metadata": {
        "id": "WmIxFTyZRR9h",
        "colab_type": "text"
      },
      "source": [
        "Проверка, содержит ли наш набор данных недостающие данные."
      ]
    },
    {
      "cell_type": "code",
      "metadata": {
        "id": "7XyYPUkywuB5",
        "colab_type": "code",
        "colab": {
          "base_uri": "https://localhost:8080/",
          "height": 187
        },
        "outputId": "b6a82fda-eb0d-413a-816c-f7b23a133dca"
      },
      "source": [
        "data.isnull().sum()"
      ],
      "execution_count": 5,
      "outputs": [
        {
          "output_type": "execute_result",
          "data": {
            "text/plain": [
              "Car_Name         0\n",
              "Year             0\n",
              "Selling_Price    0\n",
              "Present_Price    0\n",
              "Kms_Driven       0\n",
              "Fuel_Type        0\n",
              "Seller_Type      0\n",
              "Transmission     0\n",
              "Owner            0\n",
              "dtype: int64"
            ]
          },
          "metadata": {
            "tags": []
          },
          "execution_count": 5
        }
      ]
    },
    {
      "cell_type": "markdown",
      "metadata": {
        "id": "m5UrPVHyRYPF",
        "colab_type": "text"
      },
      "source": [
        "Наш набор данных не содержит недостающих данных.   \n",
        "Мы проверим, есть ли переменные объекта, чтобы преобразовать их в числовые значения."
      ]
    },
    {
      "cell_type": "code",
      "metadata": {
        "id": "3WYGLddJbCue",
        "colab_type": "code",
        "outputId": "7f19bde1-987a-4049-e162-40214747eefa",
        "colab": {
          "base_uri": "https://localhost:8080/",
          "height": 187
        }
      },
      "source": [
        "data.dtypes"
      ],
      "execution_count": 6,
      "outputs": [
        {
          "output_type": "execute_result",
          "data": {
            "text/plain": [
              "Car_Name          object\n",
              "Year               int64\n",
              "Selling_Price    float64\n",
              "Present_Price    float64\n",
              "Kms_Driven         int64\n",
              "Fuel_Type         object\n",
              "Seller_Type       object\n",
              "Transmission      object\n",
              "Owner              int64\n",
              "dtype: object"
            ]
          },
          "metadata": {
            "tags": []
          },
          "execution_count": 6
        }
      ]
    },
    {
      "cell_type": "markdown",
      "metadata": {
        "id": "bmiA6xdqSAF-",
        "colab_type": "text"
      },
      "source": [
        "##Кодирование категориальных признаков"
      ]
    },
    {
      "cell_type": "markdown",
      "metadata": {
        "id": "kVC8bl4GRuuR",
        "colab_type": "text"
      },
      "source": [
        "У нас будет простой кодировщик для кодирования значений типа объекта."
      ]
    },
    {
      "cell_type": "code",
      "metadata": {
        "id": "PidLnIo8y_JM",
        "colab_type": "code",
        "colab": {
          "base_uri": "https://localhost:8080/",
          "height": 34
        },
        "outputId": "a1d23180-ae23-46e9-b2db-0b408d243c10"
      },
      "source": [
        "np.unique(data.Fuel_Type)"
      ],
      "execution_count": 8,
      "outputs": [
        {
          "output_type": "execute_result",
          "data": {
            "text/plain": [
              "array(['CNG', 'Diesel', 'Petrol'], dtype=object)"
            ]
          },
          "metadata": {
            "tags": []
          },
          "execution_count": 8
        }
      ]
    },
    {
      "cell_type": "code",
      "metadata": {
        "id": "ZWq_bbnczVFH",
        "colab_type": "code",
        "colab": {}
      },
      "source": [
        "from sklearn.preprocessing import LabelEncoder\n",
        "LE=LabelEncoder()"
      ],
      "execution_count": 0,
      "outputs": []
    },
    {
      "cell_type": "code",
      "metadata": {
        "id": "AlkkdcbX0B5A",
        "colab_type": "code",
        "colab": {}
      },
      "source": [
        "data_Fuel=LE.fit_transform(data['Fuel_Type'])\n",
        "data['Fuel_Type']=data_Fuel"
      ],
      "execution_count": 0,
      "outputs": []
    },
    {
      "cell_type": "code",
      "metadata": {
        "id": "zyf95nMt0LKr",
        "colab_type": "code",
        "colab": {
          "base_uri": "https://localhost:8080/",
          "height": 34
        },
        "outputId": "6eacdad0-9e6d-4980-89d5-b33c930ead40"
      },
      "source": [
        "np.unique(data.Seller_Type)"
      ],
      "execution_count": 11,
      "outputs": [
        {
          "output_type": "execute_result",
          "data": {
            "text/plain": [
              "array(['Dealer', 'Individual'], dtype=object)"
            ]
          },
          "metadata": {
            "tags": []
          },
          "execution_count": 11
        }
      ]
    },
    {
      "cell_type": "code",
      "metadata": {
        "id": "gIeDVjIn0Pfx",
        "colab_type": "code",
        "colab": {}
      },
      "source": [
        "data_Seller=LE.fit_transform(data.Seller_Type)\n",
        "data.Seller_Type=data_Seller"
      ],
      "execution_count": 0,
      "outputs": []
    },
    {
      "cell_type": "code",
      "metadata": {
        "id": "K8tpy-RT0ZU3",
        "colab_type": "code",
        "colab": {
          "base_uri": "https://localhost:8080/",
          "height": 34
        },
        "outputId": "566e969f-91c0-4f3e-c4ac-3dd533c65a7c"
      },
      "source": [
        "np.unique(data.Transmission)"
      ],
      "execution_count": 13,
      "outputs": [
        {
          "output_type": "execute_result",
          "data": {
            "text/plain": [
              "array(['Automatic', 'Manual'], dtype=object)"
            ]
          },
          "metadata": {
            "tags": []
          },
          "execution_count": 13
        }
      ]
    },
    {
      "cell_type": "code",
      "metadata": {
        "id": "6QH9BsNd0d5D",
        "colab_type": "code",
        "colab": {}
      },
      "source": [
        "data_Tran=LE.fit_transform(data.Transmission)\n",
        "data.Transmission=data_Tran"
      ],
      "execution_count": 0,
      "outputs": []
    },
    {
      "cell_type": "code",
      "metadata": {
        "id": "Ng0Xd3O82pAt",
        "colab_type": "code",
        "colab": {
          "base_uri": "https://localhost:8080/",
          "height": 493
        },
        "outputId": "0746c91d-cc9e-4ba0-8e22-5b1e98e8b481"
      },
      "source": [
        "np.unique(data.Car_Name)"
      ],
      "execution_count": 15,
      "outputs": [
        {
          "output_type": "execute_result",
          "data": {
            "text/plain": [
              "array(['800', 'Activa 3g', 'Activa 4g', 'Bajaj  ct 100',\n",
              "       'Bajaj Avenger 150', 'Bajaj Avenger 150 street',\n",
              "       'Bajaj Avenger 220', 'Bajaj Avenger 220 dtsi',\n",
              "       'Bajaj Avenger Street 220', 'Bajaj Discover 100',\n",
              "       'Bajaj Discover 125', 'Bajaj Dominar 400', 'Bajaj Pulsar  NS 200',\n",
              "       'Bajaj Pulsar 135 LS', 'Bajaj Pulsar 150', 'Bajaj Pulsar 220 F',\n",
              "       'Bajaj Pulsar NS 200', 'Bajaj Pulsar RS200', 'Hero  CBZ Xtreme',\n",
              "       'Hero  Ignitor Disc', 'Hero Extreme', 'Hero Glamour',\n",
              "       'Hero Honda CBZ extreme', 'Hero Honda Passion Pro', 'Hero Hunk',\n",
              "       'Hero Passion Pro', 'Hero Passion X pro', 'Hero Splender Plus',\n",
              "       'Hero Splender iSmart', 'Hero Super Splendor', 'Honda Activa 125',\n",
              "       'Honda Activa 4G', 'Honda CB Hornet 160R', 'Honda CB Shine',\n",
              "       'Honda CB Trigger', 'Honda CB Unicorn', 'Honda CB twister',\n",
              "       'Honda CBR 150', 'Honda Dream Yuga ', 'Honda Karizma',\n",
              "       'Hyosung GT250R', 'KTM 390 Duke ', 'KTM RC200', 'KTM RC390',\n",
              "       'Mahindra Mojo XT300', 'Royal Enfield Bullet 350',\n",
              "       'Royal Enfield Classic 350', 'Royal Enfield Classic 500',\n",
              "       'Royal Enfield Thunder 350', 'Royal Enfield Thunder 500',\n",
              "       'Suzuki Access 125', 'TVS Apache RTR 160', 'TVS Apache RTR 180',\n",
              "       'TVS Jupyter', 'TVS Sport ', 'TVS Wego', 'UM Renegade Mojave',\n",
              "       'Yamaha FZ  v 2.0', 'Yamaha FZ 16', 'Yamaha FZ S ',\n",
              "       'Yamaha FZ S V 2.0', 'Yamaha Fazer ', 'alto 800', 'alto k10',\n",
              "       'amaze', 'baleno', 'brio', 'camry', 'ciaz', 'city', 'corolla',\n",
              "       'corolla altis', 'creta', 'dzire', 'elantra', 'eon', 'ertiga',\n",
              "       'etios cross', 'etios g', 'etios gd', 'etios liva', 'fortuner',\n",
              "       'grand i10', 'i10', 'i20', 'ignis', 'innova', 'jazz',\n",
              "       'land cruiser', 'omni', 'ritz', 's cross', 'swift', 'sx4', 'verna',\n",
              "       'vitara brezza', 'wagon r', 'xcent'], dtype=object)"
            ]
          },
          "metadata": {
            "tags": []
          },
          "execution_count": 15
        }
      ]
    },
    {
      "cell_type": "code",
      "metadata": {
        "id": "MgvBUR1z230K",
        "colab_type": "code",
        "colab": {
          "base_uri": "https://localhost:8080/",
          "height": 439
        },
        "outputId": "94438f8c-b1c3-46c0-ab04-db89963da474"
      },
      "source": [
        "date_test=data.groupby(\"Car_Name\")\n",
        "date_test.head()"
      ],
      "execution_count": 16,
      "outputs": [
        {
          "output_type": "execute_result",
          "data": {
            "text/html": [
              "<div>\n",
              "<style scoped>\n",
              "    .dataframe tbody tr th:only-of-type {\n",
              "        vertical-align: middle;\n",
              "    }\n",
              "\n",
              "    .dataframe tbody tr th {\n",
              "        vertical-align: top;\n",
              "    }\n",
              "\n",
              "    .dataframe thead th {\n",
              "        text-align: right;\n",
              "    }\n",
              "</style>\n",
              "<table border=\"1\" class=\"dataframe\">\n",
              "  <thead>\n",
              "    <tr style=\"text-align: right;\">\n",
              "      <th></th>\n",
              "      <th>Car_Name</th>\n",
              "      <th>Year</th>\n",
              "      <th>Selling_Price</th>\n",
              "      <th>Present_Price</th>\n",
              "      <th>Kms_Driven</th>\n",
              "      <th>Fuel_Type</th>\n",
              "      <th>Seller_Type</th>\n",
              "      <th>Transmission</th>\n",
              "      <th>Owner</th>\n",
              "    </tr>\n",
              "  </thead>\n",
              "  <tbody>\n",
              "    <tr>\n",
              "      <th>0</th>\n",
              "      <td>ritz</td>\n",
              "      <td>2014</td>\n",
              "      <td>3.35</td>\n",
              "      <td>5.59</td>\n",
              "      <td>27000</td>\n",
              "      <td>2</td>\n",
              "      <td>0</td>\n",
              "      <td>1</td>\n",
              "      <td>0</td>\n",
              "    </tr>\n",
              "    <tr>\n",
              "      <th>1</th>\n",
              "      <td>sx4</td>\n",
              "      <td>2013</td>\n",
              "      <td>4.75</td>\n",
              "      <td>9.54</td>\n",
              "      <td>43000</td>\n",
              "      <td>1</td>\n",
              "      <td>0</td>\n",
              "      <td>1</td>\n",
              "      <td>0</td>\n",
              "    </tr>\n",
              "    <tr>\n",
              "      <th>2</th>\n",
              "      <td>ciaz</td>\n",
              "      <td>2017</td>\n",
              "      <td>7.25</td>\n",
              "      <td>9.85</td>\n",
              "      <td>6900</td>\n",
              "      <td>2</td>\n",
              "      <td>0</td>\n",
              "      <td>1</td>\n",
              "      <td>0</td>\n",
              "    </tr>\n",
              "    <tr>\n",
              "      <th>3</th>\n",
              "      <td>wagon r</td>\n",
              "      <td>2011</td>\n",
              "      <td>2.85</td>\n",
              "      <td>4.15</td>\n",
              "      <td>5200</td>\n",
              "      <td>2</td>\n",
              "      <td>0</td>\n",
              "      <td>1</td>\n",
              "      <td>0</td>\n",
              "    </tr>\n",
              "    <tr>\n",
              "      <th>4</th>\n",
              "      <td>swift</td>\n",
              "      <td>2014</td>\n",
              "      <td>4.60</td>\n",
              "      <td>6.87</td>\n",
              "      <td>42450</td>\n",
              "      <td>1</td>\n",
              "      <td>0</td>\n",
              "      <td>1</td>\n",
              "      <td>0</td>\n",
              "    </tr>\n",
              "    <tr>\n",
              "      <th>...</th>\n",
              "      <td>...</td>\n",
              "      <td>...</td>\n",
              "      <td>...</td>\n",
              "      <td>...</td>\n",
              "      <td>...</td>\n",
              "      <td>...</td>\n",
              "      <td>...</td>\n",
              "      <td>...</td>\n",
              "      <td>...</td>\n",
              "    </tr>\n",
              "    <tr>\n",
              "      <th>273</th>\n",
              "      <td>jazz</td>\n",
              "      <td>2010</td>\n",
              "      <td>2.25</td>\n",
              "      <td>7.50</td>\n",
              "      <td>61203</td>\n",
              "      <td>2</td>\n",
              "      <td>0</td>\n",
              "      <td>1</td>\n",
              "      <td>0</td>\n",
              "    </tr>\n",
              "    <tr>\n",
              "      <th>274</th>\n",
              "      <td>brio</td>\n",
              "      <td>2014</td>\n",
              "      <td>5.30</td>\n",
              "      <td>6.80</td>\n",
              "      <td>16500</td>\n",
              "      <td>2</td>\n",
              "      <td>0</td>\n",
              "      <td>1</td>\n",
              "      <td>0</td>\n",
              "    </tr>\n",
              "    <tr>\n",
              "      <th>278</th>\n",
              "      <td>jazz</td>\n",
              "      <td>2016</td>\n",
              "      <td>6.00</td>\n",
              "      <td>8.40</td>\n",
              "      <td>4000</td>\n",
              "      <td>2</td>\n",
              "      <td>0</td>\n",
              "      <td>1</td>\n",
              "      <td>0</td>\n",
              "    </tr>\n",
              "    <tr>\n",
              "      <th>285</th>\n",
              "      <td>jazz</td>\n",
              "      <td>2016</td>\n",
              "      <td>7.40</td>\n",
              "      <td>8.50</td>\n",
              "      <td>15059</td>\n",
              "      <td>2</td>\n",
              "      <td>0</td>\n",
              "      <td>0</td>\n",
              "      <td>0</td>\n",
              "    </tr>\n",
              "    <tr>\n",
              "      <th>287</th>\n",
              "      <td>amaze</td>\n",
              "      <td>2015</td>\n",
              "      <td>5.75</td>\n",
              "      <td>7.50</td>\n",
              "      <td>44000</td>\n",
              "      <td>2</td>\n",
              "      <td>0</td>\n",
              "      <td>0</td>\n",
              "      <td>0</td>\n",
              "    </tr>\n",
              "  </tbody>\n",
              "</table>\n",
              "<p>225 rows × 9 columns</p>\n",
              "</div>"
            ],
            "text/plain": [
              "    Car_Name  Year  Selling_Price  ...  Seller_Type  Transmission  Owner\n",
              "0       ritz  2014           3.35  ...            0             1      0\n",
              "1        sx4  2013           4.75  ...            0             1      0\n",
              "2       ciaz  2017           7.25  ...            0             1      0\n",
              "3    wagon r  2011           2.85  ...            0             1      0\n",
              "4      swift  2014           4.60  ...            0             1      0\n",
              "..       ...   ...            ...  ...          ...           ...    ...\n",
              "273     jazz  2010           2.25  ...            0             1      0\n",
              "274     brio  2014           5.30  ...            0             1      0\n",
              "278     jazz  2016           6.00  ...            0             1      0\n",
              "285     jazz  2016           7.40  ...            0             0      0\n",
              "287    amaze  2015           5.75  ...            0             0      0\n",
              "\n",
              "[225 rows x 9 columns]"
            ]
          },
          "metadata": {
            "tags": []
          },
          "execution_count": 16
        }
      ]
    },
    {
      "cell_type": "code",
      "metadata": {
        "id": "d6z_ZC1b0tqK",
        "colab_type": "code",
        "colab": {
          "base_uri": "https://localhost:8080/",
          "height": 221
        },
        "outputId": "d8a06f15-320b-4b04-f7b0-019dccddd3e9"
      },
      "source": [
        "data.Car_Name.value_counts()"
      ],
      "execution_count": 17,
      "outputs": [
        {
          "output_type": "execute_result",
          "data": {
            "text/plain": [
              "city                        26\n",
              "corolla altis               16\n",
              "verna                       14\n",
              "fortuner                    11\n",
              "brio                        10\n",
              "                            ..\n",
              "Yamaha FZ 16                 1\n",
              "Bajaj Discover 100           1\n",
              "Honda CB Unicorn             1\n",
              "Royal Enfield Bullet 350     1\n",
              "omni                         1\n",
              "Name: Car_Name, Length: 98, dtype: int64"
            ]
          },
          "metadata": {
            "tags": []
          },
          "execution_count": 17
        }
      ]
    },
    {
      "cell_type": "markdown",
      "metadata": {
        "id": "Fmoy6NnPSSL6",
        "colab_type": "text"
      },
      "source": [
        "Поскольку названия автомобилей не являются уникальными, мы можем использовать информацию из похожих имен автомобилей. Итак, мы собираемся закодировать все названия автомобилей."
      ]
    },
    {
      "cell_type": "code",
      "metadata": {
        "id": "ZbPOHsGD2Y2u",
        "colab_type": "code",
        "colab": {}
      },
      "source": [
        "data_Name=LE.fit_transform(data.Car_Name)\n",
        "data.Car_Name=data_Name"
      ],
      "execution_count": 0,
      "outputs": []
    },
    {
      "cell_type": "code",
      "metadata": {
        "id": "uIdT8OE40nbH",
        "colab_type": "code",
        "colab": {
          "base_uri": "https://localhost:8080/",
          "height": 187
        },
        "outputId": "3da51755-5ef5-4ca0-8a3b-3270ebb33264"
      },
      "source": [
        "data.dtypes"
      ],
      "execution_count": 19,
      "outputs": [
        {
          "output_type": "execute_result",
          "data": {
            "text/plain": [
              "Car_Name           int64\n",
              "Year               int64\n",
              "Selling_Price    float64\n",
              "Present_Price    float64\n",
              "Kms_Driven         int64\n",
              "Fuel_Type          int64\n",
              "Seller_Type        int64\n",
              "Transmission       int64\n",
              "Owner              int64\n",
              "dtype: object"
            ]
          },
          "metadata": {
            "tags": []
          },
          "execution_count": 19
        }
      ]
    },
    {
      "cell_type": "code",
      "metadata": {
        "id": "bZW-N2Av0o5E",
        "colab_type": "code",
        "colab": {
          "base_uri": "https://localhost:8080/",
          "height": 224
        },
        "outputId": "1b915e65-616b-4db4-bef4-669853ed8413"
      },
      "source": [
        "data.head()"
      ],
      "execution_count": 20,
      "outputs": [
        {
          "output_type": "execute_result",
          "data": {
            "text/html": [
              "<div>\n",
              "<style scoped>\n",
              "    .dataframe tbody tr th:only-of-type {\n",
              "        vertical-align: middle;\n",
              "    }\n",
              "\n",
              "    .dataframe tbody tr th {\n",
              "        vertical-align: top;\n",
              "    }\n",
              "\n",
              "    .dataframe thead th {\n",
              "        text-align: right;\n",
              "    }\n",
              "</style>\n",
              "<table border=\"1\" class=\"dataframe\">\n",
              "  <thead>\n",
              "    <tr style=\"text-align: right;\">\n",
              "      <th></th>\n",
              "      <th>Car_Name</th>\n",
              "      <th>Year</th>\n",
              "      <th>Selling_Price</th>\n",
              "      <th>Present_Price</th>\n",
              "      <th>Kms_Driven</th>\n",
              "      <th>Fuel_Type</th>\n",
              "      <th>Seller_Type</th>\n",
              "      <th>Transmission</th>\n",
              "      <th>Owner</th>\n",
              "    </tr>\n",
              "  </thead>\n",
              "  <tbody>\n",
              "    <tr>\n",
              "      <th>0</th>\n",
              "      <td>90</td>\n",
              "      <td>2014</td>\n",
              "      <td>3.35</td>\n",
              "      <td>5.59</td>\n",
              "      <td>27000</td>\n",
              "      <td>2</td>\n",
              "      <td>0</td>\n",
              "      <td>1</td>\n",
              "      <td>0</td>\n",
              "    </tr>\n",
              "    <tr>\n",
              "      <th>1</th>\n",
              "      <td>93</td>\n",
              "      <td>2013</td>\n",
              "      <td>4.75</td>\n",
              "      <td>9.54</td>\n",
              "      <td>43000</td>\n",
              "      <td>1</td>\n",
              "      <td>0</td>\n",
              "      <td>1</td>\n",
              "      <td>0</td>\n",
              "    </tr>\n",
              "    <tr>\n",
              "      <th>2</th>\n",
              "      <td>68</td>\n",
              "      <td>2017</td>\n",
              "      <td>7.25</td>\n",
              "      <td>9.85</td>\n",
              "      <td>6900</td>\n",
              "      <td>2</td>\n",
              "      <td>0</td>\n",
              "      <td>1</td>\n",
              "      <td>0</td>\n",
              "    </tr>\n",
              "    <tr>\n",
              "      <th>3</th>\n",
              "      <td>96</td>\n",
              "      <td>2011</td>\n",
              "      <td>2.85</td>\n",
              "      <td>4.15</td>\n",
              "      <td>5200</td>\n",
              "      <td>2</td>\n",
              "      <td>0</td>\n",
              "      <td>1</td>\n",
              "      <td>0</td>\n",
              "    </tr>\n",
              "    <tr>\n",
              "      <th>4</th>\n",
              "      <td>92</td>\n",
              "      <td>2014</td>\n",
              "      <td>4.60</td>\n",
              "      <td>6.87</td>\n",
              "      <td>42450</td>\n",
              "      <td>1</td>\n",
              "      <td>0</td>\n",
              "      <td>1</td>\n",
              "      <td>0</td>\n",
              "    </tr>\n",
              "  </tbody>\n",
              "</table>\n",
              "</div>"
            ],
            "text/plain": [
              "   Car_Name  Year  Selling_Price  ...  Seller_Type  Transmission  Owner\n",
              "0        90  2014           3.35  ...            0             1      0\n",
              "1        93  2013           4.75  ...            0             1      0\n",
              "2        68  2017           7.25  ...            0             1      0\n",
              "3        96  2011           2.85  ...            0             1      0\n",
              "4        92  2014           4.60  ...            0             1      0\n",
              "\n",
              "[5 rows x 9 columns]"
            ]
          },
          "metadata": {
            "tags": []
          },
          "execution_count": 20
        }
      ]
    },
    {
      "cell_type": "markdown",
      "metadata": {
        "id": "Qq2wLbTCSUcu",
        "colab_type": "text"
      },
      "source": [
        "##Разделение выборки на обучающую и тестовую"
      ]
    },
    {
      "cell_type": "code",
      "metadata": {
        "id": "W4EGEEIWthno",
        "colab_type": "code",
        "colab": {}
      },
      "source": [
        "X_train, X_test, y_train, y_test = train_test_split(\n",
        "    data[['Car_Name','Year','Present_Price','Kms_Driven','Fuel_Type','Seller_Type','Transmission','Owner']], data['Seller_Type'], test_size=0.3, random_state=1)"
      ],
      "execution_count": 0,
      "outputs": []
    },
    {
      "cell_type": "code",
      "metadata": {
        "id": "NafeRKKluEow",
        "colab_type": "code",
        "colab": {
          "base_uri": "https://localhost:8080/",
          "height": 34
        },
        "outputId": "83c1d9c2-4955-480c-cbc3-279c536cb6e3"
      },
      "source": [
        "X_train.shape, y_train.shape"
      ],
      "execution_count": 22,
      "outputs": [
        {
          "output_type": "execute_result",
          "data": {
            "text/plain": [
              "((210, 8), (210,))"
            ]
          },
          "metadata": {
            "tags": []
          },
          "execution_count": 22
        }
      ]
    },
    {
      "cell_type": "code",
      "metadata": {
        "id": "1OsLH3u3uKIm",
        "colab_type": "code",
        "colab": {
          "base_uri": "https://localhost:8080/",
          "height": 34
        },
        "outputId": "16d3cc12-8a2e-4dc5-880c-bfb7be20896c"
      },
      "source": [
        "X_test.shape, y_test.shape"
      ],
      "execution_count": 23,
      "outputs": [
        {
          "output_type": "execute_result",
          "data": {
            "text/plain": [
              "((91, 8), (91,))"
            ]
          },
          "metadata": {
            "tags": []
          },
          "execution_count": 23
        }
      ]
    },
    {
      "cell_type": "code",
      "metadata": {
        "id": "ADFGn44JuOeE",
        "colab_type": "code",
        "colab": {
          "base_uri": "https://localhost:8080/",
          "height": 317
        },
        "outputId": "b8759d91-b353-49ad-d8e8-11552c407c84"
      },
      "source": [
        "data.describe()"
      ],
      "execution_count": 24,
      "outputs": [
        {
          "output_type": "execute_result",
          "data": {
            "text/html": [
              "<div>\n",
              "<style scoped>\n",
              "    .dataframe tbody tr th:only-of-type {\n",
              "        vertical-align: middle;\n",
              "    }\n",
              "\n",
              "    .dataframe tbody tr th {\n",
              "        vertical-align: top;\n",
              "    }\n",
              "\n",
              "    .dataframe thead th {\n",
              "        text-align: right;\n",
              "    }\n",
              "</style>\n",
              "<table border=\"1\" class=\"dataframe\">\n",
              "  <thead>\n",
              "    <tr style=\"text-align: right;\">\n",
              "      <th></th>\n",
              "      <th>Car_Name</th>\n",
              "      <th>Year</th>\n",
              "      <th>Selling_Price</th>\n",
              "      <th>Present_Price</th>\n",
              "      <th>Kms_Driven</th>\n",
              "      <th>Fuel_Type</th>\n",
              "      <th>Seller_Type</th>\n",
              "      <th>Transmission</th>\n",
              "      <th>Owner</th>\n",
              "    </tr>\n",
              "  </thead>\n",
              "  <tbody>\n",
              "    <tr>\n",
              "      <th>count</th>\n",
              "      <td>301.000000</td>\n",
              "      <td>301.000000</td>\n",
              "      <td>301.000000</td>\n",
              "      <td>301.000000</td>\n",
              "      <td>301.000000</td>\n",
              "      <td>301.000000</td>\n",
              "      <td>301.000000</td>\n",
              "      <td>301.000000</td>\n",
              "      <td>301.000000</td>\n",
              "    </tr>\n",
              "    <tr>\n",
              "      <th>mean</th>\n",
              "      <td>62.571429</td>\n",
              "      <td>2013.627907</td>\n",
              "      <td>4.661296</td>\n",
              "      <td>7.628472</td>\n",
              "      <td>36947.205980</td>\n",
              "      <td>1.787375</td>\n",
              "      <td>0.352159</td>\n",
              "      <td>0.867110</td>\n",
              "      <td>0.043189</td>\n",
              "    </tr>\n",
              "    <tr>\n",
              "      <th>std</th>\n",
              "      <td>25.573535</td>\n",
              "      <td>2.891554</td>\n",
              "      <td>5.082812</td>\n",
              "      <td>8.644115</td>\n",
              "      <td>38886.883882</td>\n",
              "      <td>0.425801</td>\n",
              "      <td>0.478439</td>\n",
              "      <td>0.340021</td>\n",
              "      <td>0.247915</td>\n",
              "    </tr>\n",
              "    <tr>\n",
              "      <th>min</th>\n",
              "      <td>0.000000</td>\n",
              "      <td>2003.000000</td>\n",
              "      <td>0.100000</td>\n",
              "      <td>0.320000</td>\n",
              "      <td>500.000000</td>\n",
              "      <td>0.000000</td>\n",
              "      <td>0.000000</td>\n",
              "      <td>0.000000</td>\n",
              "      <td>0.000000</td>\n",
              "    </tr>\n",
              "    <tr>\n",
              "      <th>25%</th>\n",
              "      <td>47.000000</td>\n",
              "      <td>2012.000000</td>\n",
              "      <td>0.900000</td>\n",
              "      <td>1.200000</td>\n",
              "      <td>15000.000000</td>\n",
              "      <td>2.000000</td>\n",
              "      <td>0.000000</td>\n",
              "      <td>1.000000</td>\n",
              "      <td>0.000000</td>\n",
              "    </tr>\n",
              "    <tr>\n",
              "      <th>50%</th>\n",
              "      <td>69.000000</td>\n",
              "      <td>2014.000000</td>\n",
              "      <td>3.600000</td>\n",
              "      <td>6.400000</td>\n",
              "      <td>32000.000000</td>\n",
              "      <td>2.000000</td>\n",
              "      <td>0.000000</td>\n",
              "      <td>1.000000</td>\n",
              "      <td>0.000000</td>\n",
              "    </tr>\n",
              "    <tr>\n",
              "      <th>75%</th>\n",
              "      <td>82.000000</td>\n",
              "      <td>2016.000000</td>\n",
              "      <td>6.000000</td>\n",
              "      <td>9.900000</td>\n",
              "      <td>48767.000000</td>\n",
              "      <td>2.000000</td>\n",
              "      <td>1.000000</td>\n",
              "      <td>1.000000</td>\n",
              "      <td>0.000000</td>\n",
              "    </tr>\n",
              "    <tr>\n",
              "      <th>max</th>\n",
              "      <td>97.000000</td>\n",
              "      <td>2018.000000</td>\n",
              "      <td>35.000000</td>\n",
              "      <td>92.600000</td>\n",
              "      <td>500000.000000</td>\n",
              "      <td>2.000000</td>\n",
              "      <td>1.000000</td>\n",
              "      <td>1.000000</td>\n",
              "      <td>3.000000</td>\n",
              "    </tr>\n",
              "  </tbody>\n",
              "</table>\n",
              "</div>"
            ],
            "text/plain": [
              "         Car_Name         Year  ...  Transmission       Owner\n",
              "count  301.000000   301.000000  ...    301.000000  301.000000\n",
              "mean    62.571429  2013.627907  ...      0.867110    0.043189\n",
              "std     25.573535     2.891554  ...      0.340021    0.247915\n",
              "min      0.000000  2003.000000  ...      0.000000    0.000000\n",
              "25%     47.000000  2012.000000  ...      1.000000    0.000000\n",
              "50%     69.000000  2014.000000  ...      1.000000    0.000000\n",
              "75%     82.000000  2016.000000  ...      1.000000    0.000000\n",
              "max     97.000000  2018.000000  ...      1.000000    3.000000\n",
              "\n",
              "[8 rows x 9 columns]"
            ]
          },
          "metadata": {
            "tags": []
          },
          "execution_count": 24
        }
      ]
    },
    {
      "cell_type": "markdown",
      "metadata": {
        "id": "snMFumxISo1r",
        "colab_type": "text"
      },
      "source": [
        "#Построим базовые модели на основе метода ближайших соседей"
      ]
    },
    {
      "cell_type": "markdown",
      "metadata": {
        "id": "kp3IefItS1Uu",
        "colab_type": "text"
      },
      "source": [
        "Мы выберем два значения для числа соседей и посмотрим их производительность, используя некоторые метрики."
      ]
    },
    {
      "cell_type": "code",
      "metadata": {
        "id": "Tq5YwMYM4Zf0",
        "colab_type": "code",
        "colab": {
          "base_uri": "https://localhost:8080/",
          "height": 136
        },
        "outputId": "f0ef7c79-593b-4bfa-83a9-80489d1c8b78"
      },
      "source": [
        "reg1_1 = KNeighborsRegressor(n_neighbors=2)\n",
        "reg1_1.fit(X_train, y_train)\n",
        "target2_1 = reg1_1.predict(X_test)\n",
        "len(target2_1), target2_1"
      ],
      "execution_count": 25,
      "outputs": [
        {
          "output_type": "execute_result",
          "data": {
            "text/plain": [
              "(91, array([0. , 0. , 0.5, 0. , 0.5, 0. , 0.5, 0. , 0. , 0.5, 0.5, 0. , 1. ,\n",
              "        0. , 0. , 1. , 0. , 0. , 0. , 0. , 0.5, 0. , 0. , 0.5, 0.5, 0. ,\n",
              "        0. , 0.5, 0.5, 0. , 0. , 0.5, 0. , 0. , 0. , 0. , 0.5, 0.5, 1. ,\n",
              "        0.5, 0. , 0. , 1. , 0.5, 0. , 0.5, 0. , 0. , 0.5, 0. , 0. , 0.5,\n",
              "        1. , 0.5, 1. , 0. , 0. , 0.5, 0. , 0. , 0. , 0.5, 0.5, 0. , 0.5,\n",
              "        1. , 0. , 1. , 0. , 0.5, 0. , 0. , 0. , 1. , 0.5, 0.5, 0.5, 0.5,\n",
              "        0.5, 0.5, 0.5, 0.5, 0. , 0.5, 1. , 0. , 0.5, 1. , 0.5, 0.5, 1. ]))"
            ]
          },
          "metadata": {
            "tags": []
          },
          "execution_count": 25
        }
      ]
    },
    {
      "cell_type": "code",
      "metadata": {
        "id": "gKIRC3mW4szu",
        "colab_type": "code",
        "colab": {
          "base_uri": "https://localhost:8080/",
          "height": 136
        },
        "outputId": "0f3ba497-6534-4097-c202-a9eeba319adc"
      },
      "source": [
        "# 10 ближайших соседей\n",
        "reg1_2 = KNeighborsRegressor(n_neighbors=10)\n",
        "reg1_2.fit(X_train, y_train)\n",
        "target2_2 = reg1_2.predict(X_test)\n",
        "len(target2_2), target2_2"
      ],
      "execution_count": 26,
      "outputs": [
        {
          "output_type": "execute_result",
          "data": {
            "text/plain": [
              "(91, array([0.4, 0.3, 0.6, 0.5, 0.5, 0.5, 0.5, 0.1, 0.4, 0.4, 0.4, 0.1, 0.6,\n",
              "        0.2, 0.2, 0.6, 0.2, 0.2, 0.2, 0.2, 0.2, 0.2, 0.1, 0.5, 0.4, 0.3,\n",
              "        0.2, 0.6, 0.2, 0.3, 0.3, 0.2, 0.3, 0. , 0.1, 0.1, 0.3, 0.7, 0.4,\n",
              "        0.3, 0.2, 0.3, 0.6, 0.1, 0.1, 0.2, 0.2, 0.2, 0.1, 0.3, 0.3, 0.5,\n",
              "        0.4, 0.2, 0.5, 0.1, 0.1, 0.4, 0.2, 0.4, 0.3, 0.7, 0.4, 0.1, 0.5,\n",
              "        0.5, 0.1, 0.5, 0.1, 0.3, 0.4, 0.1, 0.1, 0.5, 0.6, 0.2, 0.5, 0.5,\n",
              "        0.8, 0.4, 0.5, 0.6, 0.2, 0.6, 0.5, 0.2, 0.5, 0.5, 0.6, 0.5, 0.5]))"
            ]
          },
          "metadata": {
            "tags": []
          },
          "execution_count": 26
        }
      ]
    },
    {
      "cell_type": "markdown",
      "metadata": {
        "id": "B6LNTf5qTCB1",
        "colab_type": "text"
      },
      "source": [
        "#Метрики качества классификации"
      ]
    },
    {
      "cell_type": "markdown",
      "metadata": {
        "id": "rC4g56JZS2z7",
        "colab_type": "text"
      },
      "source": [
        "##Mean Absolute Error"
      ]
    },
    {
      "cell_type": "code",
      "metadata": {
        "id": "GtM6asLq43PT",
        "colab_type": "code",
        "colab": {
          "base_uri": "https://localhost:8080/",
          "height": 34
        },
        "outputId": "8807e52d-af5a-416d-a39a-d7fe224e2367"
      },
      "source": [
        "mean_absolute_error(y_test, target2_1)"
      ],
      "execution_count": 27,
      "outputs": [
        {
          "output_type": "execute_result",
          "data": {
            "text/plain": [
              "0.2967032967032967"
            ]
          },
          "metadata": {
            "tags": []
          },
          "execution_count": 27
        }
      ]
    },
    {
      "cell_type": "code",
      "metadata": {
        "id": "5QitDVG95B5C",
        "colab_type": "code",
        "colab": {
          "base_uri": "https://localhost:8080/",
          "height": 34
        },
        "outputId": "48628653-a5e6-40f5-bdf1-74575148706f"
      },
      "source": [
        "mean_absolute_error(y_test, target2_2)"
      ],
      "execution_count": 28,
      "outputs": [
        {
          "output_type": "execute_result",
          "data": {
            "text/plain": [
              "0.38241758241758245"
            ]
          },
          "metadata": {
            "tags": []
          },
          "execution_count": 28
        }
      ]
    },
    {
      "cell_type": "markdown",
      "metadata": {
        "id": "fMHLAO7HS6Uz",
        "colab_type": "text"
      },
      "source": [
        "##Mean Square Error"
      ]
    },
    {
      "cell_type": "code",
      "metadata": {
        "id": "vk5vT03X5FO9",
        "colab_type": "code",
        "colab": {
          "base_uri": "https://localhost:8080/",
          "height": 34
        },
        "outputId": "467a5063-cb87-4d35-e41d-2d34ed6aa639"
      },
      "source": [
        "mean_squared_error(y_test, target2_1)"
      ],
      "execution_count": 29,
      "outputs": [
        {
          "output_type": "execute_result",
          "data": {
            "text/plain": [
              "0.1978021978021978"
            ]
          },
          "metadata": {
            "tags": []
          },
          "execution_count": 29
        }
      ]
    },
    {
      "cell_type": "code",
      "metadata": {
        "id": "SMWreOVu5JlE",
        "colab_type": "code",
        "colab": {
          "base_uri": "https://localhost:8080/",
          "height": 34
        },
        "outputId": "32a4b861-4308-40e9-a9ce-f0aca2402522"
      },
      "source": [
        "mean_squared_error(y_test, target2_2)"
      ],
      "execution_count": 30,
      "outputs": [
        {
          "output_type": "execute_result",
          "data": {
            "text/plain": [
              "0.19076923076923077"
            ]
          },
          "metadata": {
            "tags": []
          },
          "execution_count": 30
        }
      ]
    },
    {
      "cell_type": "markdown",
      "metadata": {
        "id": "9qa-XEK6TGsK",
        "colab_type": "text"
      },
      "source": [
        "##Median Absolute Error"
      ]
    },
    {
      "cell_type": "code",
      "metadata": {
        "id": "iYItPcdl5LQS",
        "colab_type": "code",
        "colab": {
          "base_uri": "https://localhost:8080/",
          "height": 34
        },
        "outputId": "72bd7fa7-325c-4688-f3ff-f5a46336372b"
      },
      "source": [
        "median_absolute_error(y_test, target2_1)"
      ],
      "execution_count": 31,
      "outputs": [
        {
          "output_type": "execute_result",
          "data": {
            "text/plain": [
              "0.0"
            ]
          },
          "metadata": {
            "tags": []
          },
          "execution_count": 31
        }
      ]
    },
    {
      "cell_type": "code",
      "metadata": {
        "id": "J1QvpaSF5PLZ",
        "colab_type": "code",
        "colab": {
          "base_uri": "https://localhost:8080/",
          "height": 34
        },
        "outputId": "91bc83c2-5fe4-4042-957a-8c61af7938d5"
      },
      "source": [
        "median_absolute_error(y_test, target2_2)"
      ],
      "execution_count": 32,
      "outputs": [
        {
          "output_type": "execute_result",
          "data": {
            "text/plain": [
              "0.4"
            ]
          },
          "metadata": {
            "tags": []
          },
          "execution_count": 32
        }
      ]
    },
    {
      "cell_type": "markdown",
      "metadata": {
        "id": "NrPOEWYYTJc-",
        "colab_type": "text"
      },
      "source": [
        "##R2 Score"
      ]
    },
    {
      "cell_type": "code",
      "metadata": {
        "id": "Ac3FH3IZ5ROa",
        "colab_type": "code",
        "colab": {
          "base_uri": "https://localhost:8080/",
          "height": 34
        },
        "outputId": "52e40bc9-5648-462a-a651-4e65d8f278eb"
      },
      "source": [
        "r2_score(y_test, target2_1)"
      ],
      "execution_count": 33,
      "outputs": [
        {
          "output_type": "execute_result",
          "data": {
            "text/plain": [
              "0.15479876160990724"
            ]
          },
          "metadata": {
            "tags": []
          },
          "execution_count": 33
        }
      ]
    },
    {
      "cell_type": "code",
      "metadata": {
        "id": "YXLU4c4i5VNl",
        "colab_type": "code",
        "colab": {
          "base_uri": "https://localhost:8080/",
          "height": 34
        },
        "outputId": "61fe974f-8dcd-4c8a-9595-45a4d406909e"
      },
      "source": [
        "r2_score(y_test, target2_2)"
      ],
      "execution_count": 34,
      "outputs": [
        {
          "output_type": "execute_result",
          "data": {
            "text/plain": [
              "0.1848503611971105"
            ]
          },
          "metadata": {
            "tags": []
          },
          "execution_count": 34
        }
      ]
    },
    {
      "cell_type": "markdown",
      "metadata": {
        "id": "ht4BpkoYTNDx",
        "colab_type": "text"
      },
      "source": [
        "#Стратегии кросс-валидации"
      ]
    },
    {
      "cell_type": "code",
      "metadata": {
        "id": "tOOmbci_5Xss",
        "colab_type": "code",
        "colab": {}
      },
      "source": [
        "scoring = {'NMSE': 'neg_mean_squared_error', \n",
        "           'NMAE': 'neg_mean_absolute_error',\n",
        "           'NMedAR': 'neg_median_absolute_error',\n",
        "           'r2': 'r2'}"
      ],
      "execution_count": 0,
      "outputs": []
    },
    {
      "cell_type": "markdown",
      "metadata": {
        "id": "VaA9x-eoTTMk",
        "colab_type": "text"
      },
      "source": [
        "## 1) K-fold"
      ]
    },
    {
      "cell_type": "code",
      "metadata": {
        "id": "WEGtZdIq-MG1",
        "colab_type": "code",
        "colab": {
          "base_uri": "https://localhost:8080/",
          "height": 187
        },
        "outputId": "8ab6d770-5969-4dca-d5b2-14d5dbdca2d5"
      },
      "source": [
        "kf = KFold(n_splits=5)\n",
        "scores = cross_validate(KNeighborsRegressor(n_neighbors=2),\n",
        "                        data[['Car_Name','Year','Present_Price','Kms_Driven',\n",
        "                              'Fuel_Type','Seller_Type','Transmission','Owner']]\n",
        "                        , data['Seller_Type'], scoring=scoring, \n",
        "                        cv=kf, return_train_score=True)\n",
        "scores"
      ],
      "execution_count": 59,
      "outputs": [
        {
          "output_type": "execute_result",
          "data": {
            "text/plain": [
              "{'fit_time': array([0.00299525, 0.00273657, 0.00267625, 0.00188065, 0.00184083]),\n",
              " 'score_time': array([0.00376844, 0.0022037 , 0.0020256 , 0.0019753 , 0.00198936]),\n",
              " 'test_NMAE': array([-0.32786885, -0.26666667, -0.63333333, -0.36666667, -0.4       ]),\n",
              " 'test_NMSE': array([-0.22131148, -0.16666667, -0.5       , -0.28333333, -0.34166667]),\n",
              " 'test_NMedAR': array([-0.5, -0. , -0.5, -0.5, -0.5]),\n",
              " 'test_r2': array([-2.61184211,  0.28229665,  0.        , -0.275     ,  0.        ]),\n",
              " 'train_NMAE': array([-0.14166667, -0.14937759, -0.11410788, -0.13485477, -0.12863071]),\n",
              " 'train_NMSE': array([-0.07083333, -0.0746888 , -0.05705394, -0.06742739, -0.06431535]),\n",
              " 'train_NMedAR': array([-0., -0., -0., -0., -0.]),\n",
              " 'train_r2': array([0.71014493, 0.6710646 , 0.63057414, 0.7062078 , 0.73895877])}"
            ]
          },
          "metadata": {
            "tags": []
          },
          "execution_count": 59
        }
      ]
    },
    {
      "cell_type": "markdown",
      "metadata": {
        "id": "Flkt1cRjTcD3",
        "colab_type": "text"
      },
      "source": [
        "## 2) Repeated K-Fold"
      ]
    },
    {
      "cell_type": "code",
      "metadata": {
        "id": "FQzMHkzw_YX9",
        "colab_type": "code",
        "colab": {
          "base_uri": "https://localhost:8080/",
          "height": 238
        },
        "outputId": "b935e694-609e-499d-88f5-0ca294de8a35"
      },
      "source": [
        "kf = RepeatedKFold(n_splits=5, n_repeats=2)\n",
        "scores = cross_validate(KNeighborsRegressor(n_neighbors=2),\n",
        "                        data[['Car_Name','Year','Present_Price','Kms_Driven',\n",
        "                              'Fuel_Type','Seller_Type','Transmission','Owner']]\n",
        "                        , data['Seller_Type'], scoring=scoring,\n",
        "                        cv=kf, return_train_score=False)\n",
        "scores, np.mean(scores['test_NMAE'])"
      ],
      "execution_count": 61,
      "outputs": [
        {
          "output_type": "execute_result",
          "data": {
            "text/plain": [
              "({'fit_time': array([0.00447702, 0.00267315, 0.00206423, 0.00201416, 0.00202298,\n",
              "         0.00204992, 0.00208592, 0.00204706, 0.00212574, 0.00203228]),\n",
              "  'score_time': array([0.00317717, 0.00344634, 0.0024271 , 0.00237226, 0.00225186,\n",
              "         0.00220561, 0.00222707, 0.00226998, 0.0022068 , 0.00227284]),\n",
              "  'test_NMAE': array([-0.22131148, -0.29166667, -0.425     , -0.31666667, -0.31666667,\n",
              "         -0.32786885, -0.31666667, -0.275     , -0.30833333, -0.29166667]),\n",
              "  'test_NMSE': array([-0.15163934, -0.20416667, -0.32083333, -0.23333333, -0.26666667,\n",
              "         -0.26229508, -0.23333333, -0.1875    , -0.2125    , -0.17916667]),\n",
              "  'test_NMedAR': array([-0.  , -0.  , -0.5 , -0.  , -0.  , -0.  , -0.  , -0.  , -0.25,\n",
              "         -0.5 ]),\n",
              "  'test_r2': array([ 0.2929198 ,  0.08125   , -0.41025641,  0.05723906, -0.23234917,\n",
              "         -0.07252747, -0.05      ,  0.22857143,  0.01797176,  0.08380682])},\n",
              " -0.30908469945355194)"
            ]
          },
          "metadata": {
            "tags": []
          },
          "execution_count": 61
        }
      ]
    },
    {
      "cell_type": "markdown",
      "metadata": {
        "id": "JmFYjLqZTgXR",
        "colab_type": "text"
      },
      "source": [
        "## 3) ShuffleSplit"
      ]
    },
    {
      "cell_type": "code",
      "metadata": {
        "id": "83zuhJ2RAMWe",
        "colab_type": "code",
        "colab": {
          "base_uri": "https://localhost:8080/",
          "height": 119
        },
        "outputId": "e62c0e2c-a87a-4180-c65b-f124b1e0d8dc"
      },
      "source": [
        "kf = ShuffleSplit(n_splits=5, test_size=0.25)\n",
        "scores = cross_validate(KNeighborsRegressor(n_neighbors=2),\n",
        "                        data[['Car_Name','Year','Present_Price','Kms_Driven',\n",
        "                              'Fuel_Type','Seller_Type','Transmission','Owner']]\n",
        "                        , data['Seller_Type'], scoring=scoring,\n",
        "                        cv=kf, return_train_score=False)\n",
        "scores"
      ],
      "execution_count": 62,
      "outputs": [
        {
          "output_type": "execute_result",
          "data": {
            "text/plain": [
              "{'fit_time': array([0.00326657, 0.00246572, 0.00267696, 0.00183225, 0.00178576]),\n",
              " 'score_time': array([0.00692558, 0.00252438, 0.00231409, 0.00207949, 0.00201607]),\n",
              " 'test_NMAE': array([-0.29605263, -0.31578947, -0.33552632, -0.33552632, -0.33552632]),\n",
              " 'test_NMSE': array([-0.21381579, -0.21052632, -0.25986842, -0.27960526, -0.25328947]),\n",
              " 'test_NMedAR': array([-0.  , -0.5 , -0.  , -0.  , -0.25]),\n",
              " 'test_r2': array([ 0.10507246,  0.00246103, -0.06605114, -0.54693487, -0.14745098])}"
            ]
          },
          "metadata": {
            "tags": []
          },
          "execution_count": 62
        }
      ]
    },
    {
      "cell_type": "markdown",
      "metadata": {
        "id": "nVbKtVbGTmX-",
        "colab_type": "text"
      },
      "source": [
        "#Оптимизация гиперпараметров"
      ]
    },
    {
      "cell_type": "markdown",
      "metadata": {
        "id": "0fQB1ETvTqPb",
        "colab_type": "text"
      },
      "source": [
        "##Grid Search"
      ]
    },
    {
      "cell_type": "code",
      "metadata": {
        "id": "9xPCqOpt5-Xi",
        "colab_type": "code",
        "colab": {
          "base_uri": "https://localhost:8080/",
          "height": 68
        },
        "outputId": "bd525a36-99f0-4754-a5cc-3bb503578bb1"
      },
      "source": [
        "n_range = np.array(range(1,150,4))\n",
        "tuned_parameters = [{'n_neighbors': n_range}]\n",
        "tuned_parameters"
      ],
      "execution_count": 39,
      "outputs": [
        {
          "output_type": "execute_result",
          "data": {
            "text/plain": [
              "[{'n_neighbors': array([  1,   5,   9,  13,  17,  21,  25,  29,  33,  37,  41,  45,  49,\n",
              "          53,  57,  61,  65,  69,  73,  77,  81,  85,  89,  93,  97, 101,\n",
              "         105, 109, 113, 117, 121, 125, 129, 133, 137, 141, 145, 149])}]"
            ]
          },
          "metadata": {
            "tags": []
          },
          "execution_count": 39
        }
      ]
    },
    {
      "cell_type": "code",
      "metadata": {
        "id": "mvD7Ync86taW",
        "colab_type": "code",
        "colab": {
          "base_uri": "https://localhost:8080/",
          "height": 241
        },
        "outputId": "38bbd50f-eb33-4f81-8d5e-5038a13dc0dc"
      },
      "source": [
        "regr_gs = GridSearchCV(KNeighborsRegressor(), tuned_parameters, cv=5, scoring='neg_mean_squared_error')\n",
        "regr_gs.fit(X_train, y_train)"
      ],
      "execution_count": 40,
      "outputs": [
        {
          "output_type": "execute_result",
          "data": {
            "text/plain": [
              "GridSearchCV(cv=5, error_score=nan,\n",
              "             estimator=KNeighborsRegressor(algorithm='auto', leaf_size=30,\n",
              "                                           metric='minkowski',\n",
              "                                           metric_params=None, n_jobs=None,\n",
              "                                           n_neighbors=5, p=2,\n",
              "                                           weights='uniform'),\n",
              "             iid='deprecated', n_jobs=None,\n",
              "             param_grid=[{'n_neighbors': array([  1,   5,   9,  13,  17,  21,  25,  29,  33,  37,  41,  45,  49,\n",
              "        53,  57,  61,  65,  69,  73,  77,  81,  85,  89,  93,  97, 101,\n",
              "       105, 109, 113, 117, 121, 125, 129, 133, 137, 141, 145, 149])}],\n",
              "             pre_dispatch='2*n_jobs', refit=True, return_train_score=False,\n",
              "             scoring='neg_mean_squared_error', verbose=0)"
            ]
          },
          "metadata": {
            "tags": []
          },
          "execution_count": 40
        }
      ]
    },
    {
      "cell_type": "code",
      "metadata": {
        "id": "17t5nZmL6yzT",
        "colab_type": "code",
        "colab": {
          "base_uri": "https://localhost:8080/",
          "height": 68
        },
        "outputId": "a2400399-7ef2-4611-ab82-ef6f99c99fc4"
      },
      "source": [
        "regr_gs.best_estimator_"
      ],
      "execution_count": 41,
      "outputs": [
        {
          "output_type": "execute_result",
          "data": {
            "text/plain": [
              "KNeighborsRegressor(algorithm='auto', leaf_size=30, metric='minkowski',\n",
              "                    metric_params=None, n_jobs=None, n_neighbors=41, p=2,\n",
              "                    weights='uniform')"
            ]
          },
          "metadata": {
            "tags": []
          },
          "execution_count": 41
        }
      ]
    },
    {
      "cell_type": "code",
      "metadata": {
        "id": "Ojfy9L1k66xK",
        "colab_type": "code",
        "colab": {
          "base_uri": "https://localhost:8080/",
          "height": 34
        },
        "outputId": "97302ba5-2625-4aeb-8672-af8b243810ac"
      },
      "source": [
        "regr_gs.best_params_"
      ],
      "execution_count": 43,
      "outputs": [
        {
          "output_type": "execute_result",
          "data": {
            "text/plain": [
              "{'n_neighbors': 41}"
            ]
          },
          "metadata": {
            "tags": []
          },
          "execution_count": 43
        }
      ]
    },
    {
      "cell_type": "code",
      "metadata": {
        "id": "9GdV6dCM69i4",
        "colab_type": "code",
        "colab": {
          "base_uri": "https://localhost:8080/",
          "height": 285
        },
        "outputId": "01a73a89-adef-426d-e5e0-c239fef511e8"
      },
      "source": [
        "plt.plot(n_range, regr_gs.cv_results_['mean_test_score'])"
      ],
      "execution_count": 44,
      "outputs": [
        {
          "output_type": "execute_result",
          "data": {
            "text/plain": [
              "[<matplotlib.lines.Line2D at 0x7fd753af7ba8>]"
            ]
          },
          "metadata": {
            "tags": []
          },
          "execution_count": 44
        },
        {
          "output_type": "display_data",
          "data": {
            "image/png": "[encoded data removed]",
            "text/plain": [
              "<Figure size 432x288 with 1 Axes>"
            ]
          },
          "metadata": {
            "tags": [],
            "needs_background": "light"
          }
        }
      ]
    },
    {
      "cell_type": "markdown",
      "metadata": {
        "id": "ZJIKGMmiT11q",
        "colab_type": "text"
      },
      "source": [
        "#Обучение модели ближайших соседей для оптимального значения"
      ]
    },
    {
      "cell_type": "code",
      "metadata": {
        "id": "df9XxM-P7Ish",
        "colab_type": "code",
        "colab": {
          "base_uri": "https://localhost:8080/",
          "height": 85
        },
        "outputId": "135975c1-5b10-4bfd-f47f-5c489f3a257d"
      },
      "source": [
        "regr_gs.best_estimator_.fit(X_train, y_train)\n",
        "Y_pred = regr_gs.best_estimator_.predict(X_test)\n",
        "    \n",
        "mae = mean_absolute_error(y_test, Y_pred)\n",
        "mse = mean_squared_error(y_test, Y_pred)\n",
        "r2 = r2_score(y_test, Y_pred)\n",
        "\n",
        "print(regr_models_grid)\n",
        "print('MAE={}, MSE={}, R2={}'.format(\n",
        "    round(mae, 3), round(mse, 3), round(r2, 3)))"
      ],
      "execution_count": 53,
      "outputs": [
        {
          "output_type": "stream",
          "text": [
            "{'KNN_41': KNeighborsRegressor(algorithm='auto', leaf_size=30, metric='minkowski',\n",
            "                    metric_params=None, n_jobs=None, n_neighbors=41, p=2,\n",
            "                    weights='uniform')}\n",
            "MAE=0.388, MSE=0.191, R2=0.183\n"
          ],
          "name": "stdout"
        }
      ]
    },
    {
      "cell_type": "markdown",
      "metadata": {
        "id": "bsIYsMfuUoMz",
        "colab_type": "text"
      },
      "source": [
        "#Построение кривых обучения и валидации\n",
        "##Построение кривых обучения - learning_curve"
      ]
    },
    {
      "cell_type": "code",
      "metadata": {
        "id": "Wjyreo3I75Gq",
        "colab_type": "code",
        "colab": {}
      },
      "source": [
        "def plot_learning_curve(estimator, title, X, y, ylim=None, cv=None,\n",
        "                        n_jobs=None, train_sizes=np.linspace(.1, 1.0, 5)):\n",
        "    plt.figure()\n",
        "    plt.title(title)\n",
        "    if ylim is not None:\n",
        "        plt.ylim(*ylim)\n",
        "    plt.xlabel(\"Training examples\")\n",
        "    plt.ylabel(\"neg_mean_squared_error\")\n",
        "    train_sizes, train_scores, test_scores = learning_curve(\n",
        "        estimator, X, y, cv=cv, n_jobs=n_jobs, train_sizes=train_sizes)\n",
        "    train_scores_mean = np.mean(train_scores, axis=1)\n",
        "    train_scores_std = np.std(train_scores, axis=1)\n",
        "    test_scores_mean = np.multiply(np.mean(test_scores, axis=1),-1)\n",
        "    test_scores_std = np.std(test_scores, axis=1)\n",
        "\n",
        "\n",
        "    plt.fill_between(train_sizes, train_scores_mean - train_scores_std,\n",
        "                     train_scores_mean + train_scores_std, alpha=0.3,\n",
        "                     color=\"r\")\n",
        "    plt.fill_between(train_sizes, test_scores_mean - test_scores_std,\n",
        "                     test_scores_mean + test_scores_std, alpha=0.1, color=\"g\")\n",
        "    plt.plot(train_sizes, train_scores_mean, 'o-', color=\"r\",\n",
        "             label=\"Training score\")\n",
        "    plt.plot(train_sizes, test_scores_mean, 'o-', color=\"g\",\n",
        "             label=\"Cross-validation score\")\n",
        "\n",
        "    plt.legend(loc=\"best\")\n",
        "    return plt"
      ],
      "execution_count": 0,
      "outputs": []
    },
    {
      "cell_type": "code",
      "metadata": {
        "id": "u86K9RrXAeg1",
        "colab_type": "code",
        "colab": {
          "base_uri": "https://localhost:8080/",
          "height": 318
        },
        "outputId": "010d0193-73c0-45a8-c0b6-a50096c9033f"
      },
      "source": [
        "plot_learning_curve(KNeighborsRegressor(n_neighbors=2), 'n_neighbors=2', \n",
        "                    data[['Car_Name','Year','Present_Price','Kms_Driven',\n",
        "                              'Fuel_Type','Seller_Type','Transmission','Owner']]\n",
        "                        , data['Seller_Type'], cv=3)"
      ],
      "execution_count": 105,
      "outputs": [
        {
          "output_type": "execute_result",
          "data": {
            "text/plain": [
              "<module 'matplotlib.pyplot' from '/usr/local/lib/python3.6/dist-packages/matplotlib/pyplot.py'>"
            ]
          },
          "metadata": {
            "tags": []
          },
          "execution_count": 105
        },
        {
          "output_type": "display_data",
          "data": {
            "image/png": "[encoded data removed]",
            "text/plain": [
              "<Figure size 432x288 with 1 Axes>"
            ]
          },
          "metadata": {
            "tags": [],
            "needs_background": "light"
          }
        }
      ]
    },
    {
      "cell_type": "markdown",
      "metadata": {
        "id": "ff1CTWP8U6ny",
        "colab_type": "text"
      },
      "source": [
        "Перекрестная проверка означает, что оценка снижается, поскольку при регрессии оптимизируется значение ошибки, а не точность."
      ]
    },
    {
      "cell_type": "markdown",
      "metadata": {
        "id": "kmUPsNr7U1RT",
        "colab_type": "text"
      },
      "source": [
        "##Построение кривой валидации - validation_curve"
      ]
    },
    {
      "cell_type": "code",
      "metadata": {
        "id": "TjEnT-X8AnqD",
        "colab_type": "code",
        "colab": {}
      },
      "source": [
        "def plot_validation_curve(estimator, title, X, y, \n",
        "                          param_name, param_range, cv, \n",
        "                          scoring=\"accuracy\"):\n",
        "                                                   \n",
        "    train_scores, test_scores = validation_curve(\n",
        "        estimator, X, y, param_name=param_name, param_range=param_range,\n",
        "        cv=cv, scoring=scoring, n_jobs=1)\n",
        "    train_scores_mean = np.multiply(np.mean(train_scores, axis=1),-1)\n",
        "    train_scores_std = np.std(train_scores, axis=1)\n",
        "    test_scores_mean = np.multiply(np.mean(test_scores, axis=1),-1)\n",
        "    test_scores_std = np.std(test_scores, axis=1)\n",
        "\n",
        "    plt.title(title)\n",
        "    plt.xlabel(param_name)\n",
        "    plt.ylabel(str(scoring))\n",
        "    plt.ylim(0.0, 1.1)\n",
        "    lw = 2\n",
        "    plt.plot(param_range, train_scores_mean, label=\"Training score\",\n",
        "                 color=\"darkorange\", lw=lw)\n",
        "    plt.fill_between(param_range, train_scores_mean - train_scores_std,\n",
        "                     train_scores_mean + train_scores_std, alpha=0.4,\n",
        "                     color=\"darkorange\", lw=lw)\n",
        "    plt.plot(param_range, test_scores_mean, label=\"Cross-validation score\",\n",
        "                 color=\"navy\", lw=lw)\n",
        "    plt.fill_between(param_range, test_scores_mean - test_scores_std,\n",
        "                     test_scores_mean + test_scores_std, alpha=0.2,\n",
        "                     color=\"navy\", lw=lw)\n",
        "    plt.legend(loc=\"best\")\n",
        "    return plt"
      ],
      "execution_count": 0,
      "outputs": []
    },
    {
      "cell_type": "code",
      "metadata": {
        "id": "2x13pjf9B0-2",
        "colab_type": "code",
        "colab": {
          "base_uri": "https://localhost:8080/",
          "height": 318
        },
        "outputId": "ecb7f9c8-428f-402c-f1b8-dda879abe46c"
      },
      "source": [
        "plot_validation_curve(regr_gs.best_estimator_, 'knn', \n",
        "                    data[['Car_Name','Year','Present_Price','Kms_Driven',\n",
        "                              'Fuel_Type','Seller_Type','Transmission','Owner']]\n",
        "                        , data['Seller_Type'], param_name='n_neighbors',\n",
        "                       param_range=n_range,cv=20,scoring='neg_mean_squared_error')"
      ],
      "execution_count": 93,
      "outputs": [
        {
          "output_type": "execute_result",
          "data": {
            "text/plain": [
              "<module 'matplotlib.pyplot' from '/usr/local/lib/python3.6/dist-packages/matplotlib/pyplot.py'>"
            ]
          },
          "metadata": {
            "tags": []
          },
          "execution_count": 93
        },
        {
          "output_type": "display_data",
          "data": {
            "image/png": "[encoded data removed]",
            "text/plain": [
              "<Figure size 432x288 with 1 Axes>"
            ]
          },
          "metadata": {
            "tags": [],
            "needs_background": "light"
          }
        }
      ]
    }
  ]
}